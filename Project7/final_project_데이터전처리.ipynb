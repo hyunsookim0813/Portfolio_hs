{
 "cells": [
  {
   "cell_type": "code",
   "execution_count": 3,
   "metadata": {},
   "outputs": [
    {
     "name": "stdout",
     "output_type": "stream",
     "text": [
      "Collecting pandas\n",
      "  Downloading pandas-1.5.2-cp39-cp39-macosx_11_0_arm64.whl (10.9 MB)\n",
      "\u001b[2K     \u001b[90m━━━━━━━━━━━━━━━━━━━━━━━━━━━━━━━━━━━━━━━━\u001b[0m \u001b[32m10.9/10.9 MB\u001b[0m \u001b[31m11.2 MB/s\u001b[0m eta \u001b[36m0:00:00\u001b[0m00:01\u001b[0m00:01\u001b[0m\n",
      "\u001b[?25hRequirement already satisfied: python-dateutil>=2.8.1 in /Users/parkdahye/opt/miniconda3/lib/python3.9/site-packages (from pandas) (2.8.2)\n",
      "Collecting pytz>=2020.1\n",
      "  Downloading pytz-2022.6-py2.py3-none-any.whl (498 kB)\n",
      "\u001b[2K     \u001b[90m━━━━━━━━━━━━━━━━━━━━━━━━━━━━━━━━━━━━━━━\u001b[0m \u001b[32m498.1/498.1 kB\u001b[0m \u001b[31m8.2 MB/s\u001b[0m eta \u001b[36m0:00:00\u001b[0ma \u001b[36m0:00:01\u001b[0m\n",
      "\u001b[?25hRequirement already satisfied: numpy>=1.20.3 in /Users/parkdahye/opt/miniconda3/lib/python3.9/site-packages (from pandas) (1.23.4)\n",
      "Requirement already satisfied: six>=1.5 in /Users/parkdahye/opt/miniconda3/lib/python3.9/site-packages (from python-dateutil>=2.8.1->pandas) (1.16.0)\n",
      "Installing collected packages: pytz, pandas\n",
      "Successfully installed pandas-1.5.2 pytz-2022.6\n"
     ]
    }
   ],
   "source": [
    "!pip install pandas"
   ]
  },
  {
   "cell_type": "code",
   "execution_count": 1,
   "metadata": {},
   "outputs": [
    {
     "ename": "ImportError",
     "evalue": "Unable to import required dependencies:\nnumpy: \n\nIMPORTANT: PLEASE READ THIS FOR ADVICE ON HOW TO SOLVE THIS ISSUE!\n\nImporting the numpy C-extensions failed. This error can happen for\nmany reasons, often due to issues with your setup or how NumPy was\ninstalled.\n\nWe have compiled some common reasons and troubleshooting tips at:\n\n    https://numpy.org/devdocs/user/troubleshooting-importerror.html\n\nPlease note and check the following:\n\n  * The Python version is: Python3.9 from \"/Users/parkdahye/opt/miniconda3/bin/python\"\n  * The NumPy version is: \"1.23.5\"\n\nand make sure that they are the versions you expect.\nPlease carefully study the documentation linked above for further help.\n\nOriginal error was: dlopen(/Users/parkdahye/opt/miniconda3/lib/python3.9/site-packages/numpy/core/_multiarray_umath.cpython-39-darwin.so, 0x0002): Library not loaded: @rpath/libcblas.3.dylib\n  Referenced from: /Users/parkdahye/opt/miniconda3/lib/python3.9/site-packages/numpy/core/_multiarray_umath.cpython-39-darwin.so\n  Reason: tried: '/Users/parkdahye/opt/miniconda3/lib/python3.9/site-packages/numpy/core/../../../../libcblas.3.dylib' (no such file), '/Users/parkdahye/opt/miniconda3/lib/python3.9/site-packages/numpy/core/../../../../libcblas.3.dylib' (no such file), '/Users/parkdahye/opt/miniconda3/bin/../lib/libcblas.3.dylib' (no such file), '/Users/parkdahye/opt/miniconda3/bin/../lib/libcblas.3.dylib' (no such file), '/usr/local/lib/libcblas.3.dylib' (no such file), '/usr/lib/libcblas.3.dylib' (no such file)\n",
     "output_type": "error",
     "traceback": [
      "\u001b[0;31m---------------------------------------------------------------------------\u001b[0m",
      "\u001b[0;31mImportError\u001b[0m                               Traceback (most recent call last)",
      "Cell \u001b[0;32mIn[1], line 1\u001b[0m\n\u001b[0;32m----> 1\u001b[0m \u001b[39mimport\u001b[39;00m \u001b[39mpandas\u001b[39;00m \u001b[39mas\u001b[39;00m \u001b[39mpd\u001b[39;00m\n",
      "File \u001b[0;32m~/opt/miniconda3/lib/python3.9/site-packages/pandas/__init__.py:16\u001b[0m\n\u001b[1;32m     13\u001b[0m         _missing_dependencies\u001b[39m.\u001b[39mappend(\u001b[39mf\u001b[39m\u001b[39m\"\u001b[39m\u001b[39m{\u001b[39;00m_dependency\u001b[39m}\u001b[39;00m\u001b[39m: \u001b[39m\u001b[39m{\u001b[39;00m_e\u001b[39m}\u001b[39;00m\u001b[39m\"\u001b[39m)\n\u001b[1;32m     15\u001b[0m \u001b[39mif\u001b[39;00m _missing_dependencies:\n\u001b[0;32m---> 16\u001b[0m     \u001b[39mraise\u001b[39;00m \u001b[39mImportError\u001b[39;00m(\n\u001b[1;32m     17\u001b[0m         \u001b[39m\"\u001b[39m\u001b[39mUnable to import required dependencies:\u001b[39m\u001b[39m\\n\u001b[39;00m\u001b[39m\"\u001b[39m \u001b[39m+\u001b[39m \u001b[39m\"\u001b[39m\u001b[39m\\n\u001b[39;00m\u001b[39m\"\u001b[39m\u001b[39m.\u001b[39mjoin(_missing_dependencies)\n\u001b[1;32m     18\u001b[0m     )\n\u001b[1;32m     19\u001b[0m \u001b[39mdel\u001b[39;00m _hard_dependencies, _dependency, _missing_dependencies\n\u001b[1;32m     21\u001b[0m \u001b[39m# numpy compat\u001b[39;00m\n",
      "\u001b[0;31mImportError\u001b[0m: Unable to import required dependencies:\nnumpy: \n\nIMPORTANT: PLEASE READ THIS FOR ADVICE ON HOW TO SOLVE THIS ISSUE!\n\nImporting the numpy C-extensions failed. This error can happen for\nmany reasons, often due to issues with your setup or how NumPy was\ninstalled.\n\nWe have compiled some common reasons and troubleshooting tips at:\n\n    https://numpy.org/devdocs/user/troubleshooting-importerror.html\n\nPlease note and check the following:\n\n  * The Python version is: Python3.9 from \"/Users/parkdahye/opt/miniconda3/bin/python\"\n  * The NumPy version is: \"1.23.5\"\n\nand make sure that they are the versions you expect.\nPlease carefully study the documentation linked above for further help.\n\nOriginal error was: dlopen(/Users/parkdahye/opt/miniconda3/lib/python3.9/site-packages/numpy/core/_multiarray_umath.cpython-39-darwin.so, 0x0002): Library not loaded: @rpath/libcblas.3.dylib\n  Referenced from: /Users/parkdahye/opt/miniconda3/lib/python3.9/site-packages/numpy/core/_multiarray_umath.cpython-39-darwin.so\n  Reason: tried: '/Users/parkdahye/opt/miniconda3/lib/python3.9/site-packages/numpy/core/../../../../libcblas.3.dylib' (no such file), '/Users/parkdahye/opt/miniconda3/lib/python3.9/site-packages/numpy/core/../../../../libcblas.3.dylib' (no such file), '/Users/parkdahye/opt/miniconda3/bin/../lib/libcblas.3.dylib' (no such file), '/Users/parkdahye/opt/miniconda3/bin/../lib/libcblas.3.dylib' (no such file), '/usr/local/lib/libcblas.3.dylib' (no such file), '/usr/lib/libcblas.3.dylib' (no such file)\n"
     ]
    }
   ],
   "source": [
    "import pandas as pd\n"
   ]
  },
  {
   "cell_type": "code",
   "execution_count": null,
   "metadata": {},
   "outputs": [
    {
     "data": {
      "text/html": [
       "<div>\n",
       "<style scoped>\n",
       "    .dataframe tbody tr th:only-of-type {\n",
       "        vertical-align: middle;\n",
       "    }\n",
       "\n",
       "    .dataframe tbody tr th {\n",
       "        vertical-align: top;\n",
       "    }\n",
       "\n",
       "    .dataframe thead th {\n",
       "        text-align: right;\n",
       "    }\n",
       "</style>\n",
       "<table border=\"1\" class=\"dataframe\">\n",
       "  <thead>\n",
       "    <tr style=\"text-align: right;\">\n",
       "      <th></th>\n",
       "      <th>기준_년_코드</th>\n",
       "      <th>기준_분기_코드</th>\n",
       "      <th>상권_구분_코드</th>\n",
       "      <th>상권_구분_코드_명</th>\n",
       "      <th>상권_코드</th>\n",
       "      <th>상권_코드_명</th>\n",
       "      <th>서비스_업종_코드</th>\n",
       "      <th>서비스_업종_코드_명</th>\n",
       "      <th>분기당_매출_금액</th>\n",
       "      <th>분기당_매출_건수</th>\n",
       "      <th>...</th>\n",
       "      <th>시간대_건수~24_매출_건수</th>\n",
       "      <th>남성_매출_건수</th>\n",
       "      <th>여성_매출_건수</th>\n",
       "      <th>연령대_10_매출_건수</th>\n",
       "      <th>연령대_20_매출_건수</th>\n",
       "      <th>연령대_30_매출_건수</th>\n",
       "      <th>연령대_40_매출_건수</th>\n",
       "      <th>연령대_50_매출_건수</th>\n",
       "      <th>연령대_60_이상_매출_건수</th>\n",
       "      <th>점포수</th>\n",
       "    </tr>\n",
       "  </thead>\n",
       "  <tbody>\n",
       "    <tr>\n",
       "      <th>0</th>\n",
       "      <td>2022</td>\n",
       "      <td>2</td>\n",
       "      <td>U</td>\n",
       "      <td>관광특구</td>\n",
       "      <td>1001496</td>\n",
       "      <td>강남 마이스 관광특구</td>\n",
       "      <td>CS300032</td>\n",
       "      <td>가전제품</td>\n",
       "      <td>15623999</td>\n",
       "      <td>130</td>\n",
       "      <td>...</td>\n",
       "      <td>0</td>\n",
       "      <td>0</td>\n",
       "      <td>130</td>\n",
       "      <td>0</td>\n",
       "      <td>0</td>\n",
       "      <td>0</td>\n",
       "      <td>0</td>\n",
       "      <td>0</td>\n",
       "      <td>130</td>\n",
       "      <td>6</td>\n",
       "    </tr>\n",
       "    <tr>\n",
       "      <th>1</th>\n",
       "      <td>2022</td>\n",
       "      <td>2</td>\n",
       "      <td>U</td>\n",
       "      <td>관광특구</td>\n",
       "      <td>1001496</td>\n",
       "      <td>강남 마이스 관광특구</td>\n",
       "      <td>CS300031</td>\n",
       "      <td>가구</td>\n",
       "      <td>8761157030</td>\n",
       "      <td>5252</td>\n",
       "      <td>...</td>\n",
       "      <td>0</td>\n",
       "      <td>1928</td>\n",
       "      <td>3218</td>\n",
       "      <td>0</td>\n",
       "      <td>35</td>\n",
       "      <td>323</td>\n",
       "      <td>1117</td>\n",
       "      <td>1568</td>\n",
       "      <td>2102</td>\n",
       "      <td>6</td>\n",
       "    </tr>\n",
       "    <tr>\n",
       "      <th>2</th>\n",
       "      <td>2022</td>\n",
       "      <td>2</td>\n",
       "      <td>U</td>\n",
       "      <td>관광특구</td>\n",
       "      <td>1001496</td>\n",
       "      <td>강남 마이스 관광특구</td>\n",
       "      <td>CS300028</td>\n",
       "      <td>화초</td>\n",
       "      <td>1002103834</td>\n",
       "      <td>19369</td>\n",
       "      <td>...</td>\n",
       "      <td>667</td>\n",
       "      <td>7517</td>\n",
       "      <td>10367</td>\n",
       "      <td>287</td>\n",
       "      <td>4923</td>\n",
       "      <td>6172</td>\n",
       "      <td>3849</td>\n",
       "      <td>1886</td>\n",
       "      <td>766</td>\n",
       "      <td>5</td>\n",
       "    </tr>\n",
       "    <tr>\n",
       "      <th>3</th>\n",
       "      <td>2022</td>\n",
       "      <td>2</td>\n",
       "      <td>U</td>\n",
       "      <td>관광특구</td>\n",
       "      <td>1001496</td>\n",
       "      <td>강남 마이스 관광특구</td>\n",
       "      <td>CS300026</td>\n",
       "      <td>완구</td>\n",
       "      <td>290779648</td>\n",
       "      <td>2242</td>\n",
       "      <td>...</td>\n",
       "      <td>0</td>\n",
       "      <td>1483</td>\n",
       "      <td>730</td>\n",
       "      <td>30</td>\n",
       "      <td>560</td>\n",
       "      <td>647</td>\n",
       "      <td>742</td>\n",
       "      <td>116</td>\n",
       "      <td>120</td>\n",
       "      <td>6</td>\n",
       "    </tr>\n",
       "    <tr>\n",
       "      <th>4</th>\n",
       "      <td>2022</td>\n",
       "      <td>2</td>\n",
       "      <td>U</td>\n",
       "      <td>관광특구</td>\n",
       "      <td>1001496</td>\n",
       "      <td>강남 마이스 관광특구</td>\n",
       "      <td>CS300024</td>\n",
       "      <td>운동/경기용품</td>\n",
       "      <td>1594646019</td>\n",
       "      <td>2204</td>\n",
       "      <td>...</td>\n",
       "      <td>0</td>\n",
       "      <td>1564</td>\n",
       "      <td>492</td>\n",
       "      <td>0</td>\n",
       "      <td>0</td>\n",
       "      <td>43</td>\n",
       "      <td>278</td>\n",
       "      <td>429</td>\n",
       "      <td>1305</td>\n",
       "      <td>12</td>\n",
       "    </tr>\n",
       "    <tr>\n",
       "      <th>...</th>\n",
       "      <td>...</td>\n",
       "      <td>...</td>\n",
       "      <td>...</td>\n",
       "      <td>...</td>\n",
       "      <td>...</td>\n",
       "      <td>...</td>\n",
       "      <td>...</td>\n",
       "      <td>...</td>\n",
       "      <td>...</td>\n",
       "      <td>...</td>\n",
       "      <td>...</td>\n",
       "      <td>...</td>\n",
       "      <td>...</td>\n",
       "      <td>...</td>\n",
       "      <td>...</td>\n",
       "      <td>...</td>\n",
       "      <td>...</td>\n",
       "      <td>...</td>\n",
       "      <td>...</td>\n",
       "      <td>...</td>\n",
       "      <td>...</td>\n",
       "    </tr>\n",
       "    <tr>\n",
       "      <th>68863</th>\n",
       "      <td>2022</td>\n",
       "      <td>1</td>\n",
       "      <td>A</td>\n",
       "      <td>골목상권</td>\n",
       "      <td>2110001</td>\n",
       "      <td>이북5도청사</td>\n",
       "      <td>CS200001</td>\n",
       "      <td>일반교습학원</td>\n",
       "      <td>46710839</td>\n",
       "      <td>136</td>\n",
       "      <td>...</td>\n",
       "      <td>0</td>\n",
       "      <td>96</td>\n",
       "      <td>40</td>\n",
       "      <td>0</td>\n",
       "      <td>0</td>\n",
       "      <td>0</td>\n",
       "      <td>120</td>\n",
       "      <td>16</td>\n",
       "      <td>0</td>\n",
       "      <td>3</td>\n",
       "    </tr>\n",
       "    <tr>\n",
       "      <th>68864</th>\n",
       "      <td>2022</td>\n",
       "      <td>1</td>\n",
       "      <td>A</td>\n",
       "      <td>골목상권</td>\n",
       "      <td>2110001</td>\n",
       "      <td>이북5도청사</td>\n",
       "      <td>CS100010</td>\n",
       "      <td>커피-음료</td>\n",
       "      <td>20931521</td>\n",
       "      <td>2018</td>\n",
       "      <td>...</td>\n",
       "      <td>0</td>\n",
       "      <td>955</td>\n",
       "      <td>1009</td>\n",
       "      <td>0</td>\n",
       "      <td>382</td>\n",
       "      <td>342</td>\n",
       "      <td>380</td>\n",
       "      <td>581</td>\n",
       "      <td>279</td>\n",
       "      <td>*</td>\n",
       "    </tr>\n",
       "    <tr>\n",
       "      <th>68865</th>\n",
       "      <td>2022</td>\n",
       "      <td>1</td>\n",
       "      <td>A</td>\n",
       "      <td>골목상권</td>\n",
       "      <td>2110001</td>\n",
       "      <td>이북5도청사</td>\n",
       "      <td>CS100009</td>\n",
       "      <td>호프-간이주점</td>\n",
       "      <td>5119924</td>\n",
       "      <td>159</td>\n",
       "      <td>...</td>\n",
       "      <td>18</td>\n",
       "      <td>115</td>\n",
       "      <td>18</td>\n",
       "      <td>0</td>\n",
       "      <td>0</td>\n",
       "      <td>18</td>\n",
       "      <td>18</td>\n",
       "      <td>54</td>\n",
       "      <td>44</td>\n",
       "      <td>*</td>\n",
       "    </tr>\n",
       "    <tr>\n",
       "      <th>68866</th>\n",
       "      <td>2022</td>\n",
       "      <td>1</td>\n",
       "      <td>A</td>\n",
       "      <td>골목상권</td>\n",
       "      <td>2110001</td>\n",
       "      <td>이북5도청사</td>\n",
       "      <td>CS100008</td>\n",
       "      <td>분식전문점</td>\n",
       "      <td>92420017</td>\n",
       "      <td>10197</td>\n",
       "      <td>...</td>\n",
       "      <td>0</td>\n",
       "      <td>5872</td>\n",
       "      <td>3689</td>\n",
       "      <td>26</td>\n",
       "      <td>401</td>\n",
       "      <td>1191</td>\n",
       "      <td>2273</td>\n",
       "      <td>3093</td>\n",
       "      <td>2576</td>\n",
       "      <td>3</td>\n",
       "    </tr>\n",
       "    <tr>\n",
       "      <th>68867</th>\n",
       "      <td>2022</td>\n",
       "      <td>1</td>\n",
       "      <td>A</td>\n",
       "      <td>골목상권</td>\n",
       "      <td>2110001</td>\n",
       "      <td>이북5도청사</td>\n",
       "      <td>CS100001</td>\n",
       "      <td>한식음식점</td>\n",
       "      <td>681810073</td>\n",
       "      <td>26389</td>\n",
       "      <td>...</td>\n",
       "      <td>98</td>\n",
       "      <td>15940</td>\n",
       "      <td>7749</td>\n",
       "      <td>110</td>\n",
       "      <td>926</td>\n",
       "      <td>2092</td>\n",
       "      <td>4267</td>\n",
       "      <td>7202</td>\n",
       "      <td>9093</td>\n",
       "      <td>11</td>\n",
       "    </tr>\n",
       "  </tbody>\n",
       "</table>\n",
       "<p>68868 rows × 80 columns</p>\n",
       "</div>"
      ],
      "text/plain": [
       "       기준_년_코드  기준_분기_코드 상권_구분_코드 상권_구분_코드_명    상권_코드      상권_코드_명 서비스_업종_코드  \\\n",
       "0         2022         2        U       관광특구  1001496  강남 마이스 관광특구  CS300032   \n",
       "1         2022         2        U       관광특구  1001496  강남 마이스 관광특구  CS300031   \n",
       "2         2022         2        U       관광특구  1001496  강남 마이스 관광특구  CS300028   \n",
       "3         2022         2        U       관광특구  1001496  강남 마이스 관광특구  CS300026   \n",
       "4         2022         2        U       관광특구  1001496  강남 마이스 관광특구  CS300024   \n",
       "...        ...       ...      ...        ...      ...          ...       ...   \n",
       "68863     2022         1        A       골목상권  2110001       이북5도청사  CS200001   \n",
       "68864     2022         1        A       골목상권  2110001       이북5도청사  CS100010   \n",
       "68865     2022         1        A       골목상권  2110001       이북5도청사  CS100009   \n",
       "68866     2022         1        A       골목상권  2110001       이북5도청사  CS100008   \n",
       "68867     2022         1        A       골목상권  2110001       이북5도청사  CS100001   \n",
       "\n",
       "      서비스_업종_코드_명   분기당_매출_금액  분기당_매출_건수  ...  시간대_건수~24_매출_건수  남성_매출_건수  \\\n",
       "0            가전제품    15623999        130  ...                0         0   \n",
       "1              가구  8761157030       5252  ...                0      1928   \n",
       "2              화초  1002103834      19369  ...              667      7517   \n",
       "3              완구   290779648       2242  ...                0      1483   \n",
       "4         운동/경기용품  1594646019       2204  ...                0      1564   \n",
       "...           ...         ...        ...  ...              ...       ...   \n",
       "68863      일반교습학원    46710839        136  ...                0        96   \n",
       "68864       커피-음료    20931521       2018  ...                0       955   \n",
       "68865     호프-간이주점     5119924        159  ...               18       115   \n",
       "68866       분식전문점    92420017      10197  ...                0      5872   \n",
       "68867       한식음식점   681810073      26389  ...               98     15940   \n",
       "\n",
       "       여성_매출_건수  연령대_10_매출_건수  연령대_20_매출_건수  연령대_30_매출_건수  연령대_40_매출_건수  \\\n",
       "0           130             0             0             0             0   \n",
       "1          3218             0            35           323          1117   \n",
       "2         10367           287          4923          6172          3849   \n",
       "3           730            30           560           647           742   \n",
       "4           492             0             0            43           278   \n",
       "...         ...           ...           ...           ...           ...   \n",
       "68863        40             0             0             0           120   \n",
       "68864      1009             0           382           342           380   \n",
       "68865        18             0             0            18            18   \n",
       "68866      3689            26           401          1191          2273   \n",
       "68867      7749           110           926          2092          4267   \n",
       "\n",
       "       연령대_50_매출_건수  연령대_60_이상_매출_건수  점포수  \n",
       "0                 0              130    6  \n",
       "1              1568             2102    6  \n",
       "2              1886              766    5  \n",
       "3               116              120    6  \n",
       "4               429             1305   12  \n",
       "...             ...              ...  ...  \n",
       "68863            16                0    3  \n",
       "68864           581              279    *  \n",
       "68865            54               44    *  \n",
       "68866          3093             2576    3  \n",
       "68867          7202             9093   11  \n",
       "\n",
       "[68868 rows x 80 columns]"
      ]
     },
     "execution_count": 2,
     "metadata": {},
     "output_type": "execute_result"
    }
   ],
   "source": [
    "df = pd.read_csv('서울시 우리마을가게 상권분석서비스(상권-추정매출).csv', encoding='cp949')\n",
    "df"
   ]
  },
  {
   "cell_type": "code",
   "execution_count": null,
   "metadata": {},
   "outputs": [
    {
     "data": {
      "text/plain": [
       "Index(['기준_년_코드', '기준_분기_코드', '상권_구분_코드', '상권_구분_코드_명', '상권_코드', '상권_코드_명',\n",
       "       '서비스_업종_코드', '서비스_업종_코드_명', '분기당_매출_금액', '분기당_매출_건수', '주중_매출_비율',\n",
       "       '주말_매출_비율', '월요일_매출_비율', '화요일_매출_비율', '수요일_매출_비율', '목요일_매출_비율',\n",
       "       '금요일_매출_비율', '토요일_매출_비율', '일요일_매출_비율', '시간대_00~06_매출_비율',\n",
       "       '시간대_06~11_매출_비율', '시간대_11~14_매출_비율', '시간대_14~17_매출_비율',\n",
       "       '시간대_17~21_매출_비율', '시간대_21~24_매출_비율', '남성_매출_비율', '여성_매출_비율',\n",
       "       '연령대_10_매출_비율', '연령대_20_매출_비율', '연령대_30_매출_비율', '연령대_40_매출_비율',\n",
       "       '연령대_50_매출_비율', '연령대_60_이상_매출_비율', '주중_매출_금액', '주말_매출_금액', '월요일_매출_금액',\n",
       "       '화요일_매출_금액', '수요일_매출_금액', '목요일_매출_금액', '금요일_매출_금액', '토요일_매출_금액',\n",
       "       '일요일_매출_금액', '시간대_00~06_매출_금액', '시간대_06~11_매출_금액', '시간대_11~14_매출_금액',\n",
       "       '시간대_14~17_매출_금액', '시간대_17~21_매출_금액', '시간대_21~24_매출_금액', '남성_매출_금액',\n",
       "       '여성_매출_금액', '연령대_10_매출_금액', '연령대_20_매출_금액', '연령대_30_매출_금액',\n",
       "       '연령대_40_매출_금액', '연령대_50_매출_금액', '연령대_60_이상_매출_금액', '주중_매출_건수',\n",
       "       '주말_매출_건수', '월요일_매출_건수', '화요일_매출_건수', '수요일_매출_건수', '목요일_매출_건수',\n",
       "       '금요일_매출_건수', '토요일_매출_건수', '일요일_매출_건수', '시간대_건수~06_매출_건수',\n",
       "       '시간대_건수~11_매출_건수', '시간대_건수~14_매출_건수', '시간대_건수~17_매출_건수',\n",
       "       '시간대_건수~21_매출_건수', '시간대_건수~24_매출_건수', '남성_매출_건수', '여성_매출_건수',\n",
       "       '연령대_10_매출_건수', '연령대_20_매출_건수', '연령대_30_매출_건수', '연령대_40_매출_건수',\n",
       "       '연령대_50_매출_건수', '연령대_60_이상_매출_건수', '점포수'],\n",
       "      dtype='object')"
      ]
     },
     "execution_count": 3,
     "metadata": {},
     "output_type": "execute_result"
    }
   ],
   "source": [
    "df.columns"
   ]
  },
  {
   "cell_type": "code",
   "execution_count": null,
   "metadata": {},
   "outputs": [
    {
     "data": {
      "text/plain": [
       "1650"
      ]
     },
     "execution_count": 4,
     "metadata": {},
     "output_type": "execute_result"
    }
   ],
   "source": [
    "len(df['상권_코드'].unique())"
   ]
  },
  {
   "cell_type": "code",
   "execution_count": null,
   "metadata": {},
   "outputs": [
    {
     "data": {
      "text/html": [
       "<div>\n",
       "<style scoped>\n",
       "    .dataframe tbody tr th:only-of-type {\n",
       "        vertical-align: middle;\n",
       "    }\n",
       "\n",
       "    .dataframe tbody tr th {\n",
       "        vertical-align: top;\n",
       "    }\n",
       "\n",
       "    .dataframe thead th {\n",
       "        text-align: right;\n",
       "    }\n",
       "</style>\n",
       "<table border=\"1\" class=\"dataframe\">\n",
       "  <thead>\n",
       "    <tr style=\"text-align: right;\">\n",
       "      <th></th>\n",
       "      <th>기준_년월_코드</th>\n",
       "      <th>상권_구분_코드</th>\n",
       "      <th>상권_구분_코드_명</th>\n",
       "      <th>상권_코드</th>\n",
       "      <th>상권_코드_명</th>\n",
       "      <th>엑스좌표_값</th>\n",
       "      <th>와이좌표_값</th>\n",
       "      <th>시군구_코드</th>\n",
       "      <th>행정동_코드</th>\n",
       "      <th>형태정보</th>\n",
       "    </tr>\n",
       "  </thead>\n",
       "  <tbody>\n",
       "    <tr>\n",
       "      <th>0</th>\n",
       "      <td>202112</td>\n",
       "      <td>A</td>\n",
       "      <td>골목상권</td>\n",
       "      <td>2110753</td>\n",
       "      <td>시흥동 은행나무사거리</td>\n",
       "      <td>191934</td>\n",
       "      <td>438813</td>\n",
       "      <td>11545</td>\n",
       "      <td>11545710</td>\n",
       "      <td>NaN</td>\n",
       "    </tr>\n",
       "    <tr>\n",
       "      <th>1</th>\n",
       "      <td>202112</td>\n",
       "      <td>A</td>\n",
       "      <td>골목상권</td>\n",
       "      <td>2110427</td>\n",
       "      <td>노원 을지대학교병원</td>\n",
       "      <td>206265</td>\n",
       "      <td>459431</td>\n",
       "      <td>11350</td>\n",
       "      <td>11350611</td>\n",
       "      <td>NaN</td>\n",
       "    </tr>\n",
       "    <tr>\n",
       "      <th>2</th>\n",
       "      <td>202112</td>\n",
       "      <td>A</td>\n",
       "      <td>골목상권</td>\n",
       "      <td>2110755</td>\n",
       "      <td>동일여자고등학교</td>\n",
       "      <td>192300</td>\n",
       "      <td>439070</td>\n",
       "      <td>11545</td>\n",
       "      <td>11545680</td>\n",
       "      <td>NaN</td>\n",
       "    </tr>\n",
       "    <tr>\n",
       "      <th>3</th>\n",
       "      <td>202112</td>\n",
       "      <td>A</td>\n",
       "      <td>골목상권</td>\n",
       "      <td>2110739</td>\n",
       "      <td>시흥3동 우편취급국</td>\n",
       "      <td>191289</td>\n",
       "      <td>438014</td>\n",
       "      <td>11545</td>\n",
       "      <td>11545690</td>\n",
       "      <td>NaN</td>\n",
       "    </tr>\n",
       "    <tr>\n",
       "      <th>4</th>\n",
       "      <td>202112</td>\n",
       "      <td>A</td>\n",
       "      <td>골목상권</td>\n",
       "      <td>2111017</td>\n",
       "      <td>송파나루역 3번</td>\n",
       "      <td>210222</td>\n",
       "      <td>445516</td>\n",
       "      <td>11710</td>\n",
       "      <td>11710562</td>\n",
       "      <td>NaN</td>\n",
       "    </tr>\n",
       "    <tr>\n",
       "      <th>...</th>\n",
       "      <td>...</td>\n",
       "      <td>...</td>\n",
       "      <td>...</td>\n",
       "      <td>...</td>\n",
       "      <td>...</td>\n",
       "      <td>...</td>\n",
       "      <td>...</td>\n",
       "      <td>...</td>\n",
       "      <td>...</td>\n",
       "      <td>...</td>\n",
       "    </tr>\n",
       "    <tr>\n",
       "      <th>1666</th>\n",
       "      <td>202112</td>\n",
       "      <td>U</td>\n",
       "      <td>관광특구</td>\n",
       "      <td>1001493</td>\n",
       "      <td>동대문패션타운 관광특구</td>\n",
       "      <td>200974</td>\n",
       "      <td>451975</td>\n",
       "      <td>11140</td>\n",
       "      <td>11140590</td>\n",
       "      <td>NaN</td>\n",
       "    </tr>\n",
       "    <tr>\n",
       "      <th>1667</th>\n",
       "      <td>202112</td>\n",
       "      <td>U</td>\n",
       "      <td>관광특구</td>\n",
       "      <td>1001494</td>\n",
       "      <td>종로?청계 관광특구</td>\n",
       "      <td>199768</td>\n",
       "      <td>452273</td>\n",
       "      <td>11110</td>\n",
       "      <td>11110615</td>\n",
       "      <td>NaN</td>\n",
       "    </tr>\n",
       "    <tr>\n",
       "      <th>1668</th>\n",
       "      <td>202112</td>\n",
       "      <td>U</td>\n",
       "      <td>관광특구</td>\n",
       "      <td>1001495</td>\n",
       "      <td>잠실 관광특구</td>\n",
       "      <td>210191</td>\n",
       "      <td>446339</td>\n",
       "      <td>11710</td>\n",
       "      <td>11710566</td>\n",
       "      <td>NaN</td>\n",
       "    </tr>\n",
       "    <tr>\n",
       "      <th>1669</th>\n",
       "      <td>202112</td>\n",
       "      <td>U</td>\n",
       "      <td>관광특구</td>\n",
       "      <td>1001496</td>\n",
       "      <td>강남 마이스 관광특구</td>\n",
       "      <td>205310</td>\n",
       "      <td>445727</td>\n",
       "      <td>11680</td>\n",
       "      <td>11680580</td>\n",
       "      <td>NaN</td>\n",
       "    </tr>\n",
       "    <tr>\n",
       "      <th>1670</th>\n",
       "      <td>202112</td>\n",
       "      <td>U</td>\n",
       "      <td>관광특구</td>\n",
       "      <td>1001491</td>\n",
       "      <td>이태원 관광특구</td>\n",
       "      <td>199503</td>\n",
       "      <td>448326</td>\n",
       "      <td>11170</td>\n",
       "      <td>11170650</td>\n",
       "      <td>NaN</td>\n",
       "    </tr>\n",
       "  </tbody>\n",
       "</table>\n",
       "<p>1671 rows × 10 columns</p>\n",
       "</div>"
      ],
      "text/plain": [
       "      기준_년월_코드 상권_구분_코드 상권_구분_코드_명    상권_코드       상권_코드_명  엑스좌표_값  와이좌표_값  \\\n",
       "0       202112        A       골목상권  2110753   시흥동 은행나무사거리  191934  438813   \n",
       "1       202112        A       골목상권  2110427    노원 을지대학교병원  206265  459431   \n",
       "2       202112        A       골목상권  2110755      동일여자고등학교  192300  439070   \n",
       "3       202112        A       골목상권  2110739    시흥3동 우편취급국  191289  438014   \n",
       "4       202112        A       골목상권  2111017      송파나루역 3번  210222  445516   \n",
       "...        ...      ...        ...      ...           ...     ...     ...   \n",
       "1666    202112        U       관광특구  1001493  동대문패션타운 관광특구  200974  451975   \n",
       "1667    202112        U       관광특구  1001494    종로?청계 관광특구  199768  452273   \n",
       "1668    202112        U       관광특구  1001495       잠실 관광특구  210191  446339   \n",
       "1669    202112        U       관광특구  1001496   강남 마이스 관광특구  205310  445727   \n",
       "1670    202112        U       관광특구  1001491      이태원 관광특구  199503  448326   \n",
       "\n",
       "      시군구_코드    행정동_코드  형태정보  \n",
       "0      11545  11545710   NaN  \n",
       "1      11350  11350611   NaN  \n",
       "2      11545  11545680   NaN  \n",
       "3      11545  11545690   NaN  \n",
       "4      11710  11710562   NaN  \n",
       "...      ...       ...   ...  \n",
       "1666   11140  11140590   NaN  \n",
       "1667   11110  11110615   NaN  \n",
       "1668   11710  11710566   NaN  \n",
       "1669   11680  11680580   NaN  \n",
       "1670   11170  11170650   NaN  \n",
       "\n",
       "[1671 rows x 10 columns]"
      ]
     },
     "execution_count": 5,
     "metadata": {},
     "output_type": "execute_result"
    }
   ],
   "source": [
    "df2 = pd.read_csv('서울시 우리마을가게 상권분석서비스(상권영역).csv', encoding='cp949')\n",
    "df2"
   ]
  },
  {
   "cell_type": "code",
   "execution_count": null,
   "metadata": {},
   "outputs": [],
   "source": [
    "df_code = list(df['상권_코드'].unique())\n",
    "df2_code = list(df2['상권_코드'].unique())"
   ]
  },
  {
   "cell_type": "code",
   "execution_count": null,
   "metadata": {},
   "outputs": [
    {
     "name": "stdout",
     "output_type": "stream",
     "text": [
      "0\n"
     ]
    }
   ],
   "source": [
    "k = 0\n",
    "for i in df_code:\n",
    "    if i not in df2_code:\n",
    "        print(i)\n",
    "        k+=1\n",
    "print(k)"
   ]
  },
  {
   "cell_type": "markdown",
   "metadata": {},
   "source": [
    "__"
   ]
  },
  {
   "cell_type": "code",
   "execution_count": 2,
   "metadata": {},
   "outputs": [
    {
     "ename": "NameError",
     "evalue": "name 'df' is not defined",
     "output_type": "error",
     "traceback": [
      "\u001b[0;31m---------------------------------------------------------------------------\u001b[0m",
      "\u001b[0;31mNameError\u001b[0m                                 Traceback (most recent call last)",
      "Cell \u001b[0;32mIn[2], line 1\u001b[0m\n\u001b[0;32m----> 1\u001b[0m 상권 \u001b[39m=\u001b[39m \u001b[39mlist\u001b[39m(df[\u001b[39m'\u001b[39m\u001b[39m상권_코드_명\u001b[39m\u001b[39m'\u001b[39m]\u001b[39m.\u001b[39munique())\n\u001b[1;32m      2\u001b[0m \u001b[39mlen\u001b[39m(상권)\n",
      "\u001b[0;31mNameError\u001b[0m: name 'df' is not defined"
     ]
    }
   ],
   "source": [
    "상권 = list(df['상권_코드_명'].unique())\n",
    "len(상권)"
   ]
  },
  {
   "cell_type": "code",
   "execution_count": 3,
   "metadata": {},
   "outputs": [
    {
     "ename": "NameError",
     "evalue": "name 'df2' is not defined",
     "output_type": "error",
     "traceback": [
      "\u001b[0;31m---------------------------------------------------------------------------\u001b[0m",
      "\u001b[0;31mNameError\u001b[0m                                 Traceback (most recent call last)",
      "Cell \u001b[0;32mIn[3], line 1\u001b[0m\n\u001b[0;32m----> 1\u001b[0m \u001b[39mlen\u001b[39m(df2[\u001b[39m'\u001b[39m\u001b[39m상권_코드\u001b[39m\u001b[39m'\u001b[39m]\u001b[39m.\u001b[39munique())\n",
      "\u001b[0;31mNameError\u001b[0m: name 'df2' is not defined"
     ]
    }
   ],
   "source": [
    "len(df2['상권_코드'].unique())"
   ]
  },
  {
   "cell_type": "code",
   "execution_count": 4,
   "metadata": {},
   "outputs": [
    {
     "ename": "NameError",
     "evalue": "name 'df' is not defined",
     "output_type": "error",
     "traceback": [
      "\u001b[0;31m---------------------------------------------------------------------------\u001b[0m",
      "\u001b[0;31mNameError\u001b[0m                                 Traceback (most recent call last)",
      "Cell \u001b[0;32mIn[4], line 1\u001b[0m\n\u001b[0;32m----> 1\u001b[0m df\u001b[39m.\u001b[39mcolumns\n",
      "\u001b[0;31mNameError\u001b[0m: name 'df' is not defined"
     ]
    }
   ],
   "source": [
    "df.columns"
   ]
  },
  {
   "cell_type": "code",
   "execution_count": 5,
   "metadata": {},
   "outputs": [
    {
     "ename": "NameError",
     "evalue": "name 'df2' is not defined",
     "output_type": "error",
     "traceback": [
      "\u001b[0;31m---------------------------------------------------------------------------\u001b[0m",
      "\u001b[0;31mNameError\u001b[0m                                 Traceback (most recent call last)",
      "Cell \u001b[0;32mIn[5], line 1\u001b[0m\n\u001b[0;32m----> 1\u001b[0m df2\u001b[39m.\u001b[39mcolumns\n",
      "\u001b[0;31mNameError\u001b[0m: name 'df2' is not defined"
     ]
    }
   ],
   "source": [
    "df2.columns"
   ]
  },
  {
   "cell_type": "code",
   "execution_count": 6,
   "metadata": {},
   "outputs": [
    {
     "ename": "NameError",
     "evalue": "name 'df' is not defined",
     "output_type": "error",
     "traceback": [
      "\u001b[0;31m---------------------------------------------------------------------------\u001b[0m",
      "\u001b[0;31mNameError\u001b[0m                                 Traceback (most recent call last)",
      "Cell \u001b[0;32mIn[6], line 1\u001b[0m\n\u001b[0;32m----> 1\u001b[0m df3 \u001b[39m=\u001b[39m df\u001b[39m.\u001b[39mmerge(df2, how\u001b[39m=\u001b[39m\u001b[39m'\u001b[39m\u001b[39mleft\u001b[39m\u001b[39m'\u001b[39m, on\u001b[39m=\u001b[39m \u001b[39m'\u001b[39m\u001b[39m상권_코드\u001b[39m\u001b[39m'\u001b[39m)\n\u001b[1;32m      3\u001b[0m df3\u001b[39m.\u001b[39mhead()\n",
      "\u001b[0;31mNameError\u001b[0m: name 'df' is not defined"
     ]
    }
   ],
   "source": [
    "df3 = df.merge(df2, how='left', on= '상권_코드')\n",
    "\n",
    "df3.head()"
   ]
  },
  {
   "cell_type": "code",
   "execution_count": 7,
   "metadata": {},
   "outputs": [
    {
     "name": "stdout",
     "output_type": "stream",
     "text": [
      "Requirement already satisfied: pyproj in /Users/parkdahye/opt/miniconda3/lib/python3.9/site-packages (3.4.1)\n",
      "Requirement already satisfied: certifi in /Users/parkdahye/opt/miniconda3/lib/python3.9/site-packages (from pyproj) (2022.9.24)\n"
     ]
    }
   ],
   "source": [
    "!pip install pyproj"
   ]
  },
  {
   "attachments": {},
   "cell_type": "markdown",
   "metadata": {},
   "source": [
    "### 좌표계 변환해주기 \n"
   ]
  },
  {
   "cell_type": "code",
   "execution_count": 8,
   "metadata": {},
   "outputs": [
    {
     "ename": "ImportError",
     "evalue": "\n\nIMPORTANT: PLEASE READ THIS FOR ADVICE ON HOW TO SOLVE THIS ISSUE!\n\nImporting the numpy C-extensions failed. This error can happen for\nmany reasons, often due to issues with your setup or how NumPy was\ninstalled.\n\nWe have compiled some common reasons and troubleshooting tips at:\n\n    https://numpy.org/devdocs/user/troubleshooting-importerror.html\n\nPlease note and check the following:\n\n  * The Python version is: Python3.9 from \"/Users/parkdahye/opt/miniconda3/bin/python\"\n  * The NumPy version is: \"1.23.5\"\n\nand make sure that they are the versions you expect.\nPlease carefully study the documentation linked above for further help.\n\nOriginal error was: dlopen(/Users/parkdahye/opt/miniconda3/lib/python3.9/site-packages/numpy/core/_multiarray_umath.cpython-39-darwin.so, 0x0002): Library not loaded: @rpath/libcblas.3.dylib\n  Referenced from: /Users/parkdahye/opt/miniconda3/lib/python3.9/site-packages/numpy/core/_multiarray_umath.cpython-39-darwin.so\n  Reason: tried: '/Users/parkdahye/opt/miniconda3/lib/python3.9/site-packages/numpy/core/../../../../libcblas.3.dylib' (no such file), '/Users/parkdahye/opt/miniconda3/lib/python3.9/site-packages/numpy/core/../../../../libcblas.3.dylib' (no such file), '/Users/parkdahye/opt/miniconda3/bin/../lib/libcblas.3.dylib' (no such file), '/Users/parkdahye/opt/miniconda3/bin/../lib/libcblas.3.dylib' (no such file), '/usr/local/lib/libcblas.3.dylib' (no such file), '/usr/lib/libcblas.3.dylib' (no such file)\n",
     "output_type": "error",
     "traceback": [
      "\u001b[0;31m---------------------------------------------------------------------------\u001b[0m",
      "\u001b[0;31mImportError\u001b[0m                               Traceback (most recent call last)",
      "File \u001b[0;32m~/opt/miniconda3/lib/python3.9/site-packages/numpy/core/__init__.py:23\u001b[0m\n\u001b[1;32m     22\u001b[0m \u001b[39mtry\u001b[39;00m:\n\u001b[0;32m---> 23\u001b[0m     \u001b[39mfrom\u001b[39;00m \u001b[39m.\u001b[39;00m \u001b[39mimport\u001b[39;00m multiarray\n\u001b[1;32m     24\u001b[0m \u001b[39mexcept\u001b[39;00m \u001b[39mImportError\u001b[39;00m \u001b[39mas\u001b[39;00m exc:\n",
      "File \u001b[0;32m~/opt/miniconda3/lib/python3.9/site-packages/numpy/core/multiarray.py:10\u001b[0m\n\u001b[1;32m      9\u001b[0m \u001b[39mimport\u001b[39;00m \u001b[39mfunctools\u001b[39;00m\n\u001b[0;32m---> 10\u001b[0m \u001b[39mfrom\u001b[39;00m \u001b[39m.\u001b[39;00m \u001b[39mimport\u001b[39;00m overrides\n\u001b[1;32m     11\u001b[0m \u001b[39mfrom\u001b[39;00m \u001b[39m.\u001b[39;00m \u001b[39mimport\u001b[39;00m _multiarray_umath\n",
      "File \u001b[0;32m~/opt/miniconda3/lib/python3.9/site-packages/numpy/core/overrides.py:6\u001b[0m\n\u001b[1;32m      4\u001b[0m \u001b[39mimport\u001b[39;00m \u001b[39mos\u001b[39;00m\n\u001b[0;32m----> 6\u001b[0m \u001b[39mfrom\u001b[39;00m \u001b[39mnumpy\u001b[39;00m\u001b[39m.\u001b[39;00m\u001b[39mcore\u001b[39;00m\u001b[39m.\u001b[39;00m\u001b[39m_multiarray_umath\u001b[39;00m \u001b[39mimport\u001b[39;00m (\n\u001b[1;32m      7\u001b[0m     add_docstring, implement_array_function, _get_implementing_args)\n\u001b[1;32m      8\u001b[0m \u001b[39mfrom\u001b[39;00m \u001b[39mnumpy\u001b[39;00m\u001b[39m.\u001b[39;00m\u001b[39mcompat\u001b[39;00m\u001b[39m.\u001b[39;00m\u001b[39m_inspect\u001b[39;00m \u001b[39mimport\u001b[39;00m getargspec\n",
      "\u001b[0;31mImportError\u001b[0m: dlopen(/Users/parkdahye/opt/miniconda3/lib/python3.9/site-packages/numpy/core/_multiarray_umath.cpython-39-darwin.so, 0x0002): Library not loaded: @rpath/libcblas.3.dylib\n  Referenced from: /Users/parkdahye/opt/miniconda3/lib/python3.9/site-packages/numpy/core/_multiarray_umath.cpython-39-darwin.so\n  Reason: tried: '/Users/parkdahye/opt/miniconda3/lib/python3.9/site-packages/numpy/core/../../../../libcblas.3.dylib' (no such file), '/Users/parkdahye/opt/miniconda3/lib/python3.9/site-packages/numpy/core/../../../../libcblas.3.dylib' (no such file), '/Users/parkdahye/opt/miniconda3/bin/../lib/libcblas.3.dylib' (no such file), '/Users/parkdahye/opt/miniconda3/bin/../lib/libcblas.3.dylib' (no such file), '/usr/local/lib/libcblas.3.dylib' (no such file), '/usr/lib/libcblas.3.dylib' (no such file)",
      "\nDuring handling of the above exception, another exception occurred:\n",
      "\u001b[0;31mImportError\u001b[0m                               Traceback (most recent call last)",
      "Cell \u001b[0;32mIn[8], line 2\u001b[0m\n\u001b[1;32m      1\u001b[0m \u001b[39mimport\u001b[39;00m \u001b[39mpyproj\u001b[39;00m\n\u001b[0;32m----> 2\u001b[0m \u001b[39mimport\u001b[39;00m \u001b[39mnumpy\u001b[39;00m \u001b[39mas\u001b[39;00m \u001b[39mnp\u001b[39;00m\n\u001b[1;32m      4\u001b[0m \u001b[39mdef\u001b[39;00m \u001b[39mproject_array\u001b[39m(coord, p1_type, p2_type):\n\u001b[1;32m      5\u001b[0m     \u001b[39m\"\"\"\u001b[39;00m\n\u001b[1;32m      6\u001b[0m \u001b[39m    좌표계 변환 함수\u001b[39;00m\n\u001b[1;32m      7\u001b[0m \u001b[39m    - coord: x, y 좌표 정보가 담긴 NumPy Array\u001b[39;00m\n\u001b[1;32m      8\u001b[0m \u001b[39m    - p1_type: 입력 좌표계 정보 ex) epsg:5179\u001b[39;00m\n\u001b[1;32m      9\u001b[0m \u001b[39m    - p2_type: 출력 좌표계 정보 ex) epsg:4326\u001b[39;00m\n\u001b[1;32m     10\u001b[0m \u001b[39m    \"\"\"\u001b[39;00m\n",
      "File \u001b[0;32m~/opt/miniconda3/lib/python3.9/site-packages/numpy/__init__.py:140\u001b[0m\n\u001b[1;32m    137\u001b[0m \u001b[39m# Allow distributors to run custom init code\u001b[39;00m\n\u001b[1;32m    138\u001b[0m \u001b[39mfrom\u001b[39;00m \u001b[39m.\u001b[39;00m \u001b[39mimport\u001b[39;00m _distributor_init\n\u001b[0;32m--> 140\u001b[0m \u001b[39mfrom\u001b[39;00m \u001b[39m.\u001b[39;00m \u001b[39mimport\u001b[39;00m core\n\u001b[1;32m    141\u001b[0m \u001b[39mfrom\u001b[39;00m \u001b[39m.\u001b[39;00m\u001b[39mcore\u001b[39;00m \u001b[39mimport\u001b[39;00m \u001b[39m*\u001b[39m\n\u001b[1;32m    142\u001b[0m \u001b[39mfrom\u001b[39;00m \u001b[39m.\u001b[39;00m \u001b[39mimport\u001b[39;00m compat\n",
      "File \u001b[0;32m~/opt/miniconda3/lib/python3.9/site-packages/numpy/core/__init__.py:49\u001b[0m\n\u001b[1;32m     25\u001b[0m     \u001b[39mimport\u001b[39;00m \u001b[39msys\u001b[39;00m\n\u001b[1;32m     26\u001b[0m     msg \u001b[39m=\u001b[39m \u001b[39m\"\"\"\u001b[39m\n\u001b[1;32m     27\u001b[0m \n\u001b[1;32m     28\u001b[0m \u001b[39mIMPORTANT: PLEASE READ THIS FOR ADVICE ON HOW TO SOLVE THIS ISSUE!\u001b[39m\n\u001b[0;32m   (...)\u001b[0m\n\u001b[1;32m     47\u001b[0m \u001b[39m\"\"\"\u001b[39m \u001b[39m%\u001b[39m (sys\u001b[39m.\u001b[39mversion_info[\u001b[39m0\u001b[39m], sys\u001b[39m.\u001b[39mversion_info[\u001b[39m1\u001b[39m], sys\u001b[39m.\u001b[39mexecutable,\n\u001b[1;32m     48\u001b[0m         __version__, exc)\n\u001b[0;32m---> 49\u001b[0m     \u001b[39mraise\u001b[39;00m \u001b[39mImportError\u001b[39;00m(msg)\n\u001b[1;32m     50\u001b[0m \u001b[39mfinally\u001b[39;00m:\n\u001b[1;32m     51\u001b[0m     \u001b[39mfor\u001b[39;00m envkey \u001b[39min\u001b[39;00m env_added:\n",
      "\u001b[0;31mImportError\u001b[0m: \n\nIMPORTANT: PLEASE READ THIS FOR ADVICE ON HOW TO SOLVE THIS ISSUE!\n\nImporting the numpy C-extensions failed. This error can happen for\nmany reasons, often due to issues with your setup or how NumPy was\ninstalled.\n\nWe have compiled some common reasons and troubleshooting tips at:\n\n    https://numpy.org/devdocs/user/troubleshooting-importerror.html\n\nPlease note and check the following:\n\n  * The Python version is: Python3.9 from \"/Users/parkdahye/opt/miniconda3/bin/python\"\n  * The NumPy version is: \"1.23.5\"\n\nand make sure that they are the versions you expect.\nPlease carefully study the documentation linked above for further help.\n\nOriginal error was: dlopen(/Users/parkdahye/opt/miniconda3/lib/python3.9/site-packages/numpy/core/_multiarray_umath.cpython-39-darwin.so, 0x0002): Library not loaded: @rpath/libcblas.3.dylib\n  Referenced from: /Users/parkdahye/opt/miniconda3/lib/python3.9/site-packages/numpy/core/_multiarray_umath.cpython-39-darwin.so\n  Reason: tried: '/Users/parkdahye/opt/miniconda3/lib/python3.9/site-packages/numpy/core/../../../../libcblas.3.dylib' (no such file), '/Users/parkdahye/opt/miniconda3/lib/python3.9/site-packages/numpy/core/../../../../libcblas.3.dylib' (no such file), '/Users/parkdahye/opt/miniconda3/bin/../lib/libcblas.3.dylib' (no such file), '/Users/parkdahye/opt/miniconda3/bin/../lib/libcblas.3.dylib' (no such file), '/usr/local/lib/libcblas.3.dylib' (no such file), '/usr/lib/libcblas.3.dylib' (no such file)\n"
     ]
    }
   ],
   "source": [
    "import pyproj\n",
    "import numpy as np\n",
    "\n",
    "def project_array(coord, p1_type, p2_type):\n",
    "    \"\"\"\n",
    "    좌표계 변환 함수\n",
    "    - coord: x, y 좌표 정보가 담긴 NumPy Array\n",
    "    - p1_type: 입력 좌표계 정보 ex) epsg:5179\n",
    "    - p2_type: 출력 좌표계 정보 ex) epsg:4326\n",
    "    \"\"\"\n",
    "    p1 = pyproj.Proj(init=p1_type)\n",
    "    p2 = pyproj.Proj(init=p2_type)\n",
    "    fx, fy = pyproj.transform(p1, p2, coord[:, 0], coord[:, 1])\n",
    "    return np.dstack([fx, fy])[0]"
   ]
  },
  {
   "cell_type": "code",
   "execution_count": null,
   "metadata": {},
   "outputs": [
    {
     "data": {
      "text/html": [
       "<div>\n",
       "<style scoped>\n",
       "    .dataframe tbody tr th:only-of-type {\n",
       "        vertical-align: middle;\n",
       "    }\n",
       "\n",
       "    .dataframe tbody tr th {\n",
       "        vertical-align: top;\n",
       "    }\n",
       "\n",
       "    .dataframe thead th {\n",
       "        text-align: right;\n",
       "    }\n",
       "</style>\n",
       "<table border=\"1\" class=\"dataframe\">\n",
       "  <thead>\n",
       "    <tr style=\"text-align: right;\">\n",
       "      <th></th>\n",
       "      <th>엑스좌표_값</th>\n",
       "      <th>와이좌표_값</th>\n",
       "    </tr>\n",
       "  </thead>\n",
       "  <tbody>\n",
       "    <tr>\n",
       "      <th>0</th>\n",
       "      <td>205310</td>\n",
       "      <td>445727</td>\n",
       "    </tr>\n",
       "    <tr>\n",
       "      <th>1</th>\n",
       "      <td>205310</td>\n",
       "      <td>445727</td>\n",
       "    </tr>\n",
       "    <tr>\n",
       "      <th>2</th>\n",
       "      <td>205310</td>\n",
       "      <td>445727</td>\n",
       "    </tr>\n",
       "    <tr>\n",
       "      <th>3</th>\n",
       "      <td>205310</td>\n",
       "      <td>445727</td>\n",
       "    </tr>\n",
       "    <tr>\n",
       "      <th>4</th>\n",
       "      <td>205310</td>\n",
       "      <td>445727</td>\n",
       "    </tr>\n",
       "    <tr>\n",
       "      <th>...</th>\n",
       "      <td>...</td>\n",
       "      <td>...</td>\n",
       "    </tr>\n",
       "    <tr>\n",
       "      <th>68863</th>\n",
       "      <td>196193</td>\n",
       "      <td>456641</td>\n",
       "    </tr>\n",
       "    <tr>\n",
       "      <th>68864</th>\n",
       "      <td>196193</td>\n",
       "      <td>456641</td>\n",
       "    </tr>\n",
       "    <tr>\n",
       "      <th>68865</th>\n",
       "      <td>196193</td>\n",
       "      <td>456641</td>\n",
       "    </tr>\n",
       "    <tr>\n",
       "      <th>68866</th>\n",
       "      <td>196193</td>\n",
       "      <td>456641</td>\n",
       "    </tr>\n",
       "    <tr>\n",
       "      <th>68867</th>\n",
       "      <td>196193</td>\n",
       "      <td>456641</td>\n",
       "    </tr>\n",
       "  </tbody>\n",
       "</table>\n",
       "<p>68868 rows × 2 columns</p>\n",
       "</div>"
      ],
      "text/plain": [
       "       엑스좌표_값  와이좌표_값\n",
       "0      205310  445727\n",
       "1      205310  445727\n",
       "2      205310  445727\n",
       "3      205310  445727\n",
       "4      205310  445727\n",
       "...       ...     ...\n",
       "68863  196193  456641\n",
       "68864  196193  456641\n",
       "68865  196193  456641\n",
       "68866  196193  456641\n",
       "68867  196193  456641\n",
       "\n",
       "[68868 rows x 2 columns]"
      ]
     },
     "execution_count": 16,
     "metadata": {},
     "output_type": "execute_result"
    }
   ],
   "source": [
    "geo = df3[['엑스좌표_값', '와이좌표_값']]\n",
    "geo"
   ]
  },
  {
   "cell_type": "code",
   "execution_count": 9,
   "metadata": {},
   "outputs": [
    {
     "ename": "NameError",
     "evalue": "name 'pd' is not defined",
     "output_type": "error",
     "traceback": [
      "\u001b[0;31m---------------------------------------------------------------------------\u001b[0m",
      "\u001b[0;31mNameError\u001b[0m                                 Traceback (most recent call last)",
      "Cell \u001b[0;32mIn[9], line 1\u001b[0m\n\u001b[0;32m----> 1\u001b[0m geo[\u001b[39m'\u001b[39m\u001b[39m엑스좌표_값\u001b[39m\u001b[39m'\u001b[39m] \u001b[39m=\u001b[39m pd\u001b[39m.\u001b[39mto_numeric(geo[\u001b[39m'\u001b[39m\u001b[39m엑스좌표_값\u001b[39m\u001b[39m'\u001b[39m], errors\u001b[39m=\u001b[39m\u001b[39m\"\u001b[39m\u001b[39mcoerce\u001b[39m\u001b[39m\"\u001b[39m)\n\u001b[1;32m      2\u001b[0m geo[\u001b[39m'\u001b[39m\u001b[39m와이좌표_값\u001b[39m\u001b[39m'\u001b[39m] \u001b[39m=\u001b[39m pd\u001b[39m.\u001b[39mto_numeric(geo[\u001b[39m'\u001b[39m\u001b[39m와이좌표_값\u001b[39m\u001b[39m'\u001b[39m], errors\u001b[39m=\u001b[39m\u001b[39m\"\u001b[39m\u001b[39mcoerce\u001b[39m\u001b[39m\"\u001b[39m)\n\u001b[1;32m      4\u001b[0m geo \u001b[39m=\u001b[39m geo\u001b[39m.\u001b[39mdropna()\n",
      "\u001b[0;31mNameError\u001b[0m: name 'pd' is not defined"
     ]
    }
   ],
   "source": [
    "geo['엑스좌표_값'] = pd.to_numeric(geo['엑스좌표_값'], errors=\"coerce\")\n",
    "geo['와이좌표_값'] = pd.to_numeric(geo['와이좌표_값'], errors=\"coerce\")\n",
    "\n",
    "geo = geo.dropna()\n",
    "geo.index=range(len(geo))\n",
    "geo.tail()"
   ]
  },
  {
   "cell_type": "code",
   "execution_count": null,
   "metadata": {},
   "outputs": [
    {
     "data": {
      "text/plain": [
       "array([[205310, 445727],\n",
       "       [205310, 445727],\n",
       "       [205310, 445727],\n",
       "       ...,\n",
       "       [196193, 456641],\n",
       "       [196193, 456641],\n",
       "       [196193, 456641]])"
      ]
     },
     "execution_count": 18,
     "metadata": {},
     "output_type": "execute_result"
    }
   ],
   "source": [
    "# DataFrame -> NumPy Array 변환\n",
    "coord = np.array(geo)\n",
    "coord"
   ]
  },
  {
   "cell_type": "code",
   "execution_count": 10,
   "metadata": {},
   "outputs": [
    {
     "ename": "NameError",
     "evalue": "name 'project_array' is not defined",
     "output_type": "error",
     "traceback": [
      "\u001b[0;31m---------------------------------------------------------------------------\u001b[0m",
      "\u001b[0;31mNameError\u001b[0m                                 Traceback (most recent call last)",
      "Cell \u001b[0;32mIn[10], line 6\u001b[0m\n\u001b[1;32m      3\u001b[0m p2_type \u001b[39m=\u001b[39m \u001b[39m\"\u001b[39m\u001b[39mepsg:4326\u001b[39m\u001b[39m\"\u001b[39m\n\u001b[1;32m      5\u001b[0m \u001b[39m# project_array() 함수 실행\u001b[39;00m\n\u001b[0;32m----> 6\u001b[0m result \u001b[39m=\u001b[39m project_array(coord, p1_type, p2_type)\n\u001b[1;32m      7\u001b[0m result\n",
      "\u001b[0;31mNameError\u001b[0m: name 'project_array' is not defined"
     ]
    }
   ],
   "source": [
    "# 좌표계 정보 설정EPSG5181\n",
    "p1_type = \"epsg:5181\"\n",
    "p2_type = \"epsg:4326\"\n",
    "\n",
    "# project_array() 함수 실행\n",
    "result = project_array(coord, p1_type, p2_type)\n",
    "result"
   ]
  },
  {
   "cell_type": "code",
   "execution_count": 20,
   "metadata": {},
   "outputs": [],
   "source": [
    "df3['경도'] = result[:, 0]\n",
    "df3['위도'] = result[:, 1]"
   ]
  },
  {
   "cell_type": "code",
   "execution_count": 21,
   "metadata": {},
   "outputs": [
    {
     "data": {
      "text/html": [
       "<div>\n",
       "<style scoped>\n",
       "    .dataframe tbody tr th:only-of-type {\n",
       "        vertical-align: middle;\n",
       "    }\n",
       "\n",
       "    .dataframe tbody tr th {\n",
       "        vertical-align: top;\n",
       "    }\n",
       "\n",
       "    .dataframe thead th {\n",
       "        text-align: right;\n",
       "    }\n",
       "</style>\n",
       "<table border=\"1\" class=\"dataframe\">\n",
       "  <thead>\n",
       "    <tr style=\"text-align: right;\">\n",
       "      <th></th>\n",
       "      <th>기준_년_코드</th>\n",
       "      <th>기준_분기_코드</th>\n",
       "      <th>상권_구분_코드_x</th>\n",
       "      <th>상권_구분_코드_명_x</th>\n",
       "      <th>상권_코드</th>\n",
       "      <th>상권_코드_명_x</th>\n",
       "      <th>서비스_업종_코드</th>\n",
       "      <th>서비스_업종_코드_명</th>\n",
       "      <th>분기당_매출_금액</th>\n",
       "      <th>분기당_매출_건수</th>\n",
       "      <th>...</th>\n",
       "      <th>상권_구분_코드_y</th>\n",
       "      <th>상권_구분_코드_명_y</th>\n",
       "      <th>상권_코드_명_y</th>\n",
       "      <th>엑스좌표_값</th>\n",
       "      <th>와이좌표_값</th>\n",
       "      <th>시군구_코드</th>\n",
       "      <th>행정동_코드</th>\n",
       "      <th>형태정보</th>\n",
       "      <th>경도</th>\n",
       "      <th>위도</th>\n",
       "    </tr>\n",
       "  </thead>\n",
       "  <tbody>\n",
       "    <tr>\n",
       "      <th>0</th>\n",
       "      <td>2022</td>\n",
       "      <td>2</td>\n",
       "      <td>U</td>\n",
       "      <td>관광특구</td>\n",
       "      <td>1001496</td>\n",
       "      <td>강남 마이스 관광특구</td>\n",
       "      <td>CS300032</td>\n",
       "      <td>가전제품</td>\n",
       "      <td>15623999</td>\n",
       "      <td>130</td>\n",
       "      <td>...</td>\n",
       "      <td>U</td>\n",
       "      <td>관광특구</td>\n",
       "      <td>강남 마이스 관광특구</td>\n",
       "      <td>205310</td>\n",
       "      <td>445727</td>\n",
       "      <td>11680</td>\n",
       "      <td>11680580</td>\n",
       "      <td>NaN</td>\n",
       "      <td>127.060059</td>\n",
       "      <td>37.511003</td>\n",
       "    </tr>\n",
       "    <tr>\n",
       "      <th>1</th>\n",
       "      <td>2022</td>\n",
       "      <td>2</td>\n",
       "      <td>U</td>\n",
       "      <td>관광특구</td>\n",
       "      <td>1001496</td>\n",
       "      <td>강남 마이스 관광특구</td>\n",
       "      <td>CS300031</td>\n",
       "      <td>가구</td>\n",
       "      <td>8761157030</td>\n",
       "      <td>5252</td>\n",
       "      <td>...</td>\n",
       "      <td>U</td>\n",
       "      <td>관광특구</td>\n",
       "      <td>강남 마이스 관광특구</td>\n",
       "      <td>205310</td>\n",
       "      <td>445727</td>\n",
       "      <td>11680</td>\n",
       "      <td>11680580</td>\n",
       "      <td>NaN</td>\n",
       "      <td>127.060059</td>\n",
       "      <td>37.511003</td>\n",
       "    </tr>\n",
       "    <tr>\n",
       "      <th>2</th>\n",
       "      <td>2022</td>\n",
       "      <td>2</td>\n",
       "      <td>U</td>\n",
       "      <td>관광특구</td>\n",
       "      <td>1001496</td>\n",
       "      <td>강남 마이스 관광특구</td>\n",
       "      <td>CS300028</td>\n",
       "      <td>화초</td>\n",
       "      <td>1002103834</td>\n",
       "      <td>19369</td>\n",
       "      <td>...</td>\n",
       "      <td>U</td>\n",
       "      <td>관광특구</td>\n",
       "      <td>강남 마이스 관광특구</td>\n",
       "      <td>205310</td>\n",
       "      <td>445727</td>\n",
       "      <td>11680</td>\n",
       "      <td>11680580</td>\n",
       "      <td>NaN</td>\n",
       "      <td>127.060059</td>\n",
       "      <td>37.511003</td>\n",
       "    </tr>\n",
       "    <tr>\n",
       "      <th>3</th>\n",
       "      <td>2022</td>\n",
       "      <td>2</td>\n",
       "      <td>U</td>\n",
       "      <td>관광특구</td>\n",
       "      <td>1001496</td>\n",
       "      <td>강남 마이스 관광특구</td>\n",
       "      <td>CS300026</td>\n",
       "      <td>완구</td>\n",
       "      <td>290779648</td>\n",
       "      <td>2242</td>\n",
       "      <td>...</td>\n",
       "      <td>U</td>\n",
       "      <td>관광특구</td>\n",
       "      <td>강남 마이스 관광특구</td>\n",
       "      <td>205310</td>\n",
       "      <td>445727</td>\n",
       "      <td>11680</td>\n",
       "      <td>11680580</td>\n",
       "      <td>NaN</td>\n",
       "      <td>127.060059</td>\n",
       "      <td>37.511003</td>\n",
       "    </tr>\n",
       "    <tr>\n",
       "      <th>4</th>\n",
       "      <td>2022</td>\n",
       "      <td>2</td>\n",
       "      <td>U</td>\n",
       "      <td>관광특구</td>\n",
       "      <td>1001496</td>\n",
       "      <td>강남 마이스 관광특구</td>\n",
       "      <td>CS300024</td>\n",
       "      <td>운동/경기용품</td>\n",
       "      <td>1594646019</td>\n",
       "      <td>2204</td>\n",
       "      <td>...</td>\n",
       "      <td>U</td>\n",
       "      <td>관광특구</td>\n",
       "      <td>강남 마이스 관광특구</td>\n",
       "      <td>205310</td>\n",
       "      <td>445727</td>\n",
       "      <td>11680</td>\n",
       "      <td>11680580</td>\n",
       "      <td>NaN</td>\n",
       "      <td>127.060059</td>\n",
       "      <td>37.511003</td>\n",
       "    </tr>\n",
       "  </tbody>\n",
       "</table>\n",
       "<p>5 rows × 91 columns</p>\n",
       "</div>"
      ],
      "text/plain": [
       "   기준_년_코드  기준_분기_코드 상권_구분_코드_x 상권_구분_코드_명_x    상권_코드    상권_코드_명_x 서비스_업종_코드  \\\n",
       "0     2022         2          U         관광특구  1001496  강남 마이스 관광특구  CS300032   \n",
       "1     2022         2          U         관광특구  1001496  강남 마이스 관광특구  CS300031   \n",
       "2     2022         2          U         관광특구  1001496  강남 마이스 관광특구  CS300028   \n",
       "3     2022         2          U         관광특구  1001496  강남 마이스 관광특구  CS300026   \n",
       "4     2022         2          U         관광특구  1001496  강남 마이스 관광특구  CS300024   \n",
       "\n",
       "  서비스_업종_코드_명   분기당_매출_금액  분기당_매출_건수  ...  상권_구분_코드_y  상권_구분_코드_명_y  \\\n",
       "0        가전제품    15623999        130  ...           U          관광특구   \n",
       "1          가구  8761157030       5252  ...           U          관광특구   \n",
       "2          화초  1002103834      19369  ...           U          관광특구   \n",
       "3          완구   290779648       2242  ...           U          관광특구   \n",
       "4     운동/경기용품  1594646019       2204  ...           U          관광특구   \n",
       "\n",
       "     상권_코드_명_y  엑스좌표_값  와이좌표_값  시군구_코드    행정동_코드  형태정보          경도         위도  \n",
       "0  강남 마이스 관광특구  205310  445727   11680  11680580   NaN  127.060059  37.511003  \n",
       "1  강남 마이스 관광특구  205310  445727   11680  11680580   NaN  127.060059  37.511003  \n",
       "2  강남 마이스 관광특구  205310  445727   11680  11680580   NaN  127.060059  37.511003  \n",
       "3  강남 마이스 관광특구  205310  445727   11680  11680580   NaN  127.060059  37.511003  \n",
       "4  강남 마이스 관광특구  205310  445727   11680  11680580   NaN  127.060059  37.511003  \n",
       "\n",
       "[5 rows x 91 columns]"
      ]
     },
     "execution_count": 21,
     "metadata": {},
     "output_type": "execute_result"
    }
   ],
   "source": [
    "df3.head()"
   ]
  },
  {
   "cell_type": "code",
   "execution_count": 16,
   "metadata": {},
   "outputs": [
    {
     "name": "stdout",
     "output_type": "stream",
     "text": [
      "Requirement already satisfied: geopy in /Users/parkdahye/opt/miniconda3/lib/python3.9/site-packages (2.3.0)\n",
      "Requirement already satisfied: geographiclib<3,>=1.52 in /Users/parkdahye/opt/miniconda3/lib/python3.9/site-packages (from geopy) (2.0)\n"
     ]
    }
   ],
   "source": [
    "! pip install geopy"
   ]
  },
  {
   "cell_type": "code",
   "execution_count": 30,
   "metadata": {},
   "outputs": [
    {
     "name": "stdout",
     "output_type": "stream",
     "text": [
      "37.511002913176945 127.06005939988393\n"
     ]
    }
   ],
   "source": [
    "x = df3.loc[0, '위도'] \n",
    "y = df3.loc[0, '경도'] \n",
    "print(x, y)"
   ]
  },
  {
   "cell_type": "code",
   "execution_count": 105,
   "metadata": {},
   "outputs": [],
   "source": [
    "# 가입 없이 좌표->주소 변환\n",
    "from geopy.geocoders import Nominatim\n",
    "\n",
    "def geocoding_reverse(lat, lng): \n",
    "    geolocoder = Nominatim(user_agent = 'South Korea', timeout=None)\n",
    "    lat_lng_str = str(lat) + ', ' + str(lng) \n",
    "    address = geolocoder.reverse(lat_lng_str)\n",
    "\n",
    "    return address\n",
    "\n",
    "\n",
    "def geocoding_reverse_str(lat_lng_str): \n",
    "    geolocoder = Nominatim(user_agent = 'South Korea', timeout=None)\n",
    "    address = geolocoder.reverse(lat_lng_str)\n",
    "\n",
    "    return address\n",
    "\n",
    "# address = geocoding_reverse('36.5760732781656, 128.15935928504484')\n",
    "# print(address)"
   ]
  },
  {
   "cell_type": "code",
   "execution_count": 31,
   "metadata": {},
   "outputs": [
    {
     "data": {
      "text/plain": [
       "'강남구'"
      ]
     },
     "execution_count": 31,
     "metadata": {},
     "output_type": "execute_result"
    }
   ],
   "source": [
    "# 카카오API를 사용하여 좌표->주소 변환\n",
    "import requests, json, pprint\n",
    "\n",
    "def get_address_str(latlng):\n",
    "    lat = latlng.split(', ')[0]\n",
    "    lng = latlng.split(', ')[1]\n",
    "    url = \"https://dapi.kakao.com/v2/local/geo/coord2regioncode.json?x=\"+lng+\"&y=\"+lat\n",
    "    # 'KaKaoAK '는 그대로 두시고 개인키만 지우고 입력해 주세요.\n",
    "    # ex) KakaoAK 6af8d4826f0e56c54bc794fa8a294\n",
    "    headers = {\"Authorization\": \"KakaoAK 2931a196f8f4c4b420c8fc087ebb7607\"}\n",
    "    api_json = requests.get(url, headers=headers)\n",
    "    full_address = json.loads(api_json.text)\n",
    "    sigungu  =  full_address['documents'][0]['region_2depth_name']\n",
    "\n",
    "    return sigungu\n",
    "\n",
    "\n",
    "def get_address(lat, lng):\n",
    "    url = \"https://dapi.kakao.com/v2/local/geo/coord2regioncode.json?x=\"+lng+\"&y=\"+lat\n",
    "    # 'KaKaoAK '는 그대로 두시고 개인키만 지우고 입력해 주세요.\n",
    "    # ex) KakaoAK 6af8d4826f0e56c54bc794fa8a294\n",
    "    headers = {\"Authorization\": \"KakaoAK 2931a196f8f4c4b420c8fc087ebb7607\"}\n",
    "    api_json = requests.get(url, headers=headers)\n",
    "    full_address = json.loads(api_json.text)\n",
    "    sigungu  =  full_address['documents'][0]['region_2depth_name']\n",
    "\n",
    "    return sigungu\n",
    "\n",
    "# full_address = get_address('36.5760732781656', '128.15935928504484')\n",
    "# pprint.pprint(full_address)\n",
    "# full_address['documents'][0]['region_2depth_name']\n",
    "\n",
    "get_address('36.5760732781656', '128.15935928504484')\n",
    "get_address_str(str(x)+', '+str(y))\n"
   ]
  },
  {
   "cell_type": "code",
   "execution_count": 32,
   "metadata": {},
   "outputs": [
    {
     "data": {
      "text/html": [
       "<div>\n",
       "<style scoped>\n",
       "    .dataframe tbody tr th:only-of-type {\n",
       "        vertical-align: middle;\n",
       "    }\n",
       "\n",
       "    .dataframe tbody tr th {\n",
       "        vertical-align: top;\n",
       "    }\n",
       "\n",
       "    .dataframe thead th {\n",
       "        text-align: right;\n",
       "    }\n",
       "</style>\n",
       "<table border=\"1\" class=\"dataframe\">\n",
       "  <thead>\n",
       "    <tr style=\"text-align: right;\">\n",
       "      <th></th>\n",
       "      <th>위도</th>\n",
       "      <th>경도</th>\n",
       "    </tr>\n",
       "  </thead>\n",
       "  <tbody>\n",
       "    <tr>\n",
       "      <th>0</th>\n",
       "      <td>37.511003</td>\n",
       "      <td>127.060059</td>\n",
       "    </tr>\n",
       "    <tr>\n",
       "      <th>1</th>\n",
       "      <td>37.511003</td>\n",
       "      <td>127.060059</td>\n",
       "    </tr>\n",
       "    <tr>\n",
       "      <th>2</th>\n",
       "      <td>37.511003</td>\n",
       "      <td>127.060059</td>\n",
       "    </tr>\n",
       "    <tr>\n",
       "      <th>3</th>\n",
       "      <td>37.511003</td>\n",
       "      <td>127.060059</td>\n",
       "    </tr>\n",
       "    <tr>\n",
       "      <th>4</th>\n",
       "      <td>37.511003</td>\n",
       "      <td>127.060059</td>\n",
       "    </tr>\n",
       "    <tr>\n",
       "      <th>...</th>\n",
       "      <td>...</td>\n",
       "      <td>...</td>\n",
       "    </tr>\n",
       "    <tr>\n",
       "      <th>68863</th>\n",
       "      <td>37.609345</td>\n",
       "      <td>126.956884</td>\n",
       "    </tr>\n",
       "    <tr>\n",
       "      <th>68864</th>\n",
       "      <td>37.609345</td>\n",
       "      <td>126.956884</td>\n",
       "    </tr>\n",
       "    <tr>\n",
       "      <th>68865</th>\n",
       "      <td>37.609345</td>\n",
       "      <td>126.956884</td>\n",
       "    </tr>\n",
       "    <tr>\n",
       "      <th>68866</th>\n",
       "      <td>37.609345</td>\n",
       "      <td>126.956884</td>\n",
       "    </tr>\n",
       "    <tr>\n",
       "      <th>68867</th>\n",
       "      <td>37.609345</td>\n",
       "      <td>126.956884</td>\n",
       "    </tr>\n",
       "  </tbody>\n",
       "</table>\n",
       "<p>68868 rows × 2 columns</p>\n",
       "</div>"
      ],
      "text/plain": [
       "              위도          경도\n",
       "0      37.511003  127.060059\n",
       "1      37.511003  127.060059\n",
       "2      37.511003  127.060059\n",
       "3      37.511003  127.060059\n",
       "4      37.511003  127.060059\n",
       "...          ...         ...\n",
       "68863  37.609345  126.956884\n",
       "68864  37.609345  126.956884\n",
       "68865  37.609345  126.956884\n",
       "68866  37.609345  126.956884\n",
       "68867  37.609345  126.956884\n",
       "\n",
       "[68868 rows x 2 columns]"
      ]
     },
     "execution_count": 32,
     "metadata": {},
     "output_type": "execute_result"
    }
   ],
   "source": [
    "df_tem = df3[['위도', '경도']]\n",
    "df_tem"
   ]
  },
  {
   "cell_type": "code",
   "execution_count": 33,
   "metadata": {},
   "outputs": [
    {
     "name": "stderr",
     "output_type": "stream",
     "text": [
      "/var/folders/g8/bg0h24y523q9pwn2yvvhsc900000gn/T/ipykernel_2207/3626235792.py:1: SettingWithCopyWarning: \n",
      "A value is trying to be set on a copy of a slice from a DataFrame.\n",
      "Try using .loc[row_indexer,col_indexer] = value instead\n",
      "\n",
      "See the caveats in the documentation: https://pandas.pydata.org/pandas-docs/stable/user_guide/indexing.html#returning-a-view-versus-a-copy\n",
      "  df_tem['위도'] = df_tem['위도'].astype(object)\n",
      "/var/folders/g8/bg0h24y523q9pwn2yvvhsc900000gn/T/ipykernel_2207/3626235792.py:2: SettingWithCopyWarning: \n",
      "A value is trying to be set on a copy of a slice from a DataFrame.\n",
      "Try using .loc[row_indexer,col_indexer] = value instead\n",
      "\n",
      "See the caveats in the documentation: https://pandas.pydata.org/pandas-docs/stable/user_guide/indexing.html#returning-a-view-versus-a-copy\n",
      "  df_tem['경도'] = df_tem['경도'].astype(object)\n"
     ]
    }
   ],
   "source": [
    "df_tem['위도'] = df_tem['위도'].astype(object)\n",
    "df_tem['경도'] = df_tem['경도'].astype(object)"
   ]
  },
  {
   "cell_type": "code",
   "execution_count": 34,
   "metadata": {},
   "outputs": [
    {
     "name": "stdout",
     "output_type": "stream",
     "text": [
      "<class 'pandas.core.frame.DataFrame'>\n",
      "Int64Index: 68868 entries, 0 to 68867\n",
      "Data columns (total 2 columns):\n",
      " #   Column  Non-Null Count  Dtype \n",
      "---  ------  --------------  ----- \n",
      " 0   위도      68868 non-null  object\n",
      " 1   경도      68868 non-null  object\n",
      "dtypes: object(2)\n",
      "memory usage: 3.6+ MB\n"
     ]
    }
   ],
   "source": [
    "df_tem.info()"
   ]
  },
  {
   "cell_type": "code",
   "execution_count": 35,
   "metadata": {},
   "outputs": [],
   "source": [
    "def strplus(a, b):\n",
    "    re = str(a) + ', ' + str(b)\n",
    "    return re"
   ]
  },
  {
   "cell_type": "code",
   "execution_count": 36,
   "metadata": {},
   "outputs": [
    {
     "name": "stderr",
     "output_type": "stream",
     "text": [
      "/var/folders/g8/bg0h24y523q9pwn2yvvhsc900000gn/T/ipykernel_2207/3824574207.py:1: SettingWithCopyWarning: \n",
      "A value is trying to be set on a copy of a slice from a DataFrame.\n",
      "Try using .loc[row_indexer,col_indexer] = value instead\n",
      "\n",
      "See the caveats in the documentation: https://pandas.pydata.org/pandas-docs/stable/user_guide/indexing.html#returning-a-view-versus-a-copy\n",
      "  df_tem['위도경도'] = df_tem.apply(lambda x : strplus(x['위도'], x['경도']), axis=1)\n"
     ]
    }
   ],
   "source": [
    "df_tem['위도경도'] = df_tem.apply(lambda x : strplus(x['위도'], x['경도']), axis=1)"
   ]
  },
  {
   "cell_type": "code",
   "execution_count": 37,
   "metadata": {},
   "outputs": [
    {
     "data": {
      "text/plain": [
       "array(['37.511002913176945, 127.06005939988393',\n",
       "       '37.51647607488473, 127.11527494608232',\n",
       "       '37.56999760824763, 126.9973738673892', ...,\n",
       "       '37.575540011184756, 126.95720897970612',\n",
       "       '37.609345109665576, 126.95688383119668',\n",
       "       '37.569610190233455, 126.9978719380448'], dtype=object)"
      ]
     },
     "execution_count": 37,
     "metadata": {},
     "output_type": "execute_result"
    }
   ],
   "source": [
    "lanlon = df_tem['위도경도'].unique()\n",
    "lanlon"
   ]
  },
  {
   "cell_type": "code",
   "execution_count": 38,
   "metadata": {},
   "outputs": [],
   "source": [
    "lanlon_df = pd.DataFrame()\n",
    "lanlon_df['위도경도'] = lanlon"
   ]
  },
  {
   "cell_type": "code",
   "execution_count": 39,
   "metadata": {},
   "outputs": [
    {
     "data": {
      "text/html": [
       "<div>\n",
       "<style scoped>\n",
       "    .dataframe tbody tr th:only-of-type {\n",
       "        vertical-align: middle;\n",
       "    }\n",
       "\n",
       "    .dataframe tbody tr th {\n",
       "        vertical-align: top;\n",
       "    }\n",
       "\n",
       "    .dataframe thead th {\n",
       "        text-align: right;\n",
       "    }\n",
       "</style>\n",
       "<table border=\"1\" class=\"dataframe\">\n",
       "  <thead>\n",
       "    <tr style=\"text-align: right;\">\n",
       "      <th></th>\n",
       "      <th>위도경도</th>\n",
       "    </tr>\n",
       "  </thead>\n",
       "  <tbody>\n",
       "    <tr>\n",
       "      <th>0</th>\n",
       "      <td>37.511002913176945, 127.06005939988393</td>\n",
       "    </tr>\n",
       "    <tr>\n",
       "      <th>1</th>\n",
       "      <td>37.51647607488473, 127.11527494608232</td>\n",
       "    </tr>\n",
       "    <tr>\n",
       "      <th>2</th>\n",
       "      <td>37.56999760824763, 126.9973738673892</td>\n",
       "    </tr>\n",
       "    <tr>\n",
       "      <th>3</th>\n",
       "      <td>37.567312155725965, 127.0110248333143</td>\n",
       "    </tr>\n",
       "    <tr>\n",
       "      <th>4</th>\n",
       "      <td>37.564148780123666, 126.98185620077636</td>\n",
       "    </tr>\n",
       "    <tr>\n",
       "      <th>...</th>\n",
       "      <td>...</td>\n",
       "    </tr>\n",
       "    <tr>\n",
       "      <th>1645</th>\n",
       "      <td>37.57328868813124, 126.96054967804893</td>\n",
       "    </tr>\n",
       "    <tr>\n",
       "      <th>1646</th>\n",
       "      <td>37.604489459823775, 126.95880051845464</td>\n",
       "    </tr>\n",
       "    <tr>\n",
       "      <th>1647</th>\n",
       "      <td>37.575540011184756, 126.95720897970612</td>\n",
       "    </tr>\n",
       "    <tr>\n",
       "      <th>1648</th>\n",
       "      <td>37.609345109665576, 126.95688383119668</td>\n",
       "    </tr>\n",
       "    <tr>\n",
       "      <th>1649</th>\n",
       "      <td>37.569610190233455, 126.9978719380448</td>\n",
       "    </tr>\n",
       "  </tbody>\n",
       "</table>\n",
       "<p>1650 rows × 1 columns</p>\n",
       "</div>"
      ],
      "text/plain": [
       "                                        위도경도\n",
       "0     37.511002913176945, 127.06005939988393\n",
       "1      37.51647607488473, 127.11527494608232\n",
       "2       37.56999760824763, 126.9973738673892\n",
       "3      37.567312155725965, 127.0110248333143\n",
       "4     37.564148780123666, 126.98185620077636\n",
       "...                                      ...\n",
       "1645   37.57328868813124, 126.96054967804893\n",
       "1646  37.604489459823775, 126.95880051845464\n",
       "1647  37.575540011184756, 126.95720897970612\n",
       "1648  37.609345109665576, 126.95688383119668\n",
       "1649   37.569610190233455, 126.9978719380448\n",
       "\n",
       "[1650 rows x 1 columns]"
      ]
     },
     "execution_count": 39,
     "metadata": {},
     "output_type": "execute_result"
    }
   ],
   "source": [
    "lanlon_df"
   ]
  },
  {
   "cell_type": "code",
   "execution_count": 48,
   "metadata": {},
   "outputs": [
    {
     "ename": "NameError",
     "evalue": "name 'geocoding_reverse' is not defined",
     "output_type": "error",
     "traceback": [
      "\u001b[0;31m---------------------------------------------------------------------------\u001b[0m",
      "\u001b[0;31mNameError\u001b[0m                                 Traceback (most recent call last)",
      "Cell \u001b[0;32mIn[48], line 2\u001b[0m\n\u001b[1;32m      1\u001b[0m df_e \u001b[39m=\u001b[39m df3\u001b[39m.\u001b[39mhead()\n\u001b[0;32m----> 2\u001b[0m df_e[\u001b[39m'\u001b[39m\u001b[39m주소\u001b[39m\u001b[39m'\u001b[39m] \u001b[39m=\u001b[39m df_e\u001b[39m.\u001b[39;49mapply(\u001b[39mlambda\u001b[39;49;00m x: geocoding_reverse(x[\u001b[39m'\u001b[39;49m\u001b[39m위도\u001b[39;49m\u001b[39m'\u001b[39;49m], x[\u001b[39m'\u001b[39;49m\u001b[39m경도\u001b[39;49m\u001b[39m'\u001b[39;49m])[\u001b[39m0\u001b[39;49m], axis\u001b[39m=\u001b[39;49m\u001b[39m1\u001b[39;49m)\n",
      "File \u001b[0;32m~/opt/miniconda3/lib/python3.9/site-packages/pandas/core/frame.py:9565\u001b[0m, in \u001b[0;36mDataFrame.apply\u001b[0;34m(self, func, axis, raw, result_type, args, **kwargs)\u001b[0m\n\u001b[1;32m   9554\u001b[0m \u001b[39mfrom\u001b[39;00m \u001b[39mpandas\u001b[39;00m\u001b[39m.\u001b[39;00m\u001b[39mcore\u001b[39;00m\u001b[39m.\u001b[39;00m\u001b[39mapply\u001b[39;00m \u001b[39mimport\u001b[39;00m frame_apply\n\u001b[1;32m   9556\u001b[0m op \u001b[39m=\u001b[39m frame_apply(\n\u001b[1;32m   9557\u001b[0m     \u001b[39mself\u001b[39m,\n\u001b[1;32m   9558\u001b[0m     func\u001b[39m=\u001b[39mfunc,\n\u001b[0;32m   (...)\u001b[0m\n\u001b[1;32m   9563\u001b[0m     kwargs\u001b[39m=\u001b[39mkwargs,\n\u001b[1;32m   9564\u001b[0m )\n\u001b[0;32m-> 9565\u001b[0m \u001b[39mreturn\u001b[39;00m op\u001b[39m.\u001b[39;49mapply()\u001b[39m.\u001b[39m__finalize__(\u001b[39mself\u001b[39m, method\u001b[39m=\u001b[39m\u001b[39m\"\u001b[39m\u001b[39mapply\u001b[39m\u001b[39m\"\u001b[39m)\n",
      "File \u001b[0;32m~/opt/miniconda3/lib/python3.9/site-packages/pandas/core/apply.py:746\u001b[0m, in \u001b[0;36mFrameApply.apply\u001b[0;34m(self)\u001b[0m\n\u001b[1;32m    743\u001b[0m \u001b[39melif\u001b[39;00m \u001b[39mself\u001b[39m\u001b[39m.\u001b[39mraw:\n\u001b[1;32m    744\u001b[0m     \u001b[39mreturn\u001b[39;00m \u001b[39mself\u001b[39m\u001b[39m.\u001b[39mapply_raw()\n\u001b[0;32m--> 746\u001b[0m \u001b[39mreturn\u001b[39;00m \u001b[39mself\u001b[39;49m\u001b[39m.\u001b[39;49mapply_standard()\n",
      "File \u001b[0;32m~/opt/miniconda3/lib/python3.9/site-packages/pandas/core/apply.py:873\u001b[0m, in \u001b[0;36mFrameApply.apply_standard\u001b[0;34m(self)\u001b[0m\n\u001b[1;32m    872\u001b[0m \u001b[39mdef\u001b[39;00m \u001b[39mapply_standard\u001b[39m(\u001b[39mself\u001b[39m):\n\u001b[0;32m--> 873\u001b[0m     results, res_index \u001b[39m=\u001b[39m \u001b[39mself\u001b[39;49m\u001b[39m.\u001b[39;49mapply_series_generator()\n\u001b[1;32m    875\u001b[0m     \u001b[39m# wrap results\u001b[39;00m\n\u001b[1;32m    876\u001b[0m     \u001b[39mreturn\u001b[39;00m \u001b[39mself\u001b[39m\u001b[39m.\u001b[39mwrap_results(results, res_index)\n",
      "File \u001b[0;32m~/opt/miniconda3/lib/python3.9/site-packages/pandas/core/apply.py:889\u001b[0m, in \u001b[0;36mFrameApply.apply_series_generator\u001b[0;34m(self)\u001b[0m\n\u001b[1;32m    886\u001b[0m \u001b[39mwith\u001b[39;00m option_context(\u001b[39m\"\u001b[39m\u001b[39mmode.chained_assignment\u001b[39m\u001b[39m\"\u001b[39m, \u001b[39mNone\u001b[39;00m):\n\u001b[1;32m    887\u001b[0m     \u001b[39mfor\u001b[39;00m i, v \u001b[39min\u001b[39;00m \u001b[39menumerate\u001b[39m(series_gen):\n\u001b[1;32m    888\u001b[0m         \u001b[39m# ignore SettingWithCopy here in case the user mutates\u001b[39;00m\n\u001b[0;32m--> 889\u001b[0m         results[i] \u001b[39m=\u001b[39m \u001b[39mself\u001b[39;49m\u001b[39m.\u001b[39;49mf(v)\n\u001b[1;32m    890\u001b[0m         \u001b[39mif\u001b[39;00m \u001b[39misinstance\u001b[39m(results[i], ABCSeries):\n\u001b[1;32m    891\u001b[0m             \u001b[39m# If we have a view on v, we need to make a copy because\u001b[39;00m\n\u001b[1;32m    892\u001b[0m             \u001b[39m#  series_generator will swap out the underlying data\u001b[39;00m\n\u001b[1;32m    893\u001b[0m             results[i] \u001b[39m=\u001b[39m results[i]\u001b[39m.\u001b[39mcopy(deep\u001b[39m=\u001b[39m\u001b[39mFalse\u001b[39;00m)\n",
      "Cell \u001b[0;32mIn[48], line 2\u001b[0m, in \u001b[0;36m<lambda>\u001b[0;34m(x)\u001b[0m\n\u001b[1;32m      1\u001b[0m df_e \u001b[39m=\u001b[39m df3\u001b[39m.\u001b[39mhead()\n\u001b[0;32m----> 2\u001b[0m df_e[\u001b[39m'\u001b[39m\u001b[39m주소\u001b[39m\u001b[39m'\u001b[39m] \u001b[39m=\u001b[39m df_e\u001b[39m.\u001b[39mapply(\u001b[39mlambda\u001b[39;00m x: geocoding_reverse(x[\u001b[39m'\u001b[39m\u001b[39m위도\u001b[39m\u001b[39m'\u001b[39m], x[\u001b[39m'\u001b[39m\u001b[39m경도\u001b[39m\u001b[39m'\u001b[39m])[\u001b[39m0\u001b[39m], axis\u001b[39m=\u001b[39m\u001b[39m1\u001b[39m)\n",
      "\u001b[0;31mNameError\u001b[0m: name 'geocoding_reverse' is not defined"
     ]
    }
   ],
   "source": [
    "# df_e = df3.head()\n",
    "# df_e['주소'] = df_e.apply(lambda x: geocoding_reverse(x['위도'], x['경도'])[0], axis=1)"
   ]
  },
  {
   "cell_type": "code",
   "execution_count": 112,
   "metadata": {},
   "outputs": [
    {
     "name": "stdout",
     "output_type": "stream",
     "text": [
      "CPU times: user 74.6 ms, sys: 27.9 ms, total: 102 ms\n",
      "Wall time: 2.56 s\n"
     ]
    },
    {
     "data": {
      "text/plain": [
       "0    (코엑스, 삼성로100길, 삼성동, 강남구, 서울, 06164, 대한민국, (37....\n",
       "1    (한성백제역 1번출구, 위례성대로, 방이2동, 송파구, 서울, 05627, 대한민국...\n",
       "2    (창경궁로11길, 종로3가, 종로1·2·3·4가동, 종로구, 서울, 03194, 대...\n",
       "3    (서울성곽, 마장로, 동대문패션타운, 신당동, 중구, 서울, 04563, 대한민국,...\n",
       "4    (롯데화랑, Myeongdong Underground Shopping Center,...\n",
       "dtype: object"
      ]
     },
     "execution_count": 112,
     "metadata": {},
     "output_type": "execute_result"
    }
   ],
   "source": [
    "# %%time\n",
    "\n",
    "# lanlon_df.head().apply(lambda x : geocoding_reverse_str(x['위도경도']), axis=1)"
   ]
  },
  {
   "cell_type": "code",
   "execution_count": 119,
   "metadata": {},
   "outputs": [],
   "source": [
    "# lanlon_df['주소'] = lanlon_df.apply(lambda x : geocoding_reverse_str(x['위도경도'])[0], axis=1)"
   ]
  },
  {
   "cell_type": "code",
   "execution_count": 50,
   "metadata": {},
   "outputs": [],
   "source": [
    "def strplus(a, b):\n",
    "    re = str(a) + ', ' + str(b)\n",
    "    return re\n",
    "\n",
    "df3['위도경도'] = df3.apply(lambda x : strplus(x['위도'], x['경도']), axis=1)"
   ]
  },
  {
   "cell_type": "code",
   "execution_count": 49,
   "metadata": {},
   "outputs": [
    {
     "data": {
      "text/plain": [
       "0    강남구\n",
       "1    송파구\n",
       "2    종로구\n",
       "3     중구\n",
       "4     중구\n",
       "dtype: object"
      ]
     },
     "execution_count": 49,
     "metadata": {},
     "output_type": "execute_result"
    }
   ],
   "source": [
    "lanlon_df.head().apply(lambda x : get_address_str(x['위도경도']), axis=1)"
   ]
  },
  {
   "cell_type": "code",
   "execution_count": 47,
   "metadata": {},
   "outputs": [
    {
     "name": "stdout",
     "output_type": "stream",
     "text": [
      "14.3\n",
      "2.75\n"
     ]
    }
   ],
   "source": [
    "# 지오코딩 실행시간 계산\n",
    "\n",
    "print((1650 / 5 ) * 2.6 / 60)\n",
    "\n",
    "# 카카오 api 실행시간 계산\n",
    "\n",
    "print((1650 / 5 ) * 0.5 / 60)"
   ]
  },
  {
   "cell_type": "code",
   "execution_count": 51,
   "metadata": {},
   "outputs": [],
   "source": [
    "lanlon_df['시군구'] = lanlon_df.apply(lambda x : get_address_str(x['위도경도']), axis=1)"
   ]
  },
  {
   "cell_type": "code",
   "execution_count": 52,
   "metadata": {},
   "outputs": [],
   "source": [
    "df4 = df3.merge(lanlon_df, how='left', on = '위도경도')"
   ]
  },
  {
   "cell_type": "code",
   "execution_count": 53,
   "metadata": {},
   "outputs": [
    {
     "data": {
      "text/plain": [
       "Index(['기준_년_코드', '기준_분기_코드', '상권_구분_코드_x', '상권_구분_코드_명_x', '상권_코드',\n",
       "       '상권_코드_명_x', '서비스_업종_코드', '서비스_업종_코드_명', '분기당_매출_금액', '분기당_매출_건수',\n",
       "       '주중_매출_비율', '주말_매출_비율', '월요일_매출_비율', '화요일_매출_비율', '수요일_매출_비율',\n",
       "       '목요일_매출_비율', '금요일_매출_비율', '토요일_매출_비율', '일요일_매출_비율', '시간대_00~06_매출_비율',\n",
       "       '시간대_06~11_매출_비율', '시간대_11~14_매출_비율', '시간대_14~17_매출_비율',\n",
       "       '시간대_17~21_매출_비율', '시간대_21~24_매출_비율', '남성_매출_비율', '여성_매출_비율',\n",
       "       '연령대_10_매출_비율', '연령대_20_매출_비율', '연령대_30_매출_비율', '연령대_40_매출_비율',\n",
       "       '연령대_50_매출_비율', '연령대_60_이상_매출_비율', '주중_매출_금액', '주말_매출_금액', '월요일_매출_금액',\n",
       "       '화요일_매출_금액', '수요일_매출_금액', '목요일_매출_금액', '금요일_매출_금액', '토요일_매출_금액',\n",
       "       '일요일_매출_금액', '시간대_00~06_매출_금액', '시간대_06~11_매출_금액', '시간대_11~14_매출_금액',\n",
       "       '시간대_14~17_매출_금액', '시간대_17~21_매출_금액', '시간대_21~24_매출_금액', '남성_매출_금액',\n",
       "       '여성_매출_금액', '연령대_10_매출_금액', '연령대_20_매출_금액', '연령대_30_매출_금액',\n",
       "       '연령대_40_매출_금액', '연령대_50_매출_금액', '연령대_60_이상_매출_금액', '주중_매출_건수',\n",
       "       '주말_매출_건수', '월요일_매출_건수', '화요일_매출_건수', '수요일_매출_건수', '목요일_매출_건수',\n",
       "       '금요일_매출_건수', '토요일_매출_건수', '일요일_매출_건수', '시간대_건수~06_매출_건수',\n",
       "       '시간대_건수~11_매출_건수', '시간대_건수~14_매출_건수', '시간대_건수~17_매출_건수',\n",
       "       '시간대_건수~21_매출_건수', '시간대_건수~24_매출_건수', '남성_매출_건수', '여성_매출_건수',\n",
       "       '연령대_10_매출_건수', '연령대_20_매출_건수', '연령대_30_매출_건수', '연령대_40_매출_건수',\n",
       "       '연령대_50_매출_건수', '연령대_60_이상_매출_건수', '점포수', '기준_년월_코드', '상권_구분_코드_y',\n",
       "       '상권_구분_코드_명_y', '상권_코드_명_y', '엑스좌표_값', '와이좌표_값', '시군구_코드', '행정동_코드',\n",
       "       '형태정보', '경도', '위도', '위도경도', '시군구'],\n",
       "      dtype='object')"
      ]
     },
     "execution_count": 53,
     "metadata": {},
     "output_type": "execute_result"
    }
   ],
   "source": [
    "df4.columns"
   ]
  },
  {
   "cell_type": "code",
   "execution_count": 54,
   "metadata": {},
   "outputs": [],
   "source": [
    "df4 = df4[['기준_년_코드', '기준_분기_코드', '상권_구분_코드_명_x',  '서비스_업종_코드', '서비스_업종_코드_명', '분기당_매출_금액', '분기당_매출_건수',\n",
    "       '주중_매출_비율', '주말_매출_비율', '월요일_매출_비율', '화요일_매출_비율', '수요일_매출_비율',\n",
    "       '목요일_매출_비율', '금요일_매출_비율', '토요일_매출_비율', '일요일_매출_비율', '시간대_00~06_매출_비율',\n",
    "       '시간대_06~11_매출_비율', '시간대_11~14_매출_비율', '시간대_14~17_매출_비율',\n",
    "       '시간대_17~21_매출_비율', '시간대_21~24_매출_비율', '남성_매출_비율', '여성_매출_비율',\n",
    "       '연령대_10_매출_비율', '연령대_20_매출_비율', '연령대_30_매출_비율', '연령대_40_매출_비율',\n",
    "       '연령대_50_매출_비율', '연령대_60_이상_매출_비율', '주중_매출_금액', '주말_매출_금액', '월요일_매출_금액',\n",
    "       '화요일_매출_금액', '수요일_매출_금액', '목요일_매출_금액', '금요일_매출_금액', '토요일_매출_금액',\n",
    "       '일요일_매출_금액', '시간대_00~06_매출_금액', '시간대_06~11_매출_금액', '시간대_11~14_매출_금액',\n",
    "       '시간대_14~17_매출_금액', '시간대_17~21_매출_금액', '시간대_21~24_매출_금액', '남성_매출_금액',\n",
    "       '여성_매출_금액', '연령대_10_매출_금액', '연령대_20_매출_금액', '연령대_30_매출_금액',\n",
    "       '연령대_40_매출_금액', '연령대_50_매출_금액', '연령대_60_이상_매출_금액', '주중_매출_건수',\n",
    "       '주말_매출_건수', '월요일_매출_건수', '화요일_매출_건수', '수요일_매출_건수', '목요일_매출_건수',\n",
    "       '금요일_매출_건수', '토요일_매출_건수', '일요일_매출_건수', '시간대_건수~06_매출_건수',\n",
    "       '시간대_건수~11_매출_건수', '시간대_건수~14_매출_건수', '시간대_건수~17_매출_건수',\n",
    "       '시간대_건수~21_매출_건수', '시간대_건수~24_매출_건수', '남성_매출_건수', '여성_매출_건수',\n",
    "       '연령대_10_매출_건수', '연령대_20_매출_건수', '연령대_30_매출_건수', '연령대_40_매출_건수',\n",
    "       '연령대_50_매출_건수', '연령대_60_이상_매출_건수', '점포수', '기준_년월_코드',\n",
    "       '시군구']]"
   ]
  },
  {
   "cell_type": "code",
   "execution_count": 151,
   "metadata": {},
   "outputs": [
    {
     "data": {
      "text/plain": [
       "['영등포전통시장', '영중로22길', '영등포동', '영등포구', '서울', '07250', '대한민국']"
      ]
     },
     "execution_count": 151,
     "metadata": {},
     "output_type": "execute_result"
    }
   ],
   "source": [
    "# lanlon_df['주소'].str.split(', ')[75]"
   ]
  },
  {
   "cell_type": "code",
   "execution_count": 158,
   "metadata": {},
   "outputs": [
    {
     "name": "stderr",
     "output_type": "stream",
     "text": [
      "/var/folders/g8/bg0h24y523q9pwn2yvvhsc900000gn/T/ipykernel_76554/3249478069.py:1: SettingWithCopyWarning: \n",
      "A value is trying to be set on a copy of a slice from a DataFrame.\n",
      "Try using .loc[row_indexer,col_indexer] = value instead\n",
      "\n",
      "See the caveats in the documentation: https://pandas.pydata.org/pandas-docs/stable/user_guide/indexing.html#returning-a-view-versus-a-copy\n",
      "  df4['시군구'] = df4.apply(lambda x : [a for a in x['주소'].split(', ') if a.endswith('구')] , axis=1)\n"
     ]
    }
   ],
   "source": [
    "# df4['시군구'] = df4.apply(lambda x : [a for a in x['주소'].split(', ') if a.endswith('구')] , axis=1)"
   ]
  },
  {
   "cell_type": "code",
   "execution_count": 56,
   "metadata": {},
   "outputs": [
    {
     "data": {
      "text/plain": [
       "강남구     4811\n",
       "송파구     3758\n",
       "강서구     3210\n",
       "영등포구    3202\n",
       "마포구     3158\n",
       "관악구     3062\n",
       "강동구     2986\n",
       "은평구     2949\n",
       "서초구     2898\n",
       "성북구     2822\n",
       "중랑구     2761\n",
       "동대문구    2752\n",
       "중구      2743\n",
       "광진구     2725\n",
       "구로구     2623\n",
       "양천구     2593\n",
       "종로구     2514\n",
       "강북구     2393\n",
       "동작구     2310\n",
       "용산구     2248\n",
       "서대문구    2208\n",
       "성동구     2131\n",
       "노원구     2049\n",
       "금천구     2016\n",
       "도봉구     1946\n",
       "Name: 시군구, dtype: int64"
      ]
     },
     "execution_count": 56,
     "metadata": {},
     "output_type": "execute_result"
    }
   ],
   "source": [
    "df4['시군구'].value_counts()"
   ]
  },
  {
   "cell_type": "code",
   "execution_count": 57,
   "metadata": {},
   "outputs": [
    {
     "data": {
      "text/plain": [
       "array(['강남구', '송파구', '종로구', '중구', '용산구', '강동구', '서초구', '관악구', '동작구',\n",
       "       '영등포구', '금천구', '구로구', '강서구', '양천구', '마포구', '서대문구', '은평구', '노원구',\n",
       "       '도봉구', '강북구', '성북구', '중랑구', '동대문구', '광진구', '성동구'], dtype=object)"
      ]
     },
     "execution_count": 57,
     "metadata": {},
     "output_type": "execute_result"
    }
   ],
   "source": [
    "df4['시군구'].unique()"
   ]
  },
  {
   "cell_type": "code",
   "execution_count": 145,
   "metadata": {},
   "outputs": [
    {
     "data": {
      "text/plain": [
       "서울              32098\n",
       "강남구              2260\n",
       "송파구              1718\n",
       "중구               1527\n",
       "서초구              1524\n",
       "                ...  \n",
       "신사1동                7\n",
       "03114               6\n",
       "신림 주공아파트 2단지        5\n",
       "02560               4\n",
       "내곡동                 2\n",
       "Name: 시군구, Length: 196, dtype: int64"
      ]
     },
     "execution_count": 145,
     "metadata": {},
     "output_type": "execute_result"
    }
   ],
   "source": [
    "# df4['시군구'].value_counts()"
   ]
  },
  {
   "cell_type": "code",
   "execution_count": null,
   "metadata": {},
   "outputs": [],
   "source": [
    "df4.to_csv('서울시 상권분석 데이터 매출_시군구.csv', index=False)"
   ]
  }
 ],
 "metadata": {
  "kernelspec": {
   "display_name": "Python 3.9.12 ('base')",
   "language": "python",
   "name": "python3"
  },
  "language_info": {
   "codemirror_mode": {
    "name": "ipython",
    "version": 3
   },
   "file_extension": ".py",
   "mimetype": "text/x-python",
   "name": "python",
   "nbconvert_exporter": "python",
   "pygments_lexer": "ipython3",
   "version": "3.9.15"
  },
  "orig_nbformat": 4,
  "vscode": {
   "interpreter": {
    "hash": "5a3469ca0122d06819d7b4b8dd7f48a1cadf568acf342ca2b79ed092bf5f7bea"
   }
  }
 },
 "nbformat": 4,
 "nbformat_minor": 2
}
