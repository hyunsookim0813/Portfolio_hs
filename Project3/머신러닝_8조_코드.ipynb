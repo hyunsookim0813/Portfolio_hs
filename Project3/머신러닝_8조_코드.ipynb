{
  "cells": [
    {
      "cell_type": "markdown",
      "metadata": {
        "id": "qFlIbGacZX5g"
      },
      "source": [
        "# ML_project_dacon_competition : Group 8 (Hyunsoo Kim)"
      ]
    },
    {
      "cell_type": "markdown",
      "metadata": {
        "id": "gBVcvKZKZaY-"
      },
      "source": [
        "## 0. Import and Load"
      ]
    },
    {
      "cell_type": "code",
      "execution_count": 1,
      "metadata": {
        "colab": {
          "base_uri": "https://localhost:8080/"
        },
        "id": "ZbVzJ2AFZRE2",
        "outputId": "b245f151-424c-4e49-d317-8cb1a8b9934c"
      },
      "outputs": [
        {
          "name": "stdout",
          "output_type": "stream",
          "text": [
            "Mounted at /content/drive\n"
          ]
        }
      ],
      "source": [
        "# connect to colab\n",
        "from google.colab import drive\n",
        "drive.mount('/content/drive')"
      ]
    },
    {
      "cell_type": "markdown",
      "metadata": {
        "id": "1AvxwwoFZdAm"
      },
      "source": [
        "### a. Import"
      ]
    },
    {
      "cell_type": "code",
      "execution_count": 3,
      "metadata": {
        "id": "tAyZOdLMZePW"
      },
      "outputs": [],
      "source": [
        "import pandas as pd\n",
        "import numpy as np\n",
        "import gc\n",
        "from sklearn.preprocessing import LabelEncoder\n",
        "import matplotlib.pyplot as plt\n",
        "import seaborn as sns"
      ]
    },
    {
      "cell_type": "markdown",
      "metadata": {
        "id": "ZOItEHMeZfiN"
      },
      "source": [
        "### b. csv to parquet\n",
        "- **최초 일회만** 실행 필요 -> 이후에는 parquet 형태의 데이터를 load\n",
        "- 메모리에 효율적인 데이터 유형을 사용하여 용량을 크게 줄이고 빠른 작업이 가능합니다."
      ]
    },
    {
      "cell_type": "code",
      "execution_count": null,
      "metadata": {
        "id": "SPxKbUMDZi6Z"
      },
      "outputs": [],
      "source": [
        "train = pd.read_csv('/content/drive/MyDrive/2022_02_machine_learning/train.csv')\n",
        "test = pd.read_csv('/content/drive/MyDrive/2022_02_machine_learning/test.csv')"
      ]
    },
    {
      "cell_type": "code",
      "execution_count": null,
      "metadata": {
        "id": "ICT1lGhOZj3e"
      },
      "outputs": [],
      "source": [
        "def csv_to_parquet(csv_path, save_name):\n",
        "    df = pd.read_csv(csv_path)\n",
        "    df.to_parquet(f'./{save_name}.parquet')\n",
        "    del df\n",
        "    gc.collect()\n",
        "    print(save_name, 'Done.')"
      ]
    },
    {
      "cell_type": "markdown",
      "metadata": {
        "id": "r7t2d-ZoZk9C"
      },
      "source": [
        "### c. Data"
      ]
    },
    {
      "cell_type": "code",
      "execution_count": 6,
      "metadata": {
        "id": "Zfw7OHoZZmTK"
      },
      "outputs": [],
      "source": [
        "# load parquet dataset\n",
        "train = pd.read_parquet('/content/drive/MyDrive/2022_02_machine_learning/train.parquet')\n",
        "test = pd.read_parquet('/content/drive/MyDrive/2022_02_machine_learning/test.parquet')"
      ]
    },
    {
      "cell_type": "code",
      "execution_count": null,
      "metadata": {
        "colab": {
          "base_uri": "https://localhost:8080/",
          "height": 369
        },
        "id": "t30ny7eCZnvG",
        "outputId": "8085b177-da8e-4e33-8d42-26b0a1714699"
      },
      "outputs": [
        {
          "data": {
            "text/html": [
              "\n",
              "  <div id=\"df-0dd61dd3-26f4-4b1b-b22a-7104208b1665\">\n",
              "    <div class=\"colab-df-container\">\n",
              "      <div>\n",
              "<style scoped>\n",
              "    .dataframe tbody tr th:only-of-type {\n",
              "        vertical-align: middle;\n",
              "    }\n",
              "\n",
              "    .dataframe tbody tr th {\n",
              "        vertical-align: top;\n",
              "    }\n",
              "\n",
              "    .dataframe thead th {\n",
              "        text-align: right;\n",
              "    }\n",
              "</style>\n",
              "<table border=\"1\" class=\"dataframe\">\n",
              "  <thead>\n",
              "    <tr style=\"text-align: right;\">\n",
              "      <th></th>\n",
              "      <th>id</th>\n",
              "      <th>base_date</th>\n",
              "      <th>day_of_week</th>\n",
              "      <th>base_hour</th>\n",
              "      <th>road_in_use</th>\n",
              "      <th>lane_count</th>\n",
              "      <th>road_rating</th>\n",
              "      <th>road_name</th>\n",
              "      <th>multi_linked</th>\n",
              "      <th>connect_code</th>\n",
              "      <th>...</th>\n",
              "      <th>road_type</th>\n",
              "      <th>start_node_name</th>\n",
              "      <th>start_latitude</th>\n",
              "      <th>start_longitude</th>\n",
              "      <th>start_turn_restricted</th>\n",
              "      <th>end_node_name</th>\n",
              "      <th>end_latitude</th>\n",
              "      <th>end_longitude</th>\n",
              "      <th>end_turn_restricted</th>\n",
              "      <th>target</th>\n",
              "    </tr>\n",
              "  </thead>\n",
              "  <tbody>\n",
              "    <tr>\n",
              "      <th>0</th>\n",
              "      <td>TRAIN_0000000</td>\n",
              "      <td>20220623</td>\n",
              "      <td>목</td>\n",
              "      <td>17</td>\n",
              "      <td>0</td>\n",
              "      <td>1</td>\n",
              "      <td>106</td>\n",
              "      <td>지방도1112호선</td>\n",
              "      <td>0</td>\n",
              "      <td>0</td>\n",
              "      <td>...</td>\n",
              "      <td>3</td>\n",
              "      <td>제3교래교</td>\n",
              "      <td>33.427747</td>\n",
              "      <td>126.662612</td>\n",
              "      <td>없음</td>\n",
              "      <td>제3교래교</td>\n",
              "      <td>33.427749</td>\n",
              "      <td>126.662335</td>\n",
              "      <td>없음</td>\n",
              "      <td>52.0</td>\n",
              "    </tr>\n",
              "    <tr>\n",
              "      <th>1</th>\n",
              "      <td>TRAIN_0000001</td>\n",
              "      <td>20220728</td>\n",
              "      <td>목</td>\n",
              "      <td>21</td>\n",
              "      <td>0</td>\n",
              "      <td>2</td>\n",
              "      <td>103</td>\n",
              "      <td>일반국도11호선</td>\n",
              "      <td>0</td>\n",
              "      <td>0</td>\n",
              "      <td>...</td>\n",
              "      <td>0</td>\n",
              "      <td>광양사거리</td>\n",
              "      <td>33.500730</td>\n",
              "      <td>126.529107</td>\n",
              "      <td>있음</td>\n",
              "      <td>KAL사거리</td>\n",
              "      <td>33.504811</td>\n",
              "      <td>126.526240</td>\n",
              "      <td>없음</td>\n",
              "      <td>30.0</td>\n",
              "    </tr>\n",
              "    <tr>\n",
              "      <th>2</th>\n",
              "      <td>TRAIN_0000002</td>\n",
              "      <td>20211010</td>\n",
              "      <td>일</td>\n",
              "      <td>7</td>\n",
              "      <td>0</td>\n",
              "      <td>2</td>\n",
              "      <td>103</td>\n",
              "      <td>일반국도16호선</td>\n",
              "      <td>0</td>\n",
              "      <td>0</td>\n",
              "      <td>...</td>\n",
              "      <td>0</td>\n",
              "      <td>창고천교</td>\n",
              "      <td>33.279145</td>\n",
              "      <td>126.368598</td>\n",
              "      <td>없음</td>\n",
              "      <td>상창육교</td>\n",
              "      <td>33.280072</td>\n",
              "      <td>126.362147</td>\n",
              "      <td>없음</td>\n",
              "      <td>61.0</td>\n",
              "    </tr>\n",
              "    <tr>\n",
              "      <th>3</th>\n",
              "      <td>TRAIN_0000003</td>\n",
              "      <td>20220311</td>\n",
              "      <td>금</td>\n",
              "      <td>13</td>\n",
              "      <td>0</td>\n",
              "      <td>2</td>\n",
              "      <td>107</td>\n",
              "      <td>태평로</td>\n",
              "      <td>0</td>\n",
              "      <td>0</td>\n",
              "      <td>...</td>\n",
              "      <td>0</td>\n",
              "      <td>남양리조트</td>\n",
              "      <td>33.246081</td>\n",
              "      <td>126.567204</td>\n",
              "      <td>없음</td>\n",
              "      <td>서현주택</td>\n",
              "      <td>33.245565</td>\n",
              "      <td>126.566228</td>\n",
              "      <td>없음</td>\n",
              "      <td>20.0</td>\n",
              "    </tr>\n",
              "    <tr>\n",
              "      <th>4</th>\n",
              "      <td>TRAIN_0000004</td>\n",
              "      <td>20211005</td>\n",
              "      <td>화</td>\n",
              "      <td>8</td>\n",
              "      <td>0</td>\n",
              "      <td>2</td>\n",
              "      <td>103</td>\n",
              "      <td>일반국도12호선</td>\n",
              "      <td>0</td>\n",
              "      <td>0</td>\n",
              "      <td>...</td>\n",
              "      <td>0</td>\n",
              "      <td>애월샷시</td>\n",
              "      <td>33.462214</td>\n",
              "      <td>126.326551</td>\n",
              "      <td>없음</td>\n",
              "      <td>애월입구</td>\n",
              "      <td>33.462677</td>\n",
              "      <td>126.330152</td>\n",
              "      <td>없음</td>\n",
              "      <td>38.0</td>\n",
              "    </tr>\n",
              "  </tbody>\n",
              "</table>\n",
              "<p>5 rows × 24 columns</p>\n",
              "</div>\n",
              "      <button class=\"colab-df-convert\" onclick=\"convertToInteractive('df-0dd61dd3-26f4-4b1b-b22a-7104208b1665')\"\n",
              "              title=\"Convert this dataframe to an interactive table.\"\n",
              "              style=\"display:none;\">\n",
              "        \n",
              "  <svg xmlns=\"http://www.w3.org/2000/svg\" height=\"24px\"viewBox=\"0 0 24 24\"\n",
              "       width=\"24px\">\n",
              "    <path d=\"M0 0h24v24H0V0z\" fill=\"none\"/>\n",
              "    <path d=\"M18.56 5.44l.94 2.06.94-2.06 2.06-.94-2.06-.94-.94-2.06-.94 2.06-2.06.94zm-11 1L8.5 8.5l.94-2.06 2.06-.94-2.06-.94L8.5 2.5l-.94 2.06-2.06.94zm10 10l.94 2.06.94-2.06 2.06-.94-2.06-.94-.94-2.06-.94 2.06-2.06.94z\"/><path d=\"M17.41 7.96l-1.37-1.37c-.4-.4-.92-.59-1.43-.59-.52 0-1.04.2-1.43.59L10.3 9.45l-7.72 7.72c-.78.78-.78 2.05 0 2.83L4 21.41c.39.39.9.59 1.41.59.51 0 1.02-.2 1.41-.59l7.78-7.78 2.81-2.81c.8-.78.8-2.07 0-2.86zM5.41 20L4 18.59l7.72-7.72 1.47 1.35L5.41 20z\"/>\n",
              "  </svg>\n",
              "      </button>\n",
              "      \n",
              "  <style>\n",
              "    .colab-df-container {\n",
              "      display:flex;\n",
              "      flex-wrap:wrap;\n",
              "      gap: 12px;\n",
              "    }\n",
              "\n",
              "    .colab-df-convert {\n",
              "      background-color: #E8F0FE;\n",
              "      border: none;\n",
              "      border-radius: 50%;\n",
              "      cursor: pointer;\n",
              "      display: none;\n",
              "      fill: #1967D2;\n",
              "      height: 32px;\n",
              "      padding: 0 0 0 0;\n",
              "      width: 32px;\n",
              "    }\n",
              "\n",
              "    .colab-df-convert:hover {\n",
              "      background-color: #E2EBFA;\n",
              "      box-shadow: 0px 1px 2px rgba(60, 64, 67, 0.3), 0px 1px 3px 1px rgba(60, 64, 67, 0.15);\n",
              "      fill: #174EA6;\n",
              "    }\n",
              "\n",
              "    [theme=dark] .colab-df-convert {\n",
              "      background-color: #3B4455;\n",
              "      fill: #D2E3FC;\n",
              "    }\n",
              "\n",
              "    [theme=dark] .colab-df-convert:hover {\n",
              "      background-color: #434B5C;\n",
              "      box-shadow: 0px 1px 3px 1px rgba(0, 0, 0, 0.15);\n",
              "      filter: drop-shadow(0px 1px 2px rgba(0, 0, 0, 0.3));\n",
              "      fill: #FFFFFF;\n",
              "    }\n",
              "  </style>\n",
              "\n",
              "      <script>\n",
              "        const buttonEl =\n",
              "          document.querySelector('#df-0dd61dd3-26f4-4b1b-b22a-7104208b1665 button.colab-df-convert');\n",
              "        buttonEl.style.display =\n",
              "          google.colab.kernel.accessAllowed ? 'block' : 'none';\n",
              "\n",
              "        async function convertToInteractive(key) {\n",
              "          const element = document.querySelector('#df-0dd61dd3-26f4-4b1b-b22a-7104208b1665');\n",
              "          const dataTable =\n",
              "            await google.colab.kernel.invokeFunction('convertToInteractive',\n",
              "                                                     [key], {});\n",
              "          if (!dataTable) return;\n",
              "\n",
              "          const docLinkHtml = 'Like what you see? Visit the ' +\n",
              "            '<a target=\"_blank\" href=https://colab.research.google.com/notebooks/data_table.ipynb>data table notebook</a>'\n",
              "            + ' to learn more about interactive tables.';\n",
              "          element.innerHTML = '';\n",
              "          dataTable['output_type'] = 'display_data';\n",
              "          await google.colab.output.renderOutput(dataTable, element);\n",
              "          const docLink = document.createElement('div');\n",
              "          docLink.innerHTML = docLinkHtml;\n",
              "          element.appendChild(docLink);\n",
              "        }\n",
              "      </script>\n",
              "    </div>\n",
              "  </div>\n",
              "  "
            ],
            "text/plain": [
              "              id  base_date day_of_week  base_hour  road_in_use  lane_count  \\\n",
              "0  TRAIN_0000000   20220623           목         17            0           1   \n",
              "1  TRAIN_0000001   20220728           목         21            0           2   \n",
              "2  TRAIN_0000002   20211010           일          7            0           2   \n",
              "3  TRAIN_0000003   20220311           금         13            0           2   \n",
              "4  TRAIN_0000004   20211005           화          8            0           2   \n",
              "\n",
              "   road_rating  road_name  multi_linked  connect_code  ...  road_type  \\\n",
              "0          106  지방도1112호선             0             0  ...          3   \n",
              "1          103   일반국도11호선             0             0  ...          0   \n",
              "2          103   일반국도16호선             0             0  ...          0   \n",
              "3          107        태평로             0             0  ...          0   \n",
              "4          103   일반국도12호선             0             0  ...          0   \n",
              "\n",
              "   start_node_name  start_latitude  start_longitude  start_turn_restricted  \\\n",
              "0            제3교래교       33.427747       126.662612                     없음   \n",
              "1            광양사거리       33.500730       126.529107                     있음   \n",
              "2             창고천교       33.279145       126.368598                     없음   \n",
              "3            남양리조트       33.246081       126.567204                     없음   \n",
              "4             애월샷시       33.462214       126.326551                     없음   \n",
              "\n",
              "  end_node_name  end_latitude  end_longitude end_turn_restricted target  \n",
              "0         제3교래교     33.427749     126.662335                  없음   52.0  \n",
              "1        KAL사거리     33.504811     126.526240                  없음   30.0  \n",
              "2          상창육교     33.280072     126.362147                  없음   61.0  \n",
              "3          서현주택     33.245565     126.566228                  없음   20.0  \n",
              "4          애월입구     33.462677     126.330152                  없음   38.0  \n",
              "\n",
              "[5 rows x 24 columns]"
            ]
          },
          "execution_count": 7,
          "metadata": {},
          "output_type": "execute_result"
        }
      ],
      "source": [
        "train.head()"
      ]
    },
    {
      "cell_type": "markdown",
      "metadata": {
        "id": "A4ZwT2IDZpSW"
      },
      "source": [
        "## 1. Feature Engineering\n"
      ]
    },
    {
      "cell_type": "markdown",
      "metadata": {
        "id": "qFCUs4sTZrgq"
      },
      "source": [
        "### a. 결측치 확인"
      ]
    },
    {
      "cell_type": "code",
      "execution_count": null,
      "metadata": {
        "colab": {
          "base_uri": "https://localhost:8080/"
        },
        "id": "bZ1vnoDfZrFm",
        "outputId": "036581b0-cbce-4db2-e83d-3720f49ae9aa"
      },
      "outputs": [
        {
          "data": {
            "text/plain": [
              "id                       0\n",
              "base_date                0\n",
              "day_of_week              0\n",
              "base_hour                0\n",
              "road_in_use              0\n",
              "lane_count               0\n",
              "road_rating              0\n",
              "road_name                0\n",
              "multi_linked             0\n",
              "connect_code             0\n",
              "maximum_speed_limit      0\n",
              "vehicle_restricted       0\n",
              "weight_restricted        0\n",
              "height_restricted        0\n",
              "road_type                0\n",
              "start_node_name          0\n",
              "start_latitude           0\n",
              "start_longitude          0\n",
              "start_turn_restricted    0\n",
              "end_node_name            0\n",
              "end_latitude             0\n",
              "end_longitude            0\n",
              "end_turn_restricted      0\n",
              "target                   0\n",
              "dtype: int64"
            ]
          },
          "execution_count": 8,
          "metadata": {},
          "output_type": "execute_result"
        }
      ],
      "source": [
        "# 결측치 확인\n",
        "train.isna().sum()"
      ]
    },
    {
      "cell_type": "code",
      "execution_count": null,
      "metadata": {
        "colab": {
          "base_uri": "https://localhost:8080/"
        },
        "id": "Y33KLs_3aImu",
        "outputId": "6d49d206-ff66-4abb-db45-fd5aa758ab5e"
      },
      "outputs": [
        {
          "data": {
            "text/plain": [
              "id                       0\n",
              "base_date                0\n",
              "day_of_week              0\n",
              "base_hour                0\n",
              "road_in_use              0\n",
              "lane_count               0\n",
              "road_rating              0\n",
              "road_name                0\n",
              "multi_linked             0\n",
              "connect_code             0\n",
              "maximum_speed_limit      0\n",
              "vehicle_restricted       0\n",
              "weight_restricted        0\n",
              "height_restricted        0\n",
              "road_type                0\n",
              "start_node_name          0\n",
              "start_latitude           0\n",
              "start_longitude          0\n",
              "start_turn_restricted    0\n",
              "end_node_name            0\n",
              "end_latitude             0\n",
              "end_longitude            0\n",
              "end_turn_restricted      0\n",
              "dtype: int64"
            ]
          },
          "execution_count": 9,
          "metadata": {},
          "output_type": "execute_result"
        }
      ],
      "source": [
        "# 결측치 확인\n",
        "test.isna().sum()"
      ]
    },
    {
      "cell_type": "markdown",
      "metadata": {
        "id": "Jr27vJZ84E17"
      },
      "source": [
        "### b. EDA 및 컬럼 분석 "
      ]
    },
    {
      "cell_type": "code",
      "execution_count": 7,
      "metadata": {
        "colab": {
          "base_uri": "https://localhost:8080/",
          "height": 456
        },
        "id": "RtOEWTJ94EKK",
        "outputId": "3ca03612-6932-40e8-a5a8-e5be5d66f2e3"
      },
      "outputs": [
        {
          "data": {
            "text/plain": [
              "Text(0.5, 1.0, 'Correlations between variables')"
            ]
          },
          "execution_count": 7,
          "metadata": {},
          "output_type": "execute_result"
        },
        {
          "data": {
            "image/png": "[encoded data removed]",
            "text/plain": [
              "<Figure size 1008x360 with 2 Axes>"
            ]
          },
          "metadata": {
            "needs_background": "light"
          },
          "output_type": "display_data"
        }
      ],
      "source": [
        "# 상관관계 \n",
        "fig, ax = plt.subplots(figsize=(14,5))  \n",
        "sns.heatmap(data=train.corr(), annot=True, cmap = plt.cm.RdYlBu_r,\n",
        "            linewidths=.1, ax=ax).set_title('Correlations between variables') #상관성이 높은 컬럼들을 확인 가능  "
      ]
    },
    {
      "cell_type": "markdown",
      "metadata": {
        "id": "s-3e2sTI56aN"
      },
      "source": [
        "weight_restricted와 road_type의 상관성이 0.79로 높은 수치를 보여준다.\n",
        "\n",
        "target 변수의 값을 예측하는 대회로 상관성이 높은 maximum_speed_limit 컬럼 또한 확인 필요  "
      ]
    },
    {
      "cell_type": "code",
      "execution_count": 8,
      "metadata": {
        "colab": {
          "base_uri": "https://localhost:8080/",
          "height": 314
        },
        "id": "7HlXJghD5CQI",
        "outputId": "5463fb08-0f50-4719-8e42-85e70049a9f5"
      },
      "outputs": [
        {
          "data": {
            "text/plain": [
              "Text(0.5, 1.0, 'road_type')"
            ]
          },
          "execution_count": 8,
          "metadata": {},
          "output_type": "execute_result"
        },
        {
          "data": {
            "image/png": "[encoded data removed]",
            "text/plain": [
              "<Figure size 432x288 with 1 Axes>"
            ]
          },
          "metadata": {
            "needs_background": "light"
          },
          "output_type": "display_data"
        }
      ],
      "source": [
        "# road_type \n",
        "train['road_type'].value_counts()\n",
        "sns.countplot(data=train, x=train['road_type']).set_title('road_type')"
      ]
    },
    {
      "cell_type": "markdown",
      "metadata": {
        "id": "gVbWgPvo63Y1"
      },
      "source": [
        "0은 일반 도로 3은 교량(다리)를 의미한다"
      ]
    },
    {
      "cell_type": "code",
      "execution_count": 9,
      "metadata": {
        "colab": {
          "base_uri": "https://localhost:8080/",
          "height": 314
        },
        "id": "OT3Q2D5p6yX1",
        "outputId": "3957af82-2e6e-402e-ae19-3e2d95af55dc"
      },
      "outputs": [
        {
          "data": {
            "text/plain": [
              "Text(0.5, 1.0, 'weight_restricted')"
            ]
          },
          "execution_count": 9,
          "metadata": {},
          "output_type": "execute_result"
        },
        {
          "data": {
            "image/png": "[encoded data removed]",
            "text/plain": [
              "<Figure size 432x288 with 1 Axes>"
            ]
          },
          "metadata": {
            "needs_background": "light"
          },
          "output_type": "display_data"
        }
      ],
      "source": [
        "# weight_restricted\n",
        "train['weight_restricted'].value_counts()\n",
        "sns.countplot(data=train, x=train['weight_restricted']).set_title('weight_restricted')"
      ]
    },
    {
      "cell_type": "markdown",
      "metadata": {
        "id": "OlumMpAi7DE_"
      },
      "source": [
        "대부분의 도로가 무게 제한이 없는 것으로 확인된다 "
      ]
    },
    {
      "cell_type": "code",
      "execution_count": 10,
      "metadata": {
        "colab": {
          "base_uri": "https://localhost:8080/",
          "height": 298
        },
        "id": "ithk8YxW7GtO",
        "outputId": "48cab864-88b7-445a-8980-1fc67f5c9299"
      },
      "outputs": [
        {
          "data": {
            "text/plain": [
              "<matplotlib.axes._subplots.AxesSubplot at 0x7fbf03f49e80>"
            ]
          },
          "execution_count": 10,
          "metadata": {},
          "output_type": "execute_result"
        },
        {
          "data": {
            "image/png": "[encoded data removed]",
            "text/plain": [
              "<Figure size 432x288 with 1 Axes>"
            ]
          },
          "metadata": {
            "needs_background": "light"
          },
          "output_type": "display_data"
        }
      ],
      "source": [
        "# 앞선 두개의 컬럼을 비교 \n",
        "sns.boxplot(x='road_type',y='weight_restricted',data=train)"
      ]
    },
    {
      "cell_type": "code",
      "execution_count": 11,
      "metadata": {
        "colab": {
          "base_uri": "https://localhost:8080/",
          "height": 314
        },
        "id": "MmPbDy8y7O3I",
        "outputId": "8fe134c2-16e3-4d27-ba90-7b922fbed7ff"
      },
      "outputs": [
        {
          "data": {
            "text/plain": [
              "Text(0.5, 1.0, 'maximum_speed_limit')"
            ]
          },
          "execution_count": 11,
          "metadata": {},
          "output_type": "execute_result"
        },
        {
          "data": {
            "image/png": "[encoded data removed]",
            "text/plain": [
              "<Figure size 432x288 with 1 Axes>"
            ]
          },
          "metadata": {
            "needs_background": "light"
          },
          "output_type": "display_data"
        }
      ],
      "source": [
        "# maximum_speed_limit\n",
        "sns.countplot(data=train, x=train['maximum_speed_limit']).set_title('maximum_speed_limit')"
      ]
    },
    {
      "cell_type": "markdown",
      "metadata": {
        "id": "WjY9Z4_I7VuY"
      },
      "source": [
        "도로의 위치에 따라 속도의 제한이 다양하게 있음을 확인"
      ]
    },
    {
      "cell_type": "code",
      "execution_count": 12,
      "metadata": {
        "colab": {
          "base_uri": "https://localhost:8080/",
          "height": 314
        },
        "id": "C30C34G57Us4",
        "outputId": "08b4a660-1eba-41d9-e1a9-8447ad849685"
      },
      "outputs": [
        {
          "data": {
            "text/plain": [
              "Text(0.5, 1.0, 'speed_limit and target')"
            ]
          },
          "execution_count": 12,
          "metadata": {},
          "output_type": "execute_result"
        },
        {
          "data": {
            "image/png": "[encoded data removed]",
            "text/plain": [
              "<Figure size 432x288 with 1 Axes>"
            ]
          },
          "metadata": {
            "needs_background": "light"
          },
          "output_type": "display_data"
        }
      ],
      "source": [
        "# speed_limit and target\n",
        "sns.boxplot(x = \"maximum_speed_limit\", y = \"target\", data = train).set_title(\"speed_limit and target\")"
      ]
    },
    {
      "cell_type": "markdown",
      "metadata": {
        "id": "zxokw7zT7jAZ"
      },
      "source": [
        "target 컬럼과 상관성이 높았던 속도 제한 컬럼과의 관계를 시각적으로 확인 \n",
        "\n",
        "최대 제한 속도에 따라 평균 값의 차이가 다른 것이 확인"
      ]
    },
    {
      "cell_type": "code",
      "execution_count": 13,
      "metadata": {
        "colab": {
          "base_uri": "https://localhost:8080/",
          "height": 309
        },
        "id": "pT9zwtlD7pLO",
        "outputId": "d8016539-7b22-449c-95f3-8feaa054cfc3"
      },
      "outputs": [
        {
          "data": {
            "text/plain": [
              "<matplotlib.axes._subplots.AxesSubplot at 0x7fbf0d047160>"
            ]
          },
          "execution_count": 13,
          "metadata": {},
          "output_type": "execute_result"
        },
        {
          "data": {
            "image/png": "[encoded data removed]",
            "text/plain": [
              "<Figure size 432x288 with 1 Axes>"
            ]
          },
          "metadata": {
            "needs_background": "light"
          },
          "output_type": "display_data"
        }
      ],
      "source": [
        "# lane_count\n",
        "sns.countplot(data=train, x='lane_count')"
      ]
    },
    {
      "cell_type": "markdown",
      "metadata": {
        "id": "Fql6IuQn8xT9"
      },
      "source": [
        "도로의 차선의 개수를 시각화"
      ]
    },
    {
      "cell_type": "code",
      "execution_count": 14,
      "metadata": {
        "colab": {
          "base_uri": "https://localhost:8080/",
          "height": 298
        },
        "id": "md33qnzA8EN6",
        "outputId": "75bf0fdf-5a76-4ac1-a856-265e9752418a"
      },
      "outputs": [
        {
          "data": {
            "text/plain": [
              "<matplotlib.axes._subplots.AxesSubplot at 0x7fbf0c599460>"
            ]
          },
          "execution_count": 14,
          "metadata": {},
          "output_type": "execute_result"
        },
        {
          "data": {
            "image/png": "[encoded data removed]",
            "text/plain": [
              "<Figure size 432x288 with 1 Axes>"
            ]
          },
          "metadata": {
            "needs_background": "light"
          },
          "output_type": "display_data"
        }
      ],
      "source": [
        "sns.boxplot(x = 'lane_count', y = 'target', data = train)"
      ]
    },
    {
      "cell_type": "markdown",
      "metadata": {
        "id": "cvgb3cQE80SX"
      },
      "source": [
        "차선의 개수와 속도의 연관성 확인 \n",
        "\n"
      ]
    },
    {
      "cell_type": "code",
      "execution_count": 16,
      "metadata": {
        "colab": {
          "base_uri": "https://localhost:8080/",
          "height": 298
        },
        "id": "5TG4yvDe8rkM",
        "outputId": "f6ebca97-df60-4ab3-9a09-5e3528a4efc8"
      },
      "outputs": [
        {
          "data": {
            "text/plain": [
              "<matplotlib.axes._subplots.AxesSubplot at 0x7fbf0c26d310>"
            ]
          },
          "execution_count": 16,
          "metadata": {},
          "output_type": "execute_result"
        },
        {
          "data": {
            "image/png": "[encoded data removed]",
            "text/plain": [
              "<Figure size 432x288 with 1 Axes>"
            ]
          },
          "metadata": {
            "needs_background": "light"
          },
          "output_type": "display_data"
        }
      ],
      "source": [
        "# base_hour\n",
        "sns.countplot(data=train, x='base_hour')"
      ]
    },
    {
      "cell_type": "code",
      "execution_count": 15,
      "metadata": {
        "colab": {
          "base_uri": "https://localhost:8080/",
          "height": 298
        },
        "id": "zbn3hQMw8hGo",
        "outputId": "2ea83155-4b3b-49bc-e3b2-bc199b186bc5"
      },
      "outputs": [
        {
          "data": {
            "text/plain": [
              "<matplotlib.axes._subplots.AxesSubplot at 0x7fbf0d049910>"
            ]
          },
          "execution_count": 15,
          "metadata": {},
          "output_type": "execute_result"
        },
        {
          "data": {
            "image/png": "[encoded data removed]",
            "text/plain": [
              "<Figure size 432x288 with 1 Axes>"
            ]
          },
          "metadata": {
            "needs_background": "light"
          },
          "output_type": "display_data"
        }
      ],
      "source": [
        "sns.boxplot(x ='base_hour', y = 'target', data = train)"
      ]
    },
    {
      "cell_type": "markdown",
      "metadata": {
        "id": "AnXY-oEi8-TL"
      },
      "source": [
        "시간과 속도에 관계 확인\n",
        "\n",
        "낮시간보다는 야간에 평균 속도가 더 높음을 확인 "
      ]
    },
    {
      "cell_type": "markdown",
      "metadata": {
        "id": "c5kUvV04aMUU"
      },
      "source": [
        "### c. 공휴일"
      ]
    },
    {
      "cell_type": "markdown",
      "metadata": {
        "id": "lhZrKr9taTCx"
      },
      "source": [
        "- 21년 9월 1일 ~ 22년 7월 31일 까지의 데이터"
      ]
    },
    {
      "cell_type": "code",
      "execution_count": null,
      "metadata": {
        "colab": {
          "base_uri": "https://localhost:8080/"
        },
        "id": "41sTgcYqaOKQ",
        "outputId": "8a6fbd61-2183-4d24-e3d6-c3dc3c2b4289"
      },
      "outputs": [
        {
          "data": {
            "text/plain": [
              "base_date\n",
              "20210901    19722\n",
              "20210902    18809\n",
              "20210903    19880\n",
              "20210904    17998\n",
              "20210905    17836\n",
              "            ...  \n",
              "20220727     9195\n",
              "20220728     7601\n",
              "20220729     5138\n",
              "20220730     1845\n",
              "20220731     5539\n",
              "Name: target, Length: 281, dtype: int64"
            ]
          },
          "execution_count": 10,
          "metadata": {},
          "output_type": "execute_result"
        }
      ],
      "source": [
        "# 추출할 날짜 범위 확인  \n",
        "train.groupby([\"base_date\"])[\"target\"].size() "
      ]
    },
    {
      "cell_type": "code",
      "execution_count": null,
      "metadata": {
        "id": "g3g7wuDxaapP"
      },
      "outputs": [],
      "source": [
        "# API를 통해서 공휴일값 csv로 \n",
        "import requests\n",
        "import datetime\n",
        "import pandas as pd\n",
        "from bs4 import BeautifulSoup\n",
        "import urllib.parse as urlparse\n",
        "\n",
        "\n",
        "def get_request_query(url, operation, params, serviceKey):\n",
        "    params = urlparse.urlencode(params)\n",
        "    request_query = url + '/' + operation + '?' + params + '&' + 'serviceKey' + '=' + serviceKey\n",
        "    return request_query\n",
        "\n",
        "mykey = 'hOPOsEJuPvGw0UKbPVJgOM1UZibEftDpAQB4EMeN8d%2BkNfgbUDW1xES3OF16ltuqNedcW20eY412HX4AKpY%2F3Q%3D%3D'\n",
        "url = 'http://apis.data.go.kr/B090041/openapi/service/SpcdeInfoService'\n",
        "operation = 'getRestDeInfo'\n",
        "\n",
        "df = pd.DataFrame()\n",
        "\n",
        "for year in [2021,2022]:\n",
        "    for month in range(1,13):\n",
        "\n",
        "        if month < 10:\n",
        "            month = '0' + str(month)\n",
        "        else:\n",
        "            month = str(month)\n",
        "        params = {'solYear':year, 'solMonth':month}\n",
        "\n",
        "        request_query = get_request_query(url, operation, params, mykey)\n",
        "\n",
        "        res = requests.get(request_query)\n",
        "        soup = BeautifulSoup(res.text, 'lxml')\n",
        "        items = soup.find_all('item')\n",
        "\n",
        "        for item in items:\n",
        "            day = item.locdate.get_text()\n",
        "            name = item.datename.get_text()\n",
        "            data = {'dateName':name , 'locdate':day}\n",
        "            df = df.append(data, ignore_index=True)\n",
        "    \n",
        "display(df.head())"
      ]
    },
    {
      "cell_type": "code",
      "execution_count": null,
      "metadata": {
        "id": "sJuo48NwacyZ"
      },
      "outputs": [],
      "source": [
        "# df to csv\n",
        "df_holiday = pd.DataFrame(df,columns=['locdate','dateName'])\n",
        "df_holiday.to_csv('/content/drive/MyDrive/2022_02_machine_learning/holiday.csv',index=None)"
      ]
    },
    {
      "cell_type": "code",
      "execution_count": null,
      "metadata": {
        "colab": {
          "base_uri": "https://localhost:8080/",
          "height": 206
        },
        "id": "zk5DkhX_aeOc",
        "outputId": "230e0e8c-9212-4a21-dd89-8de09fa36ed3"
      },
      "outputs": [
        {
          "data": {
            "text/html": [
              "\n",
              "  <div id=\"df-a10afb01-e671-4381-8efb-29a6dfa53fac\">\n",
              "    <div class=\"colab-df-container\">\n",
              "      <div>\n",
              "<style scoped>\n",
              "    .dataframe tbody tr th:only-of-type {\n",
              "        vertical-align: middle;\n",
              "    }\n",
              "\n",
              "    .dataframe tbody tr th {\n",
              "        vertical-align: top;\n",
              "    }\n",
              "\n",
              "    .dataframe thead th {\n",
              "        text-align: right;\n",
              "    }\n",
              "</style>\n",
              "<table border=\"1\" class=\"dataframe\">\n",
              "  <thead>\n",
              "    <tr style=\"text-align: right;\">\n",
              "      <th></th>\n",
              "      <th>locdate</th>\n",
              "      <th>dateName</th>\n",
              "    </tr>\n",
              "  </thead>\n",
              "  <tbody>\n",
              "    <tr>\n",
              "      <th>0</th>\n",
              "      <td>20210101</td>\n",
              "      <td>1월1일</td>\n",
              "    </tr>\n",
              "    <tr>\n",
              "      <th>1</th>\n",
              "      <td>20210211</td>\n",
              "      <td>설날</td>\n",
              "    </tr>\n",
              "    <tr>\n",
              "      <th>2</th>\n",
              "      <td>20210212</td>\n",
              "      <td>설날</td>\n",
              "    </tr>\n",
              "    <tr>\n",
              "      <th>3</th>\n",
              "      <td>20210213</td>\n",
              "      <td>설날</td>\n",
              "    </tr>\n",
              "    <tr>\n",
              "      <th>4</th>\n",
              "      <td>20210301</td>\n",
              "      <td>삼일절</td>\n",
              "    </tr>\n",
              "  </tbody>\n",
              "</table>\n",
              "</div>\n",
              "      <button class=\"colab-df-convert\" onclick=\"convertToInteractive('df-a10afb01-e671-4381-8efb-29a6dfa53fac')\"\n",
              "              title=\"Convert this dataframe to an interactive table.\"\n",
              "              style=\"display:none;\">\n",
              "        \n",
              "  <svg xmlns=\"http://www.w3.org/2000/svg\" height=\"24px\"viewBox=\"0 0 24 24\"\n",
              "       width=\"24px\">\n",
              "    <path d=\"M0 0h24v24H0V0z\" fill=\"none\"/>\n",
              "    <path d=\"M18.56 5.44l.94 2.06.94-2.06 2.06-.94-2.06-.94-.94-2.06-.94 2.06-2.06.94zm-11 1L8.5 8.5l.94-2.06 2.06-.94-2.06-.94L8.5 2.5l-.94 2.06-2.06.94zm10 10l.94 2.06.94-2.06 2.06-.94-2.06-.94-.94-2.06-.94 2.06-2.06.94z\"/><path d=\"M17.41 7.96l-1.37-1.37c-.4-.4-.92-.59-1.43-.59-.52 0-1.04.2-1.43.59L10.3 9.45l-7.72 7.72c-.78.78-.78 2.05 0 2.83L4 21.41c.39.39.9.59 1.41.59.51 0 1.02-.2 1.41-.59l7.78-7.78 2.81-2.81c.8-.78.8-2.07 0-2.86zM5.41 20L4 18.59l7.72-7.72 1.47 1.35L5.41 20z\"/>\n",
              "  </svg>\n",
              "      </button>\n",
              "      \n",
              "  <style>\n",
              "    .colab-df-container {\n",
              "      display:flex;\n",
              "      flex-wrap:wrap;\n",
              "      gap: 12px;\n",
              "    }\n",
              "\n",
              "    .colab-df-convert {\n",
              "      background-color: #E8F0FE;\n",
              "      border: none;\n",
              "      border-radius: 50%;\n",
              "      cursor: pointer;\n",
              "      display: none;\n",
              "      fill: #1967D2;\n",
              "      height: 32px;\n",
              "      padding: 0 0 0 0;\n",
              "      width: 32px;\n",
              "    }\n",
              "\n",
              "    .colab-df-convert:hover {\n",
              "      background-color: #E2EBFA;\n",
              "      box-shadow: 0px 1px 2px rgba(60, 64, 67, 0.3), 0px 1px 3px 1px rgba(60, 64, 67, 0.15);\n",
              "      fill: #174EA6;\n",
              "    }\n",
              "\n",
              "    [theme=dark] .colab-df-convert {\n",
              "      background-color: #3B4455;\n",
              "      fill: #D2E3FC;\n",
              "    }\n",
              "\n",
              "    [theme=dark] .colab-df-convert:hover {\n",
              "      background-color: #434B5C;\n",
              "      box-shadow: 0px 1px 3px 1px rgba(0, 0, 0, 0.15);\n",
              "      filter: drop-shadow(0px 1px 2px rgba(0, 0, 0, 0.3));\n",
              "      fill: #FFFFFF;\n",
              "    }\n",
              "  </style>\n",
              "\n",
              "      <script>\n",
              "        const buttonEl =\n",
              "          document.querySelector('#df-a10afb01-e671-4381-8efb-29a6dfa53fac button.colab-df-convert');\n",
              "        buttonEl.style.display =\n",
              "          google.colab.kernel.accessAllowed ? 'block' : 'none';\n",
              "\n",
              "        async function convertToInteractive(key) {\n",
              "          const element = document.querySelector('#df-a10afb01-e671-4381-8efb-29a6dfa53fac');\n",
              "          const dataTable =\n",
              "            await google.colab.kernel.invokeFunction('convertToInteractive',\n",
              "                                                     [key], {});\n",
              "          if (!dataTable) return;\n",
              "\n",
              "          const docLinkHtml = 'Like what you see? Visit the ' +\n",
              "            '<a target=\"_blank\" href=https://colab.research.google.com/notebooks/data_table.ipynb>data table notebook</a>'\n",
              "            + ' to learn more about interactive tables.';\n",
              "          element.innerHTML = '';\n",
              "          dataTable['output_type'] = 'display_data';\n",
              "          await google.colab.output.renderOutput(dataTable, element);\n",
              "          const docLink = document.createElement('div');\n",
              "          docLink.innerHTML = docLinkHtml;\n",
              "          element.appendChild(docLink);\n",
              "        }\n",
              "      </script>\n",
              "    </div>\n",
              "  </div>\n",
              "  "
            ],
            "text/plain": [
              "    locdate dateName\n",
              "0  20210101     1월1일\n",
              "1  20210211       설날\n",
              "2  20210212       설날\n",
              "3  20210213       설날\n",
              "4  20210301      삼일절"
            ]
          },
          "execution_count": 19,
          "metadata": {},
          "output_type": "execute_result"
        }
      ],
      "source": [
        "# holiday 데이터셋 \n",
        "holiday = pd.read_csv('/content/drive/MyDrive/2022_02_machine_learning/holiday.csv')\n",
        "holiday.head()"
      ]
    },
    {
      "cell_type": "code",
      "execution_count": null,
      "metadata": {
        "id": "qYC7CeFca8-N"
      },
      "outputs": [],
      "source": [
        "# 공휴일과 토,일요일에 가중치 부여\n",
        "def create_time_features(data):\n",
        "\n",
        "    tmp = data.copy()\n",
        "\n",
        "    tmp['weekend'] = tmp['day_of_week'].map({\"월\":0, \"화\":0, \"수\":0, \"목\":0, \"금\":0, \"토\":1, \"일\":1})\n",
        "\n",
        "    tmp['holiday'] = tmp['base_date'].isin(holiday['locdate'].astype(int)).astype(int)\n",
        "    tmp['is_holiday'] = (tmp['weekend'] + tmp['holiday']).map({0:0, 1:1, 2:1})\n",
        "    tmp = tmp.drop(['weekend', 'holiday'], axis=1)\n",
        "    \n",
        "    tmp['month'] = tmp['base_date'].astype(str).str[4:6].astype(int)\n",
        "\n",
        "    return tmp\n",
        "\n",
        "\n",
        "train = create_time_features(train)\n",
        "test = create_time_features(test)"
      ]
    },
    {
      "cell_type": "code",
      "execution_count": null,
      "metadata": {
        "colab": {
          "base_uri": "https://localhost:8080/",
          "height": 369
        },
        "id": "6_o7cKF2a-Vg",
        "outputId": "3c9708a1-8d1a-443c-fa6d-beaf33bf40d5"
      },
      "outputs": [
        {
          "data": {
            "text/html": [
              "\n",
              "  <div id=\"df-4802a515-7ece-49a8-822e-eed109acc4df\">\n",
              "    <div class=\"colab-df-container\">\n",
              "      <div>\n",
              "<style scoped>\n",
              "    .dataframe tbody tr th:only-of-type {\n",
              "        vertical-align: middle;\n",
              "    }\n",
              "\n",
              "    .dataframe tbody tr th {\n",
              "        vertical-align: top;\n",
              "    }\n",
              "\n",
              "    .dataframe thead th {\n",
              "        text-align: right;\n",
              "    }\n",
              "</style>\n",
              "<table border=\"1\" class=\"dataframe\">\n",
              "  <thead>\n",
              "    <tr style=\"text-align: right;\">\n",
              "      <th></th>\n",
              "      <th>id</th>\n",
              "      <th>base_date</th>\n",
              "      <th>day_of_week</th>\n",
              "      <th>base_hour</th>\n",
              "      <th>road_in_use</th>\n",
              "      <th>lane_count</th>\n",
              "      <th>road_rating</th>\n",
              "      <th>road_name</th>\n",
              "      <th>multi_linked</th>\n",
              "      <th>connect_code</th>\n",
              "      <th>...</th>\n",
              "      <th>start_latitude</th>\n",
              "      <th>start_longitude</th>\n",
              "      <th>start_turn_restricted</th>\n",
              "      <th>end_node_name</th>\n",
              "      <th>end_latitude</th>\n",
              "      <th>end_longitude</th>\n",
              "      <th>end_turn_restricted</th>\n",
              "      <th>target</th>\n",
              "      <th>is_holiday</th>\n",
              "      <th>month</th>\n",
              "    </tr>\n",
              "  </thead>\n",
              "  <tbody>\n",
              "    <tr>\n",
              "      <th>0</th>\n",
              "      <td>TRAIN_0000000</td>\n",
              "      <td>20220623</td>\n",
              "      <td>목</td>\n",
              "      <td>17</td>\n",
              "      <td>0</td>\n",
              "      <td>1</td>\n",
              "      <td>106</td>\n",
              "      <td>지방도1112호선</td>\n",
              "      <td>0</td>\n",
              "      <td>0</td>\n",
              "      <td>...</td>\n",
              "      <td>33.427747</td>\n",
              "      <td>126.662612</td>\n",
              "      <td>없음</td>\n",
              "      <td>제3교래교</td>\n",
              "      <td>33.427749</td>\n",
              "      <td>126.662335</td>\n",
              "      <td>없음</td>\n",
              "      <td>52.0</td>\n",
              "      <td>0</td>\n",
              "      <td>6</td>\n",
              "    </tr>\n",
              "    <tr>\n",
              "      <th>1</th>\n",
              "      <td>TRAIN_0000001</td>\n",
              "      <td>20220728</td>\n",
              "      <td>목</td>\n",
              "      <td>21</td>\n",
              "      <td>0</td>\n",
              "      <td>2</td>\n",
              "      <td>103</td>\n",
              "      <td>일반국도11호선</td>\n",
              "      <td>0</td>\n",
              "      <td>0</td>\n",
              "      <td>...</td>\n",
              "      <td>33.500730</td>\n",
              "      <td>126.529107</td>\n",
              "      <td>있음</td>\n",
              "      <td>KAL사거리</td>\n",
              "      <td>33.504811</td>\n",
              "      <td>126.526240</td>\n",
              "      <td>없음</td>\n",
              "      <td>30.0</td>\n",
              "      <td>0</td>\n",
              "      <td>7</td>\n",
              "    </tr>\n",
              "    <tr>\n",
              "      <th>2</th>\n",
              "      <td>TRAIN_0000002</td>\n",
              "      <td>20211010</td>\n",
              "      <td>일</td>\n",
              "      <td>7</td>\n",
              "      <td>0</td>\n",
              "      <td>2</td>\n",
              "      <td>103</td>\n",
              "      <td>일반국도16호선</td>\n",
              "      <td>0</td>\n",
              "      <td>0</td>\n",
              "      <td>...</td>\n",
              "      <td>33.279145</td>\n",
              "      <td>126.368598</td>\n",
              "      <td>없음</td>\n",
              "      <td>상창육교</td>\n",
              "      <td>33.280072</td>\n",
              "      <td>126.362147</td>\n",
              "      <td>없음</td>\n",
              "      <td>61.0</td>\n",
              "      <td>1</td>\n",
              "      <td>10</td>\n",
              "    </tr>\n",
              "    <tr>\n",
              "      <th>3</th>\n",
              "      <td>TRAIN_0000003</td>\n",
              "      <td>20220311</td>\n",
              "      <td>금</td>\n",
              "      <td>13</td>\n",
              "      <td>0</td>\n",
              "      <td>2</td>\n",
              "      <td>107</td>\n",
              "      <td>태평로</td>\n",
              "      <td>0</td>\n",
              "      <td>0</td>\n",
              "      <td>...</td>\n",
              "      <td>33.246081</td>\n",
              "      <td>126.567204</td>\n",
              "      <td>없음</td>\n",
              "      <td>서현주택</td>\n",
              "      <td>33.245565</td>\n",
              "      <td>126.566228</td>\n",
              "      <td>없음</td>\n",
              "      <td>20.0</td>\n",
              "      <td>0</td>\n",
              "      <td>3</td>\n",
              "    </tr>\n",
              "    <tr>\n",
              "      <th>4</th>\n",
              "      <td>TRAIN_0000004</td>\n",
              "      <td>20211005</td>\n",
              "      <td>화</td>\n",
              "      <td>8</td>\n",
              "      <td>0</td>\n",
              "      <td>2</td>\n",
              "      <td>103</td>\n",
              "      <td>일반국도12호선</td>\n",
              "      <td>0</td>\n",
              "      <td>0</td>\n",
              "      <td>...</td>\n",
              "      <td>33.462214</td>\n",
              "      <td>126.326551</td>\n",
              "      <td>없음</td>\n",
              "      <td>애월입구</td>\n",
              "      <td>33.462677</td>\n",
              "      <td>126.330152</td>\n",
              "      <td>없음</td>\n",
              "      <td>38.0</td>\n",
              "      <td>0</td>\n",
              "      <td>10</td>\n",
              "    </tr>\n",
              "  </tbody>\n",
              "</table>\n",
              "<p>5 rows × 26 columns</p>\n",
              "</div>\n",
              "      <button class=\"colab-df-convert\" onclick=\"convertToInteractive('df-4802a515-7ece-49a8-822e-eed109acc4df')\"\n",
              "              title=\"Convert this dataframe to an interactive table.\"\n",
              "              style=\"display:none;\">\n",
              "        \n",
              "  <svg xmlns=\"http://www.w3.org/2000/svg\" height=\"24px\"viewBox=\"0 0 24 24\"\n",
              "       width=\"24px\">\n",
              "    <path d=\"M0 0h24v24H0V0z\" fill=\"none\"/>\n",
              "    <path d=\"M18.56 5.44l.94 2.06.94-2.06 2.06-.94-2.06-.94-.94-2.06-.94 2.06-2.06.94zm-11 1L8.5 8.5l.94-2.06 2.06-.94-2.06-.94L8.5 2.5l-.94 2.06-2.06.94zm10 10l.94 2.06.94-2.06 2.06-.94-2.06-.94-.94-2.06-.94 2.06-2.06.94z\"/><path d=\"M17.41 7.96l-1.37-1.37c-.4-.4-.92-.59-1.43-.59-.52 0-1.04.2-1.43.59L10.3 9.45l-7.72 7.72c-.78.78-.78 2.05 0 2.83L4 21.41c.39.39.9.59 1.41.59.51 0 1.02-.2 1.41-.59l7.78-7.78 2.81-2.81c.8-.78.8-2.07 0-2.86zM5.41 20L4 18.59l7.72-7.72 1.47 1.35L5.41 20z\"/>\n",
              "  </svg>\n",
              "      </button>\n",
              "      \n",
              "  <style>\n",
              "    .colab-df-container {\n",
              "      display:flex;\n",
              "      flex-wrap:wrap;\n",
              "      gap: 12px;\n",
              "    }\n",
              "\n",
              "    .colab-df-convert {\n",
              "      background-color: #E8F0FE;\n",
              "      border: none;\n",
              "      border-radius: 50%;\n",
              "      cursor: pointer;\n",
              "      display: none;\n",
              "      fill: #1967D2;\n",
              "      height: 32px;\n",
              "      padding: 0 0 0 0;\n",
              "      width: 32px;\n",
              "    }\n",
              "\n",
              "    .colab-df-convert:hover {\n",
              "      background-color: #E2EBFA;\n",
              "      box-shadow: 0px 1px 2px rgba(60, 64, 67, 0.3), 0px 1px 3px 1px rgba(60, 64, 67, 0.15);\n",
              "      fill: #174EA6;\n",
              "    }\n",
              "\n",
              "    [theme=dark] .colab-df-convert {\n",
              "      background-color: #3B4455;\n",
              "      fill: #D2E3FC;\n",
              "    }\n",
              "\n",
              "    [theme=dark] .colab-df-convert:hover {\n",
              "      background-color: #434B5C;\n",
              "      box-shadow: 0px 1px 3px 1px rgba(0, 0, 0, 0.15);\n",
              "      filter: drop-shadow(0px 1px 2px rgba(0, 0, 0, 0.3));\n",
              "      fill: #FFFFFF;\n",
              "    }\n",
              "  </style>\n",
              "\n",
              "      <script>\n",
              "        const buttonEl =\n",
              "          document.querySelector('#df-4802a515-7ece-49a8-822e-eed109acc4df button.colab-df-convert');\n",
              "        buttonEl.style.display =\n",
              "          google.colab.kernel.accessAllowed ? 'block' : 'none';\n",
              "\n",
              "        async function convertToInteractive(key) {\n",
              "          const element = document.querySelector('#df-4802a515-7ece-49a8-822e-eed109acc4df');\n",
              "          const dataTable =\n",
              "            await google.colab.kernel.invokeFunction('convertToInteractive',\n",
              "                                                     [key], {});\n",
              "          if (!dataTable) return;\n",
              "\n",
              "          const docLinkHtml = 'Like what you see? Visit the ' +\n",
              "            '<a target=\"_blank\" href=https://colab.research.google.com/notebooks/data_table.ipynb>data table notebook</a>'\n",
              "            + ' to learn more about interactive tables.';\n",
              "          element.innerHTML = '';\n",
              "          dataTable['output_type'] = 'display_data';\n",
              "          await google.colab.output.renderOutput(dataTable, element);\n",
              "          const docLink = document.createElement('div');\n",
              "          docLink.innerHTML = docLinkHtml;\n",
              "          element.appendChild(docLink);\n",
              "        }\n",
              "      </script>\n",
              "    </div>\n",
              "  </div>\n",
              "  "
            ],
            "text/plain": [
              "              id  base_date day_of_week  base_hour  road_in_use  lane_count  \\\n",
              "0  TRAIN_0000000   20220623           목         17            0           1   \n",
              "1  TRAIN_0000001   20220728           목         21            0           2   \n",
              "2  TRAIN_0000002   20211010           일          7            0           2   \n",
              "3  TRAIN_0000003   20220311           금         13            0           2   \n",
              "4  TRAIN_0000004   20211005           화          8            0           2   \n",
              "\n",
              "   road_rating  road_name  multi_linked  connect_code  ...  start_latitude  \\\n",
              "0          106  지방도1112호선             0             0  ...       33.427747   \n",
              "1          103   일반국도11호선             0             0  ...       33.500730   \n",
              "2          103   일반국도16호선             0             0  ...       33.279145   \n",
              "3          107        태평로             0             0  ...       33.246081   \n",
              "4          103   일반국도12호선             0             0  ...       33.462214   \n",
              "\n",
              "   start_longitude  start_turn_restricted  end_node_name  end_latitude  \\\n",
              "0       126.662612                     없음          제3교래교     33.427749   \n",
              "1       126.529107                     있음         KAL사거리     33.504811   \n",
              "2       126.368598                     없음           상창육교     33.280072   \n",
              "3       126.567204                     없음           서현주택     33.245565   \n",
              "4       126.326551                     없음           애월입구     33.462677   \n",
              "\n",
              "  end_longitude  end_turn_restricted  target is_holiday month  \n",
              "0    126.662335                   없음    52.0          0     6  \n",
              "1    126.526240                   없음    30.0          0     7  \n",
              "2    126.362147                   없음    61.0          1    10  \n",
              "3    126.566228                   없음    20.0          0     3  \n",
              "4    126.330152                   없음    38.0          0    10  \n",
              "\n",
              "[5 rows x 26 columns]"
            ]
          },
          "execution_count": 14,
          "metadata": {},
          "output_type": "execute_result"
        }
      ],
      "source": [
        "train.head()"
      ]
    },
    {
      "cell_type": "code",
      "execution_count": null,
      "metadata": {
        "colab": {
          "base_uri": "https://localhost:8080/"
        },
        "id": "-StbRDN2bB3R",
        "outputId": "d63a08b2-3dd6-4bd3-c9a2-aaf9dc233a38"
      },
      "outputs": [
        {
          "data": {
            "text/plain": [
              "0    3121708\n",
              "1    1579509\n",
              "Name: is_holiday, dtype: int64"
            ]
          },
          "execution_count": 15,
          "metadata": {},
          "output_type": "execute_result"
        }
      ],
      "source": [
        "train['is_holiday'].value_counts()"
      ]
    },
    {
      "cell_type": "markdown",
      "metadata": {
        "id": "DoKYzjExbLUZ"
      },
      "source": [
        "### d. 위경도"
      ]
    },
    {
      "cell_type": "code",
      "execution_count": null,
      "metadata": {
        "id": "HvzmHjqsdq99"
      },
      "outputs": [],
      "source": [
        "# 출발 위.경도와 도착 위.경도의 차이 계산산\n",
        "train['lat_change'] = train['start_latitude'] - train['end_latitude']\n",
        "train['lon_change'] = train['start_longitude'] - train['end_longitude']\n",
        "\n",
        "test['lat_change'] = test['start_latitude'] - test['end_latitude']\n",
        "test['lon_change'] = test['start_longitude'] - test['end_longitude']"
      ]
    },
    {
      "cell_type": "code",
      "execution_count": null,
      "metadata": {
        "id": "LQ08dNYzduCL"
      },
      "outputs": [],
      "source": [
        "# 출발과 도착 위경도를 통한 거리\n",
        "# https://www.kaggle.com/code/speedoheck/calculate-distance-with-geo-coordinates/notebook\n",
        "\n",
        "from math import radians, cos, sin, asin, sqrt\n",
        "\n",
        "def haversine(row):\n",
        "    \"\"\"\n",
        "    Calculate the great circle distance between two points \n",
        "    on the earth (specified in decimal degrees)\n",
        "    \"\"\"\n",
        "    # convert decimal degrees to radians\n",
        "    lon1 = row['start_longitude']\n",
        "    lat1 = row['start_latitude']\n",
        "    lon2 = row['end_longitude']\n",
        "    lat2 = row['end_latitude']\n",
        "\n",
        "    lon1, lat1, lon2, lat2 = map(radians, [lon1, lat1, lon2, lat2])\n",
        "    # haversine formula \n",
        "    dlon = lon2 - lon1 \n",
        "    dlat = lat2 - lat1 \n",
        "    a = sin(dlat/2)**2 + cos(lat1) * cos(lat2) * sin(dlon/2)**2\n",
        "    c = 2 * asin(sqrt(a)) \n",
        "    km = 6367 * c\n",
        "    return km"
      ]
    },
    {
      "cell_type": "code",
      "execution_count": null,
      "metadata": {
        "colab": {
          "base_uri": "https://localhost:8080/",
          "height": 279
        },
        "id": "rc9P9_YcdwRk",
        "outputId": "51d6bb69-7cce-42c9-900b-8924ad83a548"
      },
      "outputs": [
        {
          "data": {
            "image/png": "[encoded data removed]",
            "text/plain": [
              "<Figure size 432x288 with 1 Axes>"
            ]
          },
          "metadata": {
            "needs_background": "light"
          },
          "output_type": "display_data"
        }
      ],
      "source": [
        "# 이동 거리 \n",
        "train['distance'] = train.apply(haversine, axis=1)\n",
        "test['distance'] = test.apply(haversine, axis=1)\n",
        "sns.histplot(data=train, x='distance')"
      ]
    },
    {
      "cell_type": "code",
      "execution_count": null,
      "metadata": {
        "id": "aBaRiQJx9MHy"
      },
      "outputs": [],
      "source": [
        "sns.histplot(data=test, x='distance')"
      ]
    },
    {
      "cell_type": "code",
      "execution_count": null,
      "metadata": {
        "id": "rSUE5ekdfFQ7"
      },
      "outputs": [],
      "source": [
        "# 제주 국제 공항까지 거리\n",
        "def haversine_airport(row):\n",
        "    \"\"\"\n",
        "    Calculate the great circle distance between two points \n",
        "    on the earth (specified in decimal degrees)\n",
        "    \"\"\"\n",
        "    # convert decimal degrees to radians\n",
        "    lon1 = 126.4913534\n",
        "    lat1 = 33.5104135\n",
        "    lon2 = (row['start_longitude'] + row['end_longitude']) / 2\n",
        "    lat2 = (row['start_latitude'] + row['end_latitude']) / 2\n",
        "\n",
        "    lon1, lat1, lon2, lat2 = map(radians, [lon1, lat1, lon2, lat2])\n",
        "    # haversine formula \n",
        "    dlon = lon2 - lon1 \n",
        "    dlat = lat2 - lat1 \n",
        "    a = sin(dlat/2)**2 + cos(lat1) * cos(lat2) * sin(dlon/2)**2\n",
        "    c = 2 * asin(sqrt(a)) \n",
        "    km = 6367 * c\n",
        "    return km\n",
        "\n",
        "train['airport_distance'] = train.apply(haversine_airport, axis=1)\n",
        "test['airport_distance'] = test.apply(haversine_airport, axis=1)"
      ]
    },
    {
      "cell_type": "code",
      "execution_count": null,
      "metadata": {
        "colab": {
          "base_uri": "https://localhost:8080/",
          "height": 369
        },
        "id": "zDWyzgucfMLV",
        "outputId": "70c59c49-069f-44e5-c173-95b878d1ddd3"
      },
      "outputs": [
        {
          "data": {
            "text/html": [
              "\n",
              "  <div id=\"df-e897aa09-4915-466c-809d-e480ad39a6fa\">\n",
              "    <div class=\"colab-df-container\">\n",
              "      <div>\n",
              "<style scoped>\n",
              "    .dataframe tbody tr th:only-of-type {\n",
              "        vertical-align: middle;\n",
              "    }\n",
              "\n",
              "    .dataframe tbody tr th {\n",
              "        vertical-align: top;\n",
              "    }\n",
              "\n",
              "    .dataframe thead th {\n",
              "        text-align: right;\n",
              "    }\n",
              "</style>\n",
              "<table border=\"1\" class=\"dataframe\">\n",
              "  <thead>\n",
              "    <tr style=\"text-align: right;\">\n",
              "      <th></th>\n",
              "      <th>id</th>\n",
              "      <th>base_date</th>\n",
              "      <th>day_of_week</th>\n",
              "      <th>base_hour</th>\n",
              "      <th>road_in_use</th>\n",
              "      <th>lane_count</th>\n",
              "      <th>road_rating</th>\n",
              "      <th>road_name</th>\n",
              "      <th>multi_linked</th>\n",
              "      <th>connect_code</th>\n",
              "      <th>...</th>\n",
              "      <th>end_latitude</th>\n",
              "      <th>end_longitude</th>\n",
              "      <th>end_turn_restricted</th>\n",
              "      <th>target</th>\n",
              "      <th>is_holiday</th>\n",
              "      <th>month</th>\n",
              "      <th>lat_change</th>\n",
              "      <th>lon_change</th>\n",
              "      <th>distance</th>\n",
              "      <th>airport_distance</th>\n",
              "    </tr>\n",
              "  </thead>\n",
              "  <tbody>\n",
              "    <tr>\n",
              "      <th>0</th>\n",
              "      <td>TRAIN_0000000</td>\n",
              "      <td>20220623</td>\n",
              "      <td>목</td>\n",
              "      <td>17</td>\n",
              "      <td>0</td>\n",
              "      <td>1</td>\n",
              "      <td>106</td>\n",
              "      <td>지방도1112호선</td>\n",
              "      <td>0</td>\n",
              "      <td>0</td>\n",
              "      <td>...</td>\n",
              "      <td>33.427749</td>\n",
              "      <td>126.662335</td>\n",
              "      <td>없음</td>\n",
              "      <td>52.0</td>\n",
              "      <td>0</td>\n",
              "      <td>6</td>\n",
              "      <td>-0.000001</td>\n",
              "      <td>0.000277</td>\n",
              "      <td>0.025694</td>\n",
              "      <td>18.330548</td>\n",
              "    </tr>\n",
              "    <tr>\n",
              "      <th>1</th>\n",
              "      <td>TRAIN_0000001</td>\n",
              "      <td>20220728</td>\n",
              "      <td>목</td>\n",
              "      <td>21</td>\n",
              "      <td>0</td>\n",
              "      <td>2</td>\n",
              "      <td>103</td>\n",
              "      <td>일반국도11호선</td>\n",
              "      <td>0</td>\n",
              "      <td>0</td>\n",
              "      <td>...</td>\n",
              "      <td>33.504811</td>\n",
              "      <td>126.526240</td>\n",
              "      <td>없음</td>\n",
              "      <td>30.0</td>\n",
              "      <td>0</td>\n",
              "      <td>7</td>\n",
              "      <td>-0.004081</td>\n",
              "      <td>0.002867</td>\n",
              "      <td>0.525560</td>\n",
              "      <td>3.470872</td>\n",
              "    </tr>\n",
              "    <tr>\n",
              "      <th>2</th>\n",
              "      <td>TRAIN_0000002</td>\n",
              "      <td>20211010</td>\n",
              "      <td>일</td>\n",
              "      <td>7</td>\n",
              "      <td>0</td>\n",
              "      <td>2</td>\n",
              "      <td>103</td>\n",
              "      <td>일반국도16호선</td>\n",
              "      <td>0</td>\n",
              "      <td>0</td>\n",
              "      <td>...</td>\n",
              "      <td>33.280072</td>\n",
              "      <td>126.362147</td>\n",
              "      <td>없음</td>\n",
              "      <td>61.0</td>\n",
              "      <td>1</td>\n",
              "      <td>10</td>\n",
              "      <td>-0.000927</td>\n",
              "      <td>0.006450</td>\n",
              "      <td>0.608016</td>\n",
              "      <td>28.185912</td>\n",
              "    </tr>\n",
              "    <tr>\n",
              "      <th>3</th>\n",
              "      <td>TRAIN_0000003</td>\n",
              "      <td>20220311</td>\n",
              "      <td>금</td>\n",
              "      <td>13</td>\n",
              "      <td>0</td>\n",
              "      <td>2</td>\n",
              "      <td>107</td>\n",
              "      <td>태평로</td>\n",
              "      <td>0</td>\n",
              "      <td>0</td>\n",
              "      <td>...</td>\n",
              "      <td>33.245565</td>\n",
              "      <td>126.566228</td>\n",
              "      <td>없음</td>\n",
              "      <td>20.0</td>\n",
              "      <td>0</td>\n",
              "      <td>3</td>\n",
              "      <td>0.000515</td>\n",
              "      <td>0.000976</td>\n",
              "      <td>0.107285</td>\n",
              "      <td>30.222870</td>\n",
              "    </tr>\n",
              "    <tr>\n",
              "      <th>4</th>\n",
              "      <td>TRAIN_0000004</td>\n",
              "      <td>20211005</td>\n",
              "      <td>화</td>\n",
              "      <td>8</td>\n",
              "      <td>0</td>\n",
              "      <td>2</td>\n",
              "      <td>103</td>\n",
              "      <td>일반국도12호선</td>\n",
              "      <td>0</td>\n",
              "      <td>0</td>\n",
              "      <td>...</td>\n",
              "      <td>33.462677</td>\n",
              "      <td>126.330152</td>\n",
              "      <td>없음</td>\n",
              "      <td>38.0</td>\n",
              "      <td>0</td>\n",
              "      <td>10</td>\n",
              "      <td>-0.000462</td>\n",
              "      <td>-0.003601</td>\n",
              "      <td>0.337736</td>\n",
              "      <td>16.019878</td>\n",
              "    </tr>\n",
              "  </tbody>\n",
              "</table>\n",
              "<p>5 rows × 30 columns</p>\n",
              "</div>\n",
              "      <button class=\"colab-df-convert\" onclick=\"convertToInteractive('df-e897aa09-4915-466c-809d-e480ad39a6fa')\"\n",
              "              title=\"Convert this dataframe to an interactive table.\"\n",
              "              style=\"display:none;\">\n",
              "        \n",
              "  <svg xmlns=\"http://www.w3.org/2000/svg\" height=\"24px\"viewBox=\"0 0 24 24\"\n",
              "       width=\"24px\">\n",
              "    <path d=\"M0 0h24v24H0V0z\" fill=\"none\"/>\n",
              "    <path d=\"M18.56 5.44l.94 2.06.94-2.06 2.06-.94-2.06-.94-.94-2.06-.94 2.06-2.06.94zm-11 1L8.5 8.5l.94-2.06 2.06-.94-2.06-.94L8.5 2.5l-.94 2.06-2.06.94zm10 10l.94 2.06.94-2.06 2.06-.94-2.06-.94-.94-2.06-.94 2.06-2.06.94z\"/><path d=\"M17.41 7.96l-1.37-1.37c-.4-.4-.92-.59-1.43-.59-.52 0-1.04.2-1.43.59L10.3 9.45l-7.72 7.72c-.78.78-.78 2.05 0 2.83L4 21.41c.39.39.9.59 1.41.59.51 0 1.02-.2 1.41-.59l7.78-7.78 2.81-2.81c.8-.78.8-2.07 0-2.86zM5.41 20L4 18.59l7.72-7.72 1.47 1.35L5.41 20z\"/>\n",
              "  </svg>\n",
              "      </button>\n",
              "      \n",
              "  <style>\n",
              "    .colab-df-container {\n",
              "      display:flex;\n",
              "      flex-wrap:wrap;\n",
              "      gap: 12px;\n",
              "    }\n",
              "\n",
              "    .colab-df-convert {\n",
              "      background-color: #E8F0FE;\n",
              "      border: none;\n",
              "      border-radius: 50%;\n",
              "      cursor: pointer;\n",
              "      display: none;\n",
              "      fill: #1967D2;\n",
              "      height: 32px;\n",
              "      padding: 0 0 0 0;\n",
              "      width: 32px;\n",
              "    }\n",
              "\n",
              "    .colab-df-convert:hover {\n",
              "      background-color: #E2EBFA;\n",
              "      box-shadow: 0px 1px 2px rgba(60, 64, 67, 0.3), 0px 1px 3px 1px rgba(60, 64, 67, 0.15);\n",
              "      fill: #174EA6;\n",
              "    }\n",
              "\n",
              "    [theme=dark] .colab-df-convert {\n",
              "      background-color: #3B4455;\n",
              "      fill: #D2E3FC;\n",
              "    }\n",
              "\n",
              "    [theme=dark] .colab-df-convert:hover {\n",
              "      background-color: #434B5C;\n",
              "      box-shadow: 0px 1px 3px 1px rgba(0, 0, 0, 0.15);\n",
              "      filter: drop-shadow(0px 1px 2px rgba(0, 0, 0, 0.3));\n",
              "      fill: #FFFFFF;\n",
              "    }\n",
              "  </style>\n",
              "\n",
              "      <script>\n",
              "        const buttonEl =\n",
              "          document.querySelector('#df-e897aa09-4915-466c-809d-e480ad39a6fa button.colab-df-convert');\n",
              "        buttonEl.style.display =\n",
              "          google.colab.kernel.accessAllowed ? 'block' : 'none';\n",
              "\n",
              "        async function convertToInteractive(key) {\n",
              "          const element = document.querySelector('#df-e897aa09-4915-466c-809d-e480ad39a6fa');\n",
              "          const dataTable =\n",
              "            await google.colab.kernel.invokeFunction('convertToInteractive',\n",
              "                                                     [key], {});\n",
              "          if (!dataTable) return;\n",
              "\n",
              "          const docLinkHtml = 'Like what you see? Visit the ' +\n",
              "            '<a target=\"_blank\" href=https://colab.research.google.com/notebooks/data_table.ipynb>data table notebook</a>'\n",
              "            + ' to learn more about interactive tables.';\n",
              "          element.innerHTML = '';\n",
              "          dataTable['output_type'] = 'display_data';\n",
              "          await google.colab.output.renderOutput(dataTable, element);\n",
              "          const docLink = document.createElement('div');\n",
              "          docLink.innerHTML = docLinkHtml;\n",
              "          element.appendChild(docLink);\n",
              "        }\n",
              "      </script>\n",
              "    </div>\n",
              "  </div>\n",
              "  "
            ],
            "text/plain": [
              "              id  base_date day_of_week  base_hour  road_in_use  lane_count  \\\n",
              "0  TRAIN_0000000   20220623           목         17            0           1   \n",
              "1  TRAIN_0000001   20220728           목         21            0           2   \n",
              "2  TRAIN_0000002   20211010           일          7            0           2   \n",
              "3  TRAIN_0000003   20220311           금         13            0           2   \n",
              "4  TRAIN_0000004   20211005           화          8            0           2   \n",
              "\n",
              "   road_rating  road_name  multi_linked  connect_code  ...  end_latitude  \\\n",
              "0          106  지방도1112호선             0             0  ...     33.427749   \n",
              "1          103   일반국도11호선             0             0  ...     33.504811   \n",
              "2          103   일반국도16호선             0             0  ...     33.280072   \n",
              "3          107        태평로             0             0  ...     33.245565   \n",
              "4          103   일반국도12호선             0             0  ...     33.462677   \n",
              "\n",
              "   end_longitude  end_turn_restricted  target  is_holiday month  lat_change  \\\n",
              "0     126.662335                   없음    52.0           0     6   -0.000001   \n",
              "1     126.526240                   없음    30.0           0     7   -0.004081   \n",
              "2     126.362147                   없음    61.0           1    10   -0.000927   \n",
              "3     126.566228                   없음    20.0           0     3    0.000515   \n",
              "4     126.330152                   없음    38.0           0    10   -0.000462   \n",
              "\n",
              "   lon_change  distance airport_distance  \n",
              "0    0.000277  0.025694        18.330548  \n",
              "1    0.002867  0.525560         3.470872  \n",
              "2    0.006450  0.608016        28.185912  \n",
              "3    0.000976  0.107285        30.222870  \n",
              "4   -0.003601  0.337736        16.019878  \n",
              "\n",
              "[5 rows x 30 columns]"
            ]
          },
          "execution_count": 25,
          "metadata": {},
          "output_type": "execute_result"
        }
      ],
      "source": [
        "train.head()"
      ]
    },
    {
      "cell_type": "markdown",
      "metadata": {
        "id": "oNQDKFObbPQP"
      },
      "source": [
        "### e. 관광객 "
      ]
    },
    {
      "cell_type": "markdown",
      "metadata": {
        "id": "IrpT4gw9c3sM"
      },
      "source": [
        "- 제주입도 관광객 통계\n",
        "https://www.jeju.go.kr/open/open/iopenboard.htm?category=1035  "
      ]
    },
    {
      "cell_type": "code",
      "execution_count": null,
      "metadata": {
        "colab": {
          "base_uri": "https://localhost:8080/",
          "height": 645
        },
        "id": "siKKU5Pzc1N4",
        "outputId": "fbe182cd-755c-4b26-88fe-915d7fde2a97"
      },
      "outputs": [
        {
          "data": {
            "text/html": [
              "\n",
              "  <div id=\"df-a6cee962-53a1-4754-a538-859b35aabb9c\">\n",
              "    <div class=\"colab-df-container\">\n",
              "      <div>\n",
              "<style scoped>\n",
              "    .dataframe tbody tr th:only-of-type {\n",
              "        vertical-align: middle;\n",
              "    }\n",
              "\n",
              "    .dataframe tbody tr th {\n",
              "        vertical-align: top;\n",
              "    }\n",
              "\n",
              "    .dataframe thead th {\n",
              "        text-align: right;\n",
              "    }\n",
              "</style>\n",
              "<table border=\"1\" class=\"dataframe\">\n",
              "  <thead>\n",
              "    <tr style=\"text-align: right;\">\n",
              "      <th></th>\n",
              "      <th>time</th>\n",
              "      <th>tourist</th>\n",
              "      <th>year</th>\n",
              "      <th>month</th>\n",
              "    </tr>\n",
              "  </thead>\n",
              "  <tbody>\n",
              "    <tr>\n",
              "      <th>0</th>\n",
              "      <td>2021/01</td>\n",
              "      <td>468016</td>\n",
              "      <td>2021</td>\n",
              "      <td>1</td>\n",
              "    </tr>\n",
              "    <tr>\n",
              "      <th>1</th>\n",
              "      <td>2021/02</td>\n",
              "      <td>1261784</td>\n",
              "      <td>2021</td>\n",
              "      <td>2</td>\n",
              "    </tr>\n",
              "    <tr>\n",
              "      <th>2</th>\n",
              "      <td>2021/03</td>\n",
              "      <td>2155110</td>\n",
              "      <td>2021</td>\n",
              "      <td>3</td>\n",
              "    </tr>\n",
              "    <tr>\n",
              "      <th>3</th>\n",
              "      <td>2021/04</td>\n",
              "      <td>3237971</td>\n",
              "      <td>2021</td>\n",
              "      <td>4</td>\n",
              "    </tr>\n",
              "    <tr>\n",
              "      <th>4</th>\n",
              "      <td>2021/05</td>\n",
              "      <td>4374423</td>\n",
              "      <td>2021</td>\n",
              "      <td>5</td>\n",
              "    </tr>\n",
              "    <tr>\n",
              "      <th>5</th>\n",
              "      <td>2021/06</td>\n",
              "      <td>5513290</td>\n",
              "      <td>2021</td>\n",
              "      <td>6</td>\n",
              "    </tr>\n",
              "    <tr>\n",
              "      <th>6</th>\n",
              "      <td>2021/07</td>\n",
              "      <td>6644802</td>\n",
              "      <td>2021</td>\n",
              "      <td>7</td>\n",
              "    </tr>\n",
              "    <tr>\n",
              "      <th>7</th>\n",
              "      <td>2021/08</td>\n",
              "      <td>7618996</td>\n",
              "      <td>2021</td>\n",
              "      <td>8</td>\n",
              "    </tr>\n",
              "    <tr>\n",
              "      <th>8</th>\n",
              "      <td>2021/09</td>\n",
              "      <td>8491392</td>\n",
              "      <td>2021</td>\n",
              "      <td>9</td>\n",
              "    </tr>\n",
              "    <tr>\n",
              "      <th>9</th>\n",
              "      <td>2021/10</td>\n",
              "      <td>9713486</td>\n",
              "      <td>2021</td>\n",
              "      <td>10</td>\n",
              "    </tr>\n",
              "    <tr>\n",
              "      <th>10</th>\n",
              "      <td>2021/11</td>\n",
              "      <td>10917830</td>\n",
              "      <td>2021</td>\n",
              "      <td>11</td>\n",
              "    </tr>\n",
              "    <tr>\n",
              "      <th>11</th>\n",
              "      <td>2021/12</td>\n",
              "      <td>12008437</td>\n",
              "      <td>2021</td>\n",
              "      <td>12</td>\n",
              "    </tr>\n",
              "    <tr>\n",
              "      <th>12</th>\n",
              "      <td>2022/01</td>\n",
              "      <td>1170802</td>\n",
              "      <td>2022</td>\n",
              "      <td>1</td>\n",
              "    </tr>\n",
              "    <tr>\n",
              "      <th>13</th>\n",
              "      <td>2022/02</td>\n",
              "      <td>2200305</td>\n",
              "      <td>2022</td>\n",
              "      <td>2</td>\n",
              "    </tr>\n",
              "    <tr>\n",
              "      <th>14</th>\n",
              "      <td>2022/03</td>\n",
              "      <td>3073391</td>\n",
              "      <td>2022</td>\n",
              "      <td>3</td>\n",
              "    </tr>\n",
              "    <tr>\n",
              "      <th>15</th>\n",
              "      <td>2022/04</td>\n",
              "      <td>4251847</td>\n",
              "      <td>2022</td>\n",
              "      <td>4</td>\n",
              "    </tr>\n",
              "    <tr>\n",
              "      <th>16</th>\n",
              "      <td>2022/05</td>\n",
              "      <td>5558384</td>\n",
              "      <td>2022</td>\n",
              "      <td>5</td>\n",
              "    </tr>\n",
              "    <tr>\n",
              "      <th>17</th>\n",
              "      <td>2022/06</td>\n",
              "      <td>6841854</td>\n",
              "      <td>2022</td>\n",
              "      <td>6</td>\n",
              "    </tr>\n",
              "    <tr>\n",
              "      <th>18</th>\n",
              "      <td>2022/07</td>\n",
              "      <td>8105186</td>\n",
              "      <td>2022</td>\n",
              "      <td>7</td>\n",
              "    </tr>\n",
              "  </tbody>\n",
              "</table>\n",
              "</div>\n",
              "      <button class=\"colab-df-convert\" onclick=\"convertToInteractive('df-a6cee962-53a1-4754-a538-859b35aabb9c')\"\n",
              "              title=\"Convert this dataframe to an interactive table.\"\n",
              "              style=\"display:none;\">\n",
              "        \n",
              "  <svg xmlns=\"http://www.w3.org/2000/svg\" height=\"24px\"viewBox=\"0 0 24 24\"\n",
              "       width=\"24px\">\n",
              "    <path d=\"M0 0h24v24H0V0z\" fill=\"none\"/>\n",
              "    <path d=\"M18.56 5.44l.94 2.06.94-2.06 2.06-.94-2.06-.94-.94-2.06-.94 2.06-2.06.94zm-11 1L8.5 8.5l.94-2.06 2.06-.94-2.06-.94L8.5 2.5l-.94 2.06-2.06.94zm10 10l.94 2.06.94-2.06 2.06-.94-2.06-.94-.94-2.06-.94 2.06-2.06.94z\"/><path d=\"M17.41 7.96l-1.37-1.37c-.4-.4-.92-.59-1.43-.59-.52 0-1.04.2-1.43.59L10.3 9.45l-7.72 7.72c-.78.78-.78 2.05 0 2.83L4 21.41c.39.39.9.59 1.41.59.51 0 1.02-.2 1.41-.59l7.78-7.78 2.81-2.81c.8-.78.8-2.07 0-2.86zM5.41 20L4 18.59l7.72-7.72 1.47 1.35L5.41 20z\"/>\n",
              "  </svg>\n",
              "      </button>\n",
              "      \n",
              "  <style>\n",
              "    .colab-df-container {\n",
              "      display:flex;\n",
              "      flex-wrap:wrap;\n",
              "      gap: 12px;\n",
              "    }\n",
              "\n",
              "    .colab-df-convert {\n",
              "      background-color: #E8F0FE;\n",
              "      border: none;\n",
              "      border-radius: 50%;\n",
              "      cursor: pointer;\n",
              "      display: none;\n",
              "      fill: #1967D2;\n",
              "      height: 32px;\n",
              "      padding: 0 0 0 0;\n",
              "      width: 32px;\n",
              "    }\n",
              "\n",
              "    .colab-df-convert:hover {\n",
              "      background-color: #E2EBFA;\n",
              "      box-shadow: 0px 1px 2px rgba(60, 64, 67, 0.3), 0px 1px 3px 1px rgba(60, 64, 67, 0.15);\n",
              "      fill: #174EA6;\n",
              "    }\n",
              "\n",
              "    [theme=dark] .colab-df-convert {\n",
              "      background-color: #3B4455;\n",
              "      fill: #D2E3FC;\n",
              "    }\n",
              "\n",
              "    [theme=dark] .colab-df-convert:hover {\n",
              "      background-color: #434B5C;\n",
              "      box-shadow: 0px 1px 3px 1px rgba(0, 0, 0, 0.15);\n",
              "      filter: drop-shadow(0px 1px 2px rgba(0, 0, 0, 0.3));\n",
              "      fill: #FFFFFF;\n",
              "    }\n",
              "  </style>\n",
              "\n",
              "      <script>\n",
              "        const buttonEl =\n",
              "          document.querySelector('#df-a6cee962-53a1-4754-a538-859b35aabb9c button.colab-df-convert');\n",
              "        buttonEl.style.display =\n",
              "          google.colab.kernel.accessAllowed ? 'block' : 'none';\n",
              "\n",
              "        async function convertToInteractive(key) {\n",
              "          const element = document.querySelector('#df-a6cee962-53a1-4754-a538-859b35aabb9c');\n",
              "          const dataTable =\n",
              "            await google.colab.kernel.invokeFunction('convertToInteractive',\n",
              "                                                     [key], {});\n",
              "          if (!dataTable) return;\n",
              "\n",
              "          const docLinkHtml = 'Like what you see? Visit the ' +\n",
              "            '<a target=\"_blank\" href=https://colab.research.google.com/notebooks/data_table.ipynb>data table notebook</a>'\n",
              "            + ' to learn more about interactive tables.';\n",
              "          element.innerHTML = '';\n",
              "          dataTable['output_type'] = 'display_data';\n",
              "          await google.colab.output.renderOutput(dataTable, element);\n",
              "          const docLink = document.createElement('div');\n",
              "          docLink.innerHTML = docLinkHtml;\n",
              "          element.appendChild(docLink);\n",
              "        }\n",
              "      </script>\n",
              "    </div>\n",
              "  </div>\n",
              "  "
            ],
            "text/plain": [
              "       time   tourist  year  month\n",
              "0   2021/01    468016  2021      1\n",
              "1   2021/02   1261784  2021      2\n",
              "2   2021/03   2155110  2021      3\n",
              "3   2021/04   3237971  2021      4\n",
              "4   2021/05   4374423  2021      5\n",
              "5   2021/06   5513290  2021      6\n",
              "6   2021/07   6644802  2021      7\n",
              "7   2021/08   7618996  2021      8\n",
              "8   2021/09   8491392  2021      9\n",
              "9   2021/10   9713486  2021     10\n",
              "10  2021/11  10917830  2021     11\n",
              "11  2021/12  12008437  2021     12\n",
              "12  2022/01   1170802  2022      1\n",
              "13  2022/02   2200305  2022      2\n",
              "14  2022/03   3073391  2022      3\n",
              "15  2022/04   4251847  2022      4\n",
              "16  2022/05   5558384  2022      5\n",
              "17  2022/06   6841854  2022      6\n",
              "18  2022/07   8105186  2022      7"
            ]
          },
          "execution_count": 25,
          "metadata": {},
          "output_type": "execute_result"
        }
      ],
      "source": [
        "tourist = pd.read_csv('/content/drive/MyDrive/2022_02_machine_learning/jeju_tour.csv')\n",
        "tourist"
      ]
    },
    {
      "cell_type": "code",
      "execution_count": null,
      "metadata": {
        "id": "nSQ4n2cjCUsw"
      },
      "outputs": [],
      "source": [
        "# tourist의 추세를 확인인\n",
        "fig, ax = plt.subplots(figsize=(14,5)) \n",
        "plt.xticks(rotation=45)\n",
        "sns.lineplot(tourist['time'],tourist['tourist']).set_title(\"tourist trends\")"
      ]
    },
    {
      "cell_type": "code",
      "execution_count": null,
      "metadata": {
        "colab": {
          "base_uri": "https://localhost:8080/",
          "height": 369
        },
        "id": "9N4BJM42hOmI",
        "outputId": "8ffe023b-8dbb-4f7d-e3d7-e3d4c193622d"
      },
      "outputs": [
        {
          "data": {
            "text/html": [
              "\n",
              "  <div id=\"df-d93ec96c-45b4-4a27-a4e3-c64b603173c4\">\n",
              "    <div class=\"colab-df-container\">\n",
              "      <div>\n",
              "<style scoped>\n",
              "    .dataframe tbody tr th:only-of-type {\n",
              "        vertical-align: middle;\n",
              "    }\n",
              "\n",
              "    .dataframe tbody tr th {\n",
              "        vertical-align: top;\n",
              "    }\n",
              "\n",
              "    .dataframe thead th {\n",
              "        text-align: right;\n",
              "    }\n",
              "</style>\n",
              "<table border=\"1\" class=\"dataframe\">\n",
              "  <thead>\n",
              "    <tr style=\"text-align: right;\">\n",
              "      <th></th>\n",
              "      <th>id</th>\n",
              "      <th>base_date</th>\n",
              "      <th>day_of_week</th>\n",
              "      <th>base_hour</th>\n",
              "      <th>road_in_use</th>\n",
              "      <th>lane_count</th>\n",
              "      <th>road_rating</th>\n",
              "      <th>road_name</th>\n",
              "      <th>multi_linked</th>\n",
              "      <th>connect_code</th>\n",
              "      <th>...</th>\n",
              "      <th>end_turn_restricted</th>\n",
              "      <th>target</th>\n",
              "      <th>is_holiday</th>\n",
              "      <th>month</th>\n",
              "      <th>lat_change</th>\n",
              "      <th>lon_change</th>\n",
              "      <th>distance</th>\n",
              "      <th>airport_distance</th>\n",
              "      <th>year</th>\n",
              "      <th>tourist</th>\n",
              "    </tr>\n",
              "  </thead>\n",
              "  <tbody>\n",
              "    <tr>\n",
              "      <th>0</th>\n",
              "      <td>TRAIN_0000000</td>\n",
              "      <td>20220623</td>\n",
              "      <td>목</td>\n",
              "      <td>17</td>\n",
              "      <td>0</td>\n",
              "      <td>1</td>\n",
              "      <td>106</td>\n",
              "      <td>지방도1112호선</td>\n",
              "      <td>0</td>\n",
              "      <td>0</td>\n",
              "      <td>...</td>\n",
              "      <td>없음</td>\n",
              "      <td>52.0</td>\n",
              "      <td>0</td>\n",
              "      <td>6</td>\n",
              "      <td>-0.000001</td>\n",
              "      <td>0.000277</td>\n",
              "      <td>0.025694</td>\n",
              "      <td>18.330548</td>\n",
              "      <td>2022</td>\n",
              "      <td>6841854</td>\n",
              "    </tr>\n",
              "    <tr>\n",
              "      <th>1</th>\n",
              "      <td>TRAIN_0000001</td>\n",
              "      <td>20220728</td>\n",
              "      <td>목</td>\n",
              "      <td>21</td>\n",
              "      <td>0</td>\n",
              "      <td>2</td>\n",
              "      <td>103</td>\n",
              "      <td>일반국도11호선</td>\n",
              "      <td>0</td>\n",
              "      <td>0</td>\n",
              "      <td>...</td>\n",
              "      <td>없음</td>\n",
              "      <td>30.0</td>\n",
              "      <td>0</td>\n",
              "      <td>7</td>\n",
              "      <td>-0.004081</td>\n",
              "      <td>0.002867</td>\n",
              "      <td>0.525560</td>\n",
              "      <td>3.470872</td>\n",
              "      <td>2022</td>\n",
              "      <td>8105186</td>\n",
              "    </tr>\n",
              "    <tr>\n",
              "      <th>2</th>\n",
              "      <td>TRAIN_0000002</td>\n",
              "      <td>20211010</td>\n",
              "      <td>일</td>\n",
              "      <td>7</td>\n",
              "      <td>0</td>\n",
              "      <td>2</td>\n",
              "      <td>103</td>\n",
              "      <td>일반국도16호선</td>\n",
              "      <td>0</td>\n",
              "      <td>0</td>\n",
              "      <td>...</td>\n",
              "      <td>없음</td>\n",
              "      <td>61.0</td>\n",
              "      <td>1</td>\n",
              "      <td>10</td>\n",
              "      <td>-0.000927</td>\n",
              "      <td>0.006450</td>\n",
              "      <td>0.608016</td>\n",
              "      <td>28.185912</td>\n",
              "      <td>2021</td>\n",
              "      <td>9713486</td>\n",
              "    </tr>\n",
              "    <tr>\n",
              "      <th>3</th>\n",
              "      <td>TRAIN_0000003</td>\n",
              "      <td>20220311</td>\n",
              "      <td>금</td>\n",
              "      <td>13</td>\n",
              "      <td>0</td>\n",
              "      <td>2</td>\n",
              "      <td>107</td>\n",
              "      <td>태평로</td>\n",
              "      <td>0</td>\n",
              "      <td>0</td>\n",
              "      <td>...</td>\n",
              "      <td>없음</td>\n",
              "      <td>20.0</td>\n",
              "      <td>0</td>\n",
              "      <td>3</td>\n",
              "      <td>0.000515</td>\n",
              "      <td>0.000976</td>\n",
              "      <td>0.107285</td>\n",
              "      <td>30.222870</td>\n",
              "      <td>2022</td>\n",
              "      <td>3073391</td>\n",
              "    </tr>\n",
              "    <tr>\n",
              "      <th>4</th>\n",
              "      <td>TRAIN_0000004</td>\n",
              "      <td>20211005</td>\n",
              "      <td>화</td>\n",
              "      <td>8</td>\n",
              "      <td>0</td>\n",
              "      <td>2</td>\n",
              "      <td>103</td>\n",
              "      <td>일반국도12호선</td>\n",
              "      <td>0</td>\n",
              "      <td>0</td>\n",
              "      <td>...</td>\n",
              "      <td>없음</td>\n",
              "      <td>38.0</td>\n",
              "      <td>0</td>\n",
              "      <td>10</td>\n",
              "      <td>-0.000462</td>\n",
              "      <td>-0.003601</td>\n",
              "      <td>0.337736</td>\n",
              "      <td>16.019878</td>\n",
              "      <td>2021</td>\n",
              "      <td>9713486</td>\n",
              "    </tr>\n",
              "  </tbody>\n",
              "</table>\n",
              "<p>5 rows × 32 columns</p>\n",
              "</div>\n",
              "      <button class=\"colab-df-convert\" onclick=\"convertToInteractive('df-d93ec96c-45b4-4a27-a4e3-c64b603173c4')\"\n",
              "              title=\"Convert this dataframe to an interactive table.\"\n",
              "              style=\"display:none;\">\n",
              "        \n",
              "  <svg xmlns=\"http://www.w3.org/2000/svg\" height=\"24px\"viewBox=\"0 0 24 24\"\n",
              "       width=\"24px\">\n",
              "    <path d=\"M0 0h24v24H0V0z\" fill=\"none\"/>\n",
              "    <path d=\"M18.56 5.44l.94 2.06.94-2.06 2.06-.94-2.06-.94-.94-2.06-.94 2.06-2.06.94zm-11 1L8.5 8.5l.94-2.06 2.06-.94-2.06-.94L8.5 2.5l-.94 2.06-2.06.94zm10 10l.94 2.06.94-2.06 2.06-.94-2.06-.94-.94-2.06-.94 2.06-2.06.94z\"/><path d=\"M17.41 7.96l-1.37-1.37c-.4-.4-.92-.59-1.43-.59-.52 0-1.04.2-1.43.59L10.3 9.45l-7.72 7.72c-.78.78-.78 2.05 0 2.83L4 21.41c.39.39.9.59 1.41.59.51 0 1.02-.2 1.41-.59l7.78-7.78 2.81-2.81c.8-.78.8-2.07 0-2.86zM5.41 20L4 18.59l7.72-7.72 1.47 1.35L5.41 20z\"/>\n",
              "  </svg>\n",
              "      </button>\n",
              "      \n",
              "  <style>\n",
              "    .colab-df-container {\n",
              "      display:flex;\n",
              "      flex-wrap:wrap;\n",
              "      gap: 12px;\n",
              "    }\n",
              "\n",
              "    .colab-df-convert {\n",
              "      background-color: #E8F0FE;\n",
              "      border: none;\n",
              "      border-radius: 50%;\n",
              "      cursor: pointer;\n",
              "      display: none;\n",
              "      fill: #1967D2;\n",
              "      height: 32px;\n",
              "      padding: 0 0 0 0;\n",
              "      width: 32px;\n",
              "    }\n",
              "\n",
              "    .colab-df-convert:hover {\n",
              "      background-color: #E2EBFA;\n",
              "      box-shadow: 0px 1px 2px rgba(60, 64, 67, 0.3), 0px 1px 3px 1px rgba(60, 64, 67, 0.15);\n",
              "      fill: #174EA6;\n",
              "    }\n",
              "\n",
              "    [theme=dark] .colab-df-convert {\n",
              "      background-color: #3B4455;\n",
              "      fill: #D2E3FC;\n",
              "    }\n",
              "\n",
              "    [theme=dark] .colab-df-convert:hover {\n",
              "      background-color: #434B5C;\n",
              "      box-shadow: 0px 1px 3px 1px rgba(0, 0, 0, 0.15);\n",
              "      filter: drop-shadow(0px 1px 2px rgba(0, 0, 0, 0.3));\n",
              "      fill: #FFFFFF;\n",
              "    }\n",
              "  </style>\n",
              "\n",
              "      <script>\n",
              "        const buttonEl =\n",
              "          document.querySelector('#df-d93ec96c-45b4-4a27-a4e3-c64b603173c4 button.colab-df-convert');\n",
              "        buttonEl.style.display =\n",
              "          google.colab.kernel.accessAllowed ? 'block' : 'none';\n",
              "\n",
              "        async function convertToInteractive(key) {\n",
              "          const element = document.querySelector('#df-d93ec96c-45b4-4a27-a4e3-c64b603173c4');\n",
              "          const dataTable =\n",
              "            await google.colab.kernel.invokeFunction('convertToInteractive',\n",
              "                                                     [key], {});\n",
              "          if (!dataTable) return;\n",
              "\n",
              "          const docLinkHtml = 'Like what you see? Visit the ' +\n",
              "            '<a target=\"_blank\" href=https://colab.research.google.com/notebooks/data_table.ipynb>data table notebook</a>'\n",
              "            + ' to learn more about interactive tables.';\n",
              "          element.innerHTML = '';\n",
              "          dataTable['output_type'] = 'display_data';\n",
              "          await google.colab.output.renderOutput(dataTable, element);\n",
              "          const docLink = document.createElement('div');\n",
              "          docLink.innerHTML = docLinkHtml;\n",
              "          element.appendChild(docLink);\n",
              "        }\n",
              "      </script>\n",
              "    </div>\n",
              "  </div>\n",
              "  "
            ],
            "text/plain": [
              "              id  base_date day_of_week  base_hour  road_in_use  lane_count  \\\n",
              "0  TRAIN_0000000   20220623           목         17            0           1   \n",
              "1  TRAIN_0000001   20220728           목         21            0           2   \n",
              "2  TRAIN_0000002   20211010           일          7            0           2   \n",
              "3  TRAIN_0000003   20220311           금         13            0           2   \n",
              "4  TRAIN_0000004   20211005           화          8            0           2   \n",
              "\n",
              "   road_rating  road_name  multi_linked  connect_code  ...  \\\n",
              "0          106  지방도1112호선             0             0  ...   \n",
              "1          103   일반국도11호선             0             0  ...   \n",
              "2          103   일반국도16호선             0             0  ...   \n",
              "3          107        태평로             0             0  ...   \n",
              "4          103   일반국도12호선             0             0  ...   \n",
              "\n",
              "   end_turn_restricted  target  is_holiday  month  lat_change lon_change  \\\n",
              "0                   없음    52.0           0      6   -0.000001   0.000277   \n",
              "1                   없음    30.0           0      7   -0.004081   0.002867   \n",
              "2                   없음    61.0           1     10   -0.000927   0.006450   \n",
              "3                   없음    20.0           0      3    0.000515   0.000976   \n",
              "4                   없음    38.0           0     10   -0.000462  -0.003601   \n",
              "\n",
              "   distance  airport_distance  year  tourist  \n",
              "0  0.025694         18.330548  2022  6841854  \n",
              "1  0.525560          3.470872  2022  8105186  \n",
              "2  0.608016         28.185912  2021  9713486  \n",
              "3  0.107285         30.222870  2022  3073391  \n",
              "4  0.337736         16.019878  2021  9713486  \n",
              "\n",
              "[5 rows x 32 columns]"
            ]
          },
          "execution_count": 26,
          "metadata": {},
          "output_type": "execute_result"
        }
      ],
      "source": [
        "train['year'] = train['base_date'].astype(str).str[:4].astype(int)\n",
        "train = train.merge(tourist[['year', 'month', 'tourist']], how='left', on=['year', 'month'])\n",
        "test['year'] = test['base_date'].astype(str).str[:4].astype(int)\n",
        "test = test.merge(tourist[['year', 'month', 'tourist']], how='left', on=['year', 'month'])\n",
        "train.head()"
      ]
    },
    {
      "cell_type": "markdown",
      "metadata": {
        "id": "sp6zzXaMgCjA"
      },
      "source": [
        "### f. 범주형 변수 인코딩"
      ]
    },
    {
      "cell_type": "code",
      "execution_count": null,
      "metadata": {
        "id": "3xe64TkvgFS5"
      },
      "outputs": [],
      "source": [
        "# Label Encoding\n",
        "str_col = ['day_of_week', 'road_rating', 'road_type']\n",
        "for i in str_col:\n",
        "    le = LabelEncoder()\n",
        "    le=le.fit(train[i])\n",
        "    train[i]=le.transform(train[i])\n",
        "    \n",
        "    for label in np.unique(test[i]):\n",
        "        if label not in le.classes_: \n",
        "            le.classes_ = np.append(le.classes_, label)\n",
        "    test[i]=le.transform(test[i])"
      ]
    },
    {
      "cell_type": "code",
      "execution_count": null,
      "metadata": {
        "colab": {
          "base_uri": "https://localhost:8080/"
        },
        "id": "nUsw8SbhgGyE",
        "outputId": "56c5aafb-578f-4d4f-d8e6-079feab86cd2"
      },
      "outputs": [
        {
          "data": {
            "text/plain": [
              "((4701217, 35), (291241, 34))"
            ]
          },
          "execution_count": 28,
          "metadata": {},
          "output_type": "execute_result"
        }
      ],
      "source": [
        "# One-hot Encoding\n",
        "train = pd.get_dummies(train, columns = str_col[1:], drop_first=False)\n",
        "test = pd.get_dummies(test, columns = str_col[1:], drop_first=False)\n",
        "\n",
        "train.shape, test.shape"
      ]
    },
    {
      "cell_type": "code",
      "execution_count": 17,
      "metadata": {
        "id": "F3iHHyqRiQ-8"
      },
      "outputs": [],
      "source": [
        "# 전처리 이후의 데이터를 parquet 형태로 튜닝시 불편함 해소\n",
        "train.to_parquet('/content/drive/MyDrive/2022_02_machine_learning/train_final.parquet')\n",
        "test.to_parquet('/content/drive/MyDrive/2022_02_machine_learning/test_final.parquet')"
      ]
    },
    {
      "cell_type": "code",
      "execution_count": 20,
      "metadata": {
        "colab": {
          "base_uri": "https://localhost:8080/"
        },
        "id": "h4F1sm9EiSmb",
        "outputId": "c325bdaf-d372-459c-9ef8-15f696160328"
      },
      "outputs": [
        {
          "data": {
            "text/plain": [
              "((4701217, 35), (291241, 34))"
            ]
          },
          "execution_count": 20,
          "metadata": {},
          "output_type": "execute_result"
        }
      ],
      "source": [
        "train = pd.read_parquet('/content/drive/MyDrive/2022_02_machine_learning/train_final.parquet')\n",
        "test = pd.read_parquet('/content/drive/MyDrive/2022_02_machine_learning/test_final.parquet')\n",
        "train.shape, test.shape"
      ]
    },
    {
      "cell_type": "code",
      "execution_count": 21,
      "metadata": {
        "colab": {
          "base_uri": "https://localhost:8080/",
          "height": 369
        },
        "id": "KghJ5k1kioux",
        "outputId": "e878e3f1-36b4-42af-87e6-467a4e2b1100"
      },
      "outputs": [
        {
          "data": {
            "text/html": [
              "\n",
              "  <div id=\"df-c32ab83e-19e5-47d0-afb9-ed5dd8b74fe9\">\n",
              "    <div class=\"colab-df-container\">\n",
              "      <div>\n",
              "<style scoped>\n",
              "    .dataframe tbody tr th:only-of-type {\n",
              "        vertical-align: middle;\n",
              "    }\n",
              "\n",
              "    .dataframe tbody tr th {\n",
              "        vertical-align: top;\n",
              "    }\n",
              "\n",
              "    .dataframe thead th {\n",
              "        text-align: right;\n",
              "    }\n",
              "</style>\n",
              "<table border=\"1\" class=\"dataframe\">\n",
              "  <thead>\n",
              "    <tr style=\"text-align: right;\">\n",
              "      <th></th>\n",
              "      <th>id</th>\n",
              "      <th>base_date</th>\n",
              "      <th>day_of_week</th>\n",
              "      <th>base_hour</th>\n",
              "      <th>road_in_use</th>\n",
              "      <th>lane_count</th>\n",
              "      <th>road_name</th>\n",
              "      <th>multi_linked</th>\n",
              "      <th>connect_code</th>\n",
              "      <th>maximum_speed_limit</th>\n",
              "      <th>...</th>\n",
              "      <th>lon_change</th>\n",
              "      <th>distance</th>\n",
              "      <th>airport_distance</th>\n",
              "      <th>year</th>\n",
              "      <th>tourist</th>\n",
              "      <th>road_rating_0</th>\n",
              "      <th>road_rating_1</th>\n",
              "      <th>road_rating_2</th>\n",
              "      <th>road_type_0</th>\n",
              "      <th>road_type_1</th>\n",
              "    </tr>\n",
              "  </thead>\n",
              "  <tbody>\n",
              "    <tr>\n",
              "      <th>0</th>\n",
              "      <td>TRAIN_0000000</td>\n",
              "      <td>20220623</td>\n",
              "      <td>1</td>\n",
              "      <td>17</td>\n",
              "      <td>0</td>\n",
              "      <td>1</td>\n",
              "      <td>지방도1112호선</td>\n",
              "      <td>0</td>\n",
              "      <td>0</td>\n",
              "      <td>60.0</td>\n",
              "      <td>...</td>\n",
              "      <td>0.000277</td>\n",
              "      <td>0.025694</td>\n",
              "      <td>18.330548</td>\n",
              "      <td>2022</td>\n",
              "      <td>6841854</td>\n",
              "      <td>0</td>\n",
              "      <td>1</td>\n",
              "      <td>0</td>\n",
              "      <td>0</td>\n",
              "      <td>1</td>\n",
              "    </tr>\n",
              "    <tr>\n",
              "      <th>1</th>\n",
              "      <td>TRAIN_0000001</td>\n",
              "      <td>20220728</td>\n",
              "      <td>1</td>\n",
              "      <td>21</td>\n",
              "      <td>0</td>\n",
              "      <td>2</td>\n",
              "      <td>일반국도11호선</td>\n",
              "      <td>0</td>\n",
              "      <td>0</td>\n",
              "      <td>60.0</td>\n",
              "      <td>...</td>\n",
              "      <td>0.002867</td>\n",
              "      <td>0.525560</td>\n",
              "      <td>3.470872</td>\n",
              "      <td>2022</td>\n",
              "      <td>8105186</td>\n",
              "      <td>1</td>\n",
              "      <td>0</td>\n",
              "      <td>0</td>\n",
              "      <td>1</td>\n",
              "      <td>0</td>\n",
              "    </tr>\n",
              "    <tr>\n",
              "      <th>2</th>\n",
              "      <td>TRAIN_0000002</td>\n",
              "      <td>20211010</td>\n",
              "      <td>4</td>\n",
              "      <td>7</td>\n",
              "      <td>0</td>\n",
              "      <td>2</td>\n",
              "      <td>일반국도16호선</td>\n",
              "      <td>0</td>\n",
              "      <td>0</td>\n",
              "      <td>80.0</td>\n",
              "      <td>...</td>\n",
              "      <td>0.006450</td>\n",
              "      <td>0.608016</td>\n",
              "      <td>28.185912</td>\n",
              "      <td>2021</td>\n",
              "      <td>9713486</td>\n",
              "      <td>1</td>\n",
              "      <td>0</td>\n",
              "      <td>0</td>\n",
              "      <td>1</td>\n",
              "      <td>0</td>\n",
              "    </tr>\n",
              "    <tr>\n",
              "      <th>3</th>\n",
              "      <td>TRAIN_0000003</td>\n",
              "      <td>20220311</td>\n",
              "      <td>0</td>\n",
              "      <td>13</td>\n",
              "      <td>0</td>\n",
              "      <td>2</td>\n",
              "      <td>태평로</td>\n",
              "      <td>0</td>\n",
              "      <td>0</td>\n",
              "      <td>50.0</td>\n",
              "      <td>...</td>\n",
              "      <td>0.000976</td>\n",
              "      <td>0.107285</td>\n",
              "      <td>30.222870</td>\n",
              "      <td>2022</td>\n",
              "      <td>3073391</td>\n",
              "      <td>0</td>\n",
              "      <td>0</td>\n",
              "      <td>1</td>\n",
              "      <td>1</td>\n",
              "      <td>0</td>\n",
              "    </tr>\n",
              "    <tr>\n",
              "      <th>4</th>\n",
              "      <td>TRAIN_0000004</td>\n",
              "      <td>20211005</td>\n",
              "      <td>6</td>\n",
              "      <td>8</td>\n",
              "      <td>0</td>\n",
              "      <td>2</td>\n",
              "      <td>일반국도12호선</td>\n",
              "      <td>0</td>\n",
              "      <td>0</td>\n",
              "      <td>80.0</td>\n",
              "      <td>...</td>\n",
              "      <td>-0.003601</td>\n",
              "      <td>0.337736</td>\n",
              "      <td>16.019878</td>\n",
              "      <td>2021</td>\n",
              "      <td>9713486</td>\n",
              "      <td>1</td>\n",
              "      <td>0</td>\n",
              "      <td>0</td>\n",
              "      <td>1</td>\n",
              "      <td>0</td>\n",
              "    </tr>\n",
              "  </tbody>\n",
              "</table>\n",
              "<p>5 rows × 35 columns</p>\n",
              "</div>\n",
              "      <button class=\"colab-df-convert\" onclick=\"convertToInteractive('df-c32ab83e-19e5-47d0-afb9-ed5dd8b74fe9')\"\n",
              "              title=\"Convert this dataframe to an interactive table.\"\n",
              "              style=\"display:none;\">\n",
              "        \n",
              "  <svg xmlns=\"http://www.w3.org/2000/svg\" height=\"24px\"viewBox=\"0 0 24 24\"\n",
              "       width=\"24px\">\n",
              "    <path d=\"M0 0h24v24H0V0z\" fill=\"none\"/>\n",
              "    <path d=\"M18.56 5.44l.94 2.06.94-2.06 2.06-.94-2.06-.94-.94-2.06-.94 2.06-2.06.94zm-11 1L8.5 8.5l.94-2.06 2.06-.94-2.06-.94L8.5 2.5l-.94 2.06-2.06.94zm10 10l.94 2.06.94-2.06 2.06-.94-2.06-.94-.94-2.06-.94 2.06-2.06.94z\"/><path d=\"M17.41 7.96l-1.37-1.37c-.4-.4-.92-.59-1.43-.59-.52 0-1.04.2-1.43.59L10.3 9.45l-7.72 7.72c-.78.78-.78 2.05 0 2.83L4 21.41c.39.39.9.59 1.41.59.51 0 1.02-.2 1.41-.59l7.78-7.78 2.81-2.81c.8-.78.8-2.07 0-2.86zM5.41 20L4 18.59l7.72-7.72 1.47 1.35L5.41 20z\"/>\n",
              "  </svg>\n",
              "      </button>\n",
              "      \n",
              "  <style>\n",
              "    .colab-df-container {\n",
              "      display:flex;\n",
              "      flex-wrap:wrap;\n",
              "      gap: 12px;\n",
              "    }\n",
              "\n",
              "    .colab-df-convert {\n",
              "      background-color: #E8F0FE;\n",
              "      border: none;\n",
              "      border-radius: 50%;\n",
              "      cursor: pointer;\n",
              "      display: none;\n",
              "      fill: #1967D2;\n",
              "      height: 32px;\n",
              "      padding: 0 0 0 0;\n",
              "      width: 32px;\n",
              "    }\n",
              "\n",
              "    .colab-df-convert:hover {\n",
              "      background-color: #E2EBFA;\n",
              "      box-shadow: 0px 1px 2px rgba(60, 64, 67, 0.3), 0px 1px 3px 1px rgba(60, 64, 67, 0.15);\n",
              "      fill: #174EA6;\n",
              "    }\n",
              "\n",
              "    [theme=dark] .colab-df-convert {\n",
              "      background-color: #3B4455;\n",
              "      fill: #D2E3FC;\n",
              "    }\n",
              "\n",
              "    [theme=dark] .colab-df-convert:hover {\n",
              "      background-color: #434B5C;\n",
              "      box-shadow: 0px 1px 3px 1px rgba(0, 0, 0, 0.15);\n",
              "      filter: drop-shadow(0px 1px 2px rgba(0, 0, 0, 0.3));\n",
              "      fill: #FFFFFF;\n",
              "    }\n",
              "  </style>\n",
              "\n",
              "      <script>\n",
              "        const buttonEl =\n",
              "          document.querySelector('#df-c32ab83e-19e5-47d0-afb9-ed5dd8b74fe9 button.colab-df-convert');\n",
              "        buttonEl.style.display =\n",
              "          google.colab.kernel.accessAllowed ? 'block' : 'none';\n",
              "\n",
              "        async function convertToInteractive(key) {\n",
              "          const element = document.querySelector('#df-c32ab83e-19e5-47d0-afb9-ed5dd8b74fe9');\n",
              "          const dataTable =\n",
              "            await google.colab.kernel.invokeFunction('convertToInteractive',\n",
              "                                                     [key], {});\n",
              "          if (!dataTable) return;\n",
              "\n",
              "          const docLinkHtml = 'Like what you see? Visit the ' +\n",
              "            '<a target=\"_blank\" href=https://colab.research.google.com/notebooks/data_table.ipynb>data table notebook</a>'\n",
              "            + ' to learn more about interactive tables.';\n",
              "          element.innerHTML = '';\n",
              "          dataTable['output_type'] = 'display_data';\n",
              "          await google.colab.output.renderOutput(dataTable, element);\n",
              "          const docLink = document.createElement('div');\n",
              "          docLink.innerHTML = docLinkHtml;\n",
              "          element.appendChild(docLink);\n",
              "        }\n",
              "      </script>\n",
              "    </div>\n",
              "  </div>\n",
              "  "
            ],
            "text/plain": [
              "              id  base_date  day_of_week  base_hour  road_in_use  lane_count  \\\n",
              "0  TRAIN_0000000   20220623            1         17            0           1   \n",
              "1  TRAIN_0000001   20220728            1         21            0           2   \n",
              "2  TRAIN_0000002   20211010            4          7            0           2   \n",
              "3  TRAIN_0000003   20220311            0         13            0           2   \n",
              "4  TRAIN_0000004   20211005            6          8            0           2   \n",
              "\n",
              "   road_name  multi_linked  connect_code  maximum_speed_limit  ...  \\\n",
              "0  지방도1112호선             0             0                 60.0  ...   \n",
              "1   일반국도11호선             0             0                 60.0  ...   \n",
              "2   일반국도16호선             0             0                 80.0  ...   \n",
              "3        태평로             0             0                 50.0  ...   \n",
              "4   일반국도12호선             0             0                 80.0  ...   \n",
              "\n",
              "   lon_change  distance  airport_distance  year  tourist  road_rating_0  \\\n",
              "0    0.000277  0.025694         18.330548  2022  6841854              0   \n",
              "1    0.002867  0.525560          3.470872  2022  8105186              1   \n",
              "2    0.006450  0.608016         28.185912  2021  9713486              1   \n",
              "3    0.000976  0.107285         30.222870  2022  3073391              0   \n",
              "4   -0.003601  0.337736         16.019878  2021  9713486              1   \n",
              "\n",
              "  road_rating_1 road_rating_2  road_type_0  road_type_1  \n",
              "0             1             0            0            1  \n",
              "1             0             0            1            0  \n",
              "2             0             0            1            0  \n",
              "3             0             1            1            0  \n",
              "4             0             0            1            0  \n",
              "\n",
              "[5 rows x 35 columns]"
            ]
          },
          "execution_count": 21,
          "metadata": {},
          "output_type": "execute_result"
        }
      ],
      "source": [
        "train.head()"
      ]
    },
    {
      "cell_type": "code",
      "execution_count": null,
      "metadata": {
        "colab": {
          "base_uri": "https://localhost:8080/"
        },
        "id": "HKkL11RhjcSw",
        "outputId": "e7e8f5de-b21d-4927-a19e-e6498d5519c7"
      },
      "outputs": [
        {
          "data": {
            "text/plain": [
              "Index(['id', 'base_date', 'day_of_week', 'base_hour', 'road_in_use',\n",
              "       'lane_count', 'road_name', 'multi_linked', 'connect_code',\n",
              "       'maximum_speed_limit', 'vehicle_restricted', 'weight_restricted',\n",
              "       'height_restricted', 'start_node_name', 'start_latitude',\n",
              "       'start_longitude', 'start_turn_restricted', 'end_node_name',\n",
              "       'end_latitude', 'end_longitude', 'end_turn_restricted', 'target',\n",
              "       'is_holiday', 'month', 'lat_change', 'lon_change', 'distance',\n",
              "       'airport_distance', 'year', 'tourist', 'road_rating_0', 'road_rating_1',\n",
              "       'road_rating_2', 'road_type_0', 'road_type_1'],\n",
              "      dtype='object')"
            ]
          },
          "execution_count": 49,
          "metadata": {},
          "output_type": "execute_result"
        }
      ],
      "source": [
        "train.columns"
      ]
    },
    {
      "cell_type": "code",
      "execution_count": null,
      "metadata": {
        "colab": {
          "base_uri": "https://localhost:8080/"
        },
        "id": "_T7g35vakN2t",
        "outputId": "f943e3f0-c54a-451f-df4c-8d7ab614ec1f"
      },
      "outputs": [
        {
          "data": {
            "text/plain": [
              "Index(['day_of_week', 'base_hour', 'road_in_use', 'lane_count', 'road_name',\n",
              "       'multi_linked', 'connect_code', 'maximum_speed_limit',\n",
              "       'vehicle_restricted', 'height_restricted', 'start_latitude',\n",
              "       'start_longitude', 'end_latitude', 'end_longitude', 'is_holiday',\n",
              "       'month', 'lat_change', 'lon_change', 'distance', 'airport_distance',\n",
              "       'tourist', 'road_rating_0', 'road_rating_1', 'road_rating_2',\n",
              "       'road_type_0', 'road_type_1'],\n",
              "      dtype='object')"
            ]
          },
          "execution_count": 50,
          "metadata": {},
          "output_type": "execute_result"
        }
      ],
      "source": [
        "X_train.columns"
      ]
    },
    {
      "cell_type": "code",
      "execution_count": null,
      "metadata": {
        "colab": {
          "base_uri": "https://localhost:8080/",
          "height": 240
        },
        "id": "kMf42Y6BkbQj",
        "outputId": "3d5be26f-0499-4341-8fe5-acaf21bc026d"
      },
      "outputs": [
        {
          "data": {
            "text/html": [
              "\n",
              "  <div id=\"df-ac2dfad0-eeb7-44d8-9283-117d73f70bbc\">\n",
              "    <div class=\"colab-df-container\">\n",
              "      <div>\n",
              "<style scoped>\n",
              "    .dataframe tbody tr th:only-of-type {\n",
              "        vertical-align: middle;\n",
              "    }\n",
              "\n",
              "    .dataframe tbody tr th {\n",
              "        vertical-align: top;\n",
              "    }\n",
              "\n",
              "    .dataframe thead th {\n",
              "        text-align: right;\n",
              "    }\n",
              "</style>\n",
              "<table border=\"1\" class=\"dataframe\">\n",
              "  <thead>\n",
              "    <tr style=\"text-align: right;\">\n",
              "      <th></th>\n",
              "      <th>day_of_week</th>\n",
              "      <th>base_hour</th>\n",
              "      <th>road_in_use</th>\n",
              "      <th>lane_count</th>\n",
              "      <th>road_name</th>\n",
              "      <th>multi_linked</th>\n",
              "      <th>connect_code</th>\n",
              "      <th>maximum_speed_limit</th>\n",
              "      <th>vehicle_restricted</th>\n",
              "      <th>height_restricted</th>\n",
              "      <th>...</th>\n",
              "      <th>lat_change</th>\n",
              "      <th>lon_change</th>\n",
              "      <th>distance</th>\n",
              "      <th>airport_distance</th>\n",
              "      <th>tourist</th>\n",
              "      <th>road_rating_0</th>\n",
              "      <th>road_rating_1</th>\n",
              "      <th>road_rating_2</th>\n",
              "      <th>road_type_0</th>\n",
              "      <th>road_type_1</th>\n",
              "    </tr>\n",
              "  </thead>\n",
              "  <tbody>\n",
              "    <tr>\n",
              "      <th>0</th>\n",
              "      <td>1</td>\n",
              "      <td>17</td>\n",
              "      <td>0</td>\n",
              "      <td>1</td>\n",
              "      <td>지방도1112호선</td>\n",
              "      <td>0</td>\n",
              "      <td>0</td>\n",
              "      <td>60.0</td>\n",
              "      <td>0.0</td>\n",
              "      <td>0.0</td>\n",
              "      <td>...</td>\n",
              "      <td>-0.000001</td>\n",
              "      <td>0.000277</td>\n",
              "      <td>0.025694</td>\n",
              "      <td>18.330548</td>\n",
              "      <td>6841854</td>\n",
              "      <td>0</td>\n",
              "      <td>1</td>\n",
              "      <td>0</td>\n",
              "      <td>0</td>\n",
              "      <td>1</td>\n",
              "    </tr>\n",
              "    <tr>\n",
              "      <th>1</th>\n",
              "      <td>1</td>\n",
              "      <td>21</td>\n",
              "      <td>0</td>\n",
              "      <td>2</td>\n",
              "      <td>일반국도11호선</td>\n",
              "      <td>0</td>\n",
              "      <td>0</td>\n",
              "      <td>60.0</td>\n",
              "      <td>0.0</td>\n",
              "      <td>0.0</td>\n",
              "      <td>...</td>\n",
              "      <td>-0.004081</td>\n",
              "      <td>0.002867</td>\n",
              "      <td>0.525560</td>\n",
              "      <td>3.470872</td>\n",
              "      <td>8105186</td>\n",
              "      <td>1</td>\n",
              "      <td>0</td>\n",
              "      <td>0</td>\n",
              "      <td>1</td>\n",
              "      <td>0</td>\n",
              "    </tr>\n",
              "  </tbody>\n",
              "</table>\n",
              "<p>2 rows × 26 columns</p>\n",
              "</div>\n",
              "      <button class=\"colab-df-convert\" onclick=\"convertToInteractive('df-ac2dfad0-eeb7-44d8-9283-117d73f70bbc')\"\n",
              "              title=\"Convert this dataframe to an interactive table.\"\n",
              "              style=\"display:none;\">\n",
              "        \n",
              "  <svg xmlns=\"http://www.w3.org/2000/svg\" height=\"24px\"viewBox=\"0 0 24 24\"\n",
              "       width=\"24px\">\n",
              "    <path d=\"M0 0h24v24H0V0z\" fill=\"none\"/>\n",
              "    <path d=\"M18.56 5.44l.94 2.06.94-2.06 2.06-.94-2.06-.94-.94-2.06-.94 2.06-2.06.94zm-11 1L8.5 8.5l.94-2.06 2.06-.94-2.06-.94L8.5 2.5l-.94 2.06-2.06.94zm10 10l.94 2.06.94-2.06 2.06-.94-2.06-.94-.94-2.06-.94 2.06-2.06.94z\"/><path d=\"M17.41 7.96l-1.37-1.37c-.4-.4-.92-.59-1.43-.59-.52 0-1.04.2-1.43.59L10.3 9.45l-7.72 7.72c-.78.78-.78 2.05 0 2.83L4 21.41c.39.39.9.59 1.41.59.51 0 1.02-.2 1.41-.59l7.78-7.78 2.81-2.81c.8-.78.8-2.07 0-2.86zM5.41 20L4 18.59l7.72-7.72 1.47 1.35L5.41 20z\"/>\n",
              "  </svg>\n",
              "      </button>\n",
              "      \n",
              "  <style>\n",
              "    .colab-df-container {\n",
              "      display:flex;\n",
              "      flex-wrap:wrap;\n",
              "      gap: 12px;\n",
              "    }\n",
              "\n",
              "    .colab-df-convert {\n",
              "      background-color: #E8F0FE;\n",
              "      border: none;\n",
              "      border-radius: 50%;\n",
              "      cursor: pointer;\n",
              "      display: none;\n",
              "      fill: #1967D2;\n",
              "      height: 32px;\n",
              "      padding: 0 0 0 0;\n",
              "      width: 32px;\n",
              "    }\n",
              "\n",
              "    .colab-df-convert:hover {\n",
              "      background-color: #E2EBFA;\n",
              "      box-shadow: 0px 1px 2px rgba(60, 64, 67, 0.3), 0px 1px 3px 1px rgba(60, 64, 67, 0.15);\n",
              "      fill: #174EA6;\n",
              "    }\n",
              "\n",
              "    [theme=dark] .colab-df-convert {\n",
              "      background-color: #3B4455;\n",
              "      fill: #D2E3FC;\n",
              "    }\n",
              "\n",
              "    [theme=dark] .colab-df-convert:hover {\n",
              "      background-color: #434B5C;\n",
              "      box-shadow: 0px 1px 3px 1px rgba(0, 0, 0, 0.15);\n",
              "      filter: drop-shadow(0px 1px 2px rgba(0, 0, 0, 0.3));\n",
              "      fill: #FFFFFF;\n",
              "    }\n",
              "  </style>\n",
              "\n",
              "      <script>\n",
              "        const buttonEl =\n",
              "          document.querySelector('#df-ac2dfad0-eeb7-44d8-9283-117d73f70bbc button.colab-df-convert');\n",
              "        buttonEl.style.display =\n",
              "          google.colab.kernel.accessAllowed ? 'block' : 'none';\n",
              "\n",
              "        async function convertToInteractive(key) {\n",
              "          const element = document.querySelector('#df-ac2dfad0-eeb7-44d8-9283-117d73f70bbc');\n",
              "          const dataTable =\n",
              "            await google.colab.kernel.invokeFunction('convertToInteractive',\n",
              "                                                     [key], {});\n",
              "          if (!dataTable) return;\n",
              "\n",
              "          const docLinkHtml = 'Like what you see? Visit the ' +\n",
              "            '<a target=\"_blank\" href=https://colab.research.google.com/notebooks/data_table.ipynb>data table notebook</a>'\n",
              "            + ' to learn more about interactive tables.';\n",
              "          element.innerHTML = '';\n",
              "          dataTable['output_type'] = 'display_data';\n",
              "          await google.colab.output.renderOutput(dataTable, element);\n",
              "          const docLink = document.createElement('div');\n",
              "          docLink.innerHTML = docLinkHtml;\n",
              "          element.appendChild(docLink);\n",
              "        }\n",
              "      </script>\n",
              "    </div>\n",
              "  </div>\n",
              "  "
            ],
            "text/plain": [
              "   day_of_week  base_hour  road_in_use  lane_count  road_name  multi_linked  \\\n",
              "0            1         17            0           1  지방도1112호선             0   \n",
              "1            1         21            0           2   일반국도11호선             0   \n",
              "\n",
              "   connect_code  maximum_speed_limit  vehicle_restricted  height_restricted  \\\n",
              "0             0                 60.0                 0.0                0.0   \n",
              "1             0                 60.0                 0.0                0.0   \n",
              "\n",
              "   ...  lat_change  lon_change  distance  airport_distance  tourist  \\\n",
              "0  ...   -0.000001    0.000277  0.025694         18.330548  6841854   \n",
              "1  ...   -0.004081    0.002867  0.525560          3.470872  8105186   \n",
              "\n",
              "   road_rating_0  road_rating_1  road_rating_2  road_type_0  road_type_1  \n",
              "0              0              1              0            0            1  \n",
              "1              1              0              0            1            0  \n",
              "\n",
              "[2 rows x 26 columns]"
            ]
          },
          "execution_count": 52,
          "metadata": {},
          "output_type": "execute_result"
        }
      ],
      "source": [
        "X_train.head(2)"
      ]
    },
    {
      "cell_type": "code",
      "execution_count": 22,
      "metadata": {
        "colab": {
          "base_uri": "https://localhost:8080/"
        },
        "id": "Z0PCvX0cjAza",
        "outputId": "ed51c61d-04cd-43c0-b09d-6415c9659309"
      },
      "outputs": [
        {
          "name": "stdout",
          "output_type": "stream",
          "text": [
            "(4701217, 15)\n",
            "(4701217,)\n",
            "(291241, 15)\n"
          ]
        }
      ],
      "source": [
        "y_train = train['target'] \n",
        "\n",
        "X_train = train.drop(['id','base_date', 'target', 'start_node_name', 'end_node_name',\n",
        "                      'weight_restricted','year','road_in_use','road_name','multi_linked',\n",
        "                      'connect_code','vehicle_restricted','height_restricted',\n",
        "                      'start_turn_restricted','end_turn_restricted',\n",
        "                    'road_rating_0'\t,'road_rating_1'\t,'road_rating_2'\t,'road_type_0'\t,'road_type_1'], axis=1)\n",
        "\n",
        "X_test = test.drop(['id','base_date', 'start_node_name', 'end_node_name',\n",
        "                    'weight_restricted','year','road_in_use','road_name','multi_linked',\n",
        "                    'connect_code','vehicle_restricted','height_restricted',\n",
        "                    'start_turn_restricted','end_turn_restricted',\n",
        "                    'road_rating_0'\t,'road_rating_1'\t,'road_rating_2'\t,'road_type_0'\t,'road_type_1'], axis=1)\n",
        "\n",
        "print(X_train.shape)\n",
        "print(y_train.shape)\n",
        "print(X_test.shape)"
      ]
    },
    {
      "cell_type": "markdown",
      "metadata": {
        "id": "rj1qIazxi4Ad"
      },
      "source": [
        "### g. Standard Scaling"
      ]
    },
    {
      "cell_type": "code",
      "execution_count": 23,
      "metadata": {
        "id": "VCtV7Ouqi8-h"
      },
      "outputs": [],
      "source": [
        "from sklearn.preprocessing import StandardScaler\n",
        "scaler = StandardScaler()\n",
        "\n",
        "scaler.fit(X_train)\n",
        "X_train.loc[:, :] = scaler.transform(X_train)\n",
        "X_test.loc[:, :] = scaler.transform(X_test)"
      ]
    },
    {
      "cell_type": "code",
      "execution_count": null,
      "metadata": {
        "colab": {
          "base_uri": "https://localhost:8080/",
          "height": 270
        },
        "id": "z32ItUG0lw9C",
        "outputId": "0970f4bc-f639-452e-e1c9-a02e356e80f6"
      },
      "outputs": [
        {
          "data": {
            "text/html": [
              "\n",
              "  <div id=\"df-67561af9-1052-4427-84ab-15e17f174d6f\">\n",
              "    <div class=\"colab-df-container\">\n",
              "      <div>\n",
              "<style scoped>\n",
              "    .dataframe tbody tr th:only-of-type {\n",
              "        vertical-align: middle;\n",
              "    }\n",
              "\n",
              "    .dataframe tbody tr th {\n",
              "        vertical-align: top;\n",
              "    }\n",
              "\n",
              "    .dataframe thead th {\n",
              "        text-align: right;\n",
              "    }\n",
              "</style>\n",
              "<table border=\"1\" class=\"dataframe\">\n",
              "  <thead>\n",
              "    <tr style=\"text-align: right;\">\n",
              "      <th></th>\n",
              "      <th>day_of_week</th>\n",
              "      <th>base_hour</th>\n",
              "      <th>lane_count</th>\n",
              "      <th>maximum_speed_limit</th>\n",
              "      <th>start_latitude</th>\n",
              "      <th>start_longitude</th>\n",
              "      <th>end_latitude</th>\n",
              "      <th>end_longitude</th>\n",
              "      <th>is_holiday</th>\n",
              "      <th>month</th>\n",
              "      <th>lat_change</th>\n",
              "      <th>lon_change</th>\n",
              "      <th>distance</th>\n",
              "      <th>airport_distance</th>\n",
              "      <th>tourist</th>\n",
              "      <th>road_rating_0</th>\n",
              "      <th>road_rating_1</th>\n",
              "      <th>road_rating_2</th>\n",
              "      <th>road_type_0</th>\n",
              "      <th>road_type_1</th>\n",
              "    </tr>\n",
              "  </thead>\n",
              "  <tbody>\n",
              "    <tr>\n",
              "      <th>0</th>\n",
              "      <td>-0.991029</td>\n",
              "      <td>0.754498</td>\n",
              "      <td>-1.216503</td>\n",
              "      <td>-0.103292</td>\n",
              "      <td>0.429152</td>\n",
              "      <td>0.901272</td>\n",
              "      <td>0.429179</td>\n",
              "      <td>0.899511</td>\n",
              "      <td>-0.711320</td>\n",
              "      <td>-0.079493</td>\n",
              "      <td>0.000045</td>\n",
              "      <td>0.046598</td>\n",
              "      <td>-0.718302</td>\n",
              "      <td>-0.201502</td>\n",
              "      <td>0.103804</td>\n",
              "      <td>-0.921754</td>\n",
              "      <td>1.974764</td>\n",
              "      <td>-0.712237</td>\n",
              "      <td>-1.968826</td>\n",
              "      <td>1.968826</td>\n",
              "    </tr>\n",
              "    <tr>\n",
              "      <th>1</th>\n",
              "      <td>-0.991029</td>\n",
              "      <td>1.349551</td>\n",
              "      <td>0.237511</td>\n",
              "      <td>-0.103292</td>\n",
              "      <td>1.150320</td>\n",
              "      <td>0.047471</td>\n",
              "      <td>1.190706</td>\n",
              "      <td>0.029071</td>\n",
              "      <td>-0.711320</td>\n",
              "      <td>0.185615</td>\n",
              "      <td>-0.953289</td>\n",
              "      <td>0.465754</td>\n",
              "      <td>0.125415</td>\n",
              "      <td>-1.562515</td>\n",
              "      <td>0.450671</td>\n",
              "      <td>1.084888</td>\n",
              "      <td>-0.506390</td>\n",
              "      <td>-0.712237</td>\n",
              "      <td>0.507917</td>\n",
              "      <td>-0.507917</td>\n",
              "    </tr>\n",
              "    <tr>\n",
              "      <th>2</th>\n",
              "      <td>0.507489</td>\n",
              "      <td>-0.733134</td>\n",
              "      <td>0.237511</td>\n",
              "      <td>1.545032</td>\n",
              "      <td>-1.039228</td>\n",
              "      <td>-0.979027</td>\n",
              "      <td>-1.030152</td>\n",
              "      <td>-1.020437</td>\n",
              "      <td>1.405837</td>\n",
              "      <td>0.980939</td>\n",
              "      <td>-0.216243</td>\n",
              "      <td>1.045772</td>\n",
              "      <td>0.264592</td>\n",
              "      <td>0.701161</td>\n",
              "      <td>0.892253</td>\n",
              "      <td>1.084888</td>\n",
              "      <td>-0.506390</td>\n",
              "      <td>-0.712237</td>\n",
              "      <td>0.507917</td>\n",
              "      <td>-0.507917</td>\n",
              "    </tr>\n",
              "    <tr>\n",
              "      <th>3</th>\n",
              "      <td>-1.490536</td>\n",
              "      <td>0.159445</td>\n",
              "      <td>0.237511</td>\n",
              "      <td>-0.927454</td>\n",
              "      <td>-1.365944</td>\n",
              "      <td>0.291115</td>\n",
              "      <td>-1.371145</td>\n",
              "      <td>0.284828</td>\n",
              "      <td>-0.711320</td>\n",
              "      <td>-0.874818</td>\n",
              "      <td>0.120858</td>\n",
              "      <td>0.159741</td>\n",
              "      <td>-0.580587</td>\n",
              "      <td>0.887728</td>\n",
              "      <td>-0.930884</td>\n",
              "      <td>-0.921754</td>\n",
              "      <td>-0.506390</td>\n",
              "      <td>1.404026</td>\n",
              "      <td>0.507917</td>\n",
              "      <td>-0.507917</td>\n",
              "    </tr>\n",
              "    <tr>\n",
              "      <th>4</th>\n",
              "      <td>1.506502</td>\n",
              "      <td>-0.584371</td>\n",
              "      <td>0.237511</td>\n",
              "      <td>1.545032</td>\n",
              "      <td>0.769731</td>\n",
              "      <td>-1.247926</td>\n",
              "      <td>0.774335</td>\n",
              "      <td>-1.225076</td>\n",
              "      <td>-0.711320</td>\n",
              "      <td>0.980939</td>\n",
              "      <td>-0.107672</td>\n",
              "      <td>-0.581047</td>\n",
              "      <td>-0.191610</td>\n",
              "      <td>-0.413138</td>\n",
              "      <td>0.892253</td>\n",
              "      <td>1.084888</td>\n",
              "      <td>-0.506390</td>\n",
              "      <td>-0.712237</td>\n",
              "      <td>0.507917</td>\n",
              "      <td>-0.507917</td>\n",
              "    </tr>\n",
              "  </tbody>\n",
              "</table>\n",
              "</div>\n",
              "      <button class=\"colab-df-convert\" onclick=\"convertToInteractive('df-67561af9-1052-4427-84ab-15e17f174d6f')\"\n",
              "              title=\"Convert this dataframe to an interactive table.\"\n",
              "              style=\"display:none;\">\n",
              "        \n",
              "  <svg xmlns=\"http://www.w3.org/2000/svg\" height=\"24px\"viewBox=\"0 0 24 24\"\n",
              "       width=\"24px\">\n",
              "    <path d=\"M0 0h24v24H0V0z\" fill=\"none\"/>\n",
              "    <path d=\"M18.56 5.44l.94 2.06.94-2.06 2.06-.94-2.06-.94-.94-2.06-.94 2.06-2.06.94zm-11 1L8.5 8.5l.94-2.06 2.06-.94-2.06-.94L8.5 2.5l-.94 2.06-2.06.94zm10 10l.94 2.06.94-2.06 2.06-.94-2.06-.94-.94-2.06-.94 2.06-2.06.94z\"/><path d=\"M17.41 7.96l-1.37-1.37c-.4-.4-.92-.59-1.43-.59-.52 0-1.04.2-1.43.59L10.3 9.45l-7.72 7.72c-.78.78-.78 2.05 0 2.83L4 21.41c.39.39.9.59 1.41.59.51 0 1.02-.2 1.41-.59l7.78-7.78 2.81-2.81c.8-.78.8-2.07 0-2.86zM5.41 20L4 18.59l7.72-7.72 1.47 1.35L5.41 20z\"/>\n",
              "  </svg>\n",
              "      </button>\n",
              "      \n",
              "  <style>\n",
              "    .colab-df-container {\n",
              "      display:flex;\n",
              "      flex-wrap:wrap;\n",
              "      gap: 12px;\n",
              "    }\n",
              "\n",
              "    .colab-df-convert {\n",
              "      background-color: #E8F0FE;\n",
              "      border: none;\n",
              "      border-radius: 50%;\n",
              "      cursor: pointer;\n",
              "      display: none;\n",
              "      fill: #1967D2;\n",
              "      height: 32px;\n",
              "      padding: 0 0 0 0;\n",
              "      width: 32px;\n",
              "    }\n",
              "\n",
              "    .colab-df-convert:hover {\n",
              "      background-color: #E2EBFA;\n",
              "      box-shadow: 0px 1px 2px rgba(60, 64, 67, 0.3), 0px 1px 3px 1px rgba(60, 64, 67, 0.15);\n",
              "      fill: #174EA6;\n",
              "    }\n",
              "\n",
              "    [theme=dark] .colab-df-convert {\n",
              "      background-color: #3B4455;\n",
              "      fill: #D2E3FC;\n",
              "    }\n",
              "\n",
              "    [theme=dark] .colab-df-convert:hover {\n",
              "      background-color: #434B5C;\n",
              "      box-shadow: 0px 1px 3px 1px rgba(0, 0, 0, 0.15);\n",
              "      filter: drop-shadow(0px 1px 2px rgba(0, 0, 0, 0.3));\n",
              "      fill: #FFFFFF;\n",
              "    }\n",
              "  </style>\n",
              "\n",
              "      <script>\n",
              "        const buttonEl =\n",
              "          document.querySelector('#df-67561af9-1052-4427-84ab-15e17f174d6f button.colab-df-convert');\n",
              "        buttonEl.style.display =\n",
              "          google.colab.kernel.accessAllowed ? 'block' : 'none';\n",
              "\n",
              "        async function convertToInteractive(key) {\n",
              "          const element = document.querySelector('#df-67561af9-1052-4427-84ab-15e17f174d6f');\n",
              "          const dataTable =\n",
              "            await google.colab.kernel.invokeFunction('convertToInteractive',\n",
              "                                                     [key], {});\n",
              "          if (!dataTable) return;\n",
              "\n",
              "          const docLinkHtml = 'Like what you see? Visit the ' +\n",
              "            '<a target=\"_blank\" href=https://colab.research.google.com/notebooks/data_table.ipynb>data table notebook</a>'\n",
              "            + ' to learn more about interactive tables.';\n",
              "          element.innerHTML = '';\n",
              "          dataTable['output_type'] = 'display_data';\n",
              "          await google.colab.output.renderOutput(dataTable, element);\n",
              "          const docLink = document.createElement('div');\n",
              "          docLink.innerHTML = docLinkHtml;\n",
              "          element.appendChild(docLink);\n",
              "        }\n",
              "      </script>\n",
              "    </div>\n",
              "  </div>\n",
              "  "
            ],
            "text/plain": [
              "   day_of_week  base_hour  lane_count  maximum_speed_limit  start_latitude  \\\n",
              "0    -0.991029   0.754498   -1.216503            -0.103292        0.429152   \n",
              "1    -0.991029   1.349551    0.237511            -0.103292        1.150320   \n",
              "2     0.507489  -0.733134    0.237511             1.545032       -1.039228   \n",
              "3    -1.490536   0.159445    0.237511            -0.927454       -1.365944   \n",
              "4     1.506502  -0.584371    0.237511             1.545032        0.769731   \n",
              "\n",
              "   start_longitude  end_latitude  end_longitude  is_holiday     month  \\\n",
              "0         0.901272      0.429179       0.899511   -0.711320 -0.079493   \n",
              "1         0.047471      1.190706       0.029071   -0.711320  0.185615   \n",
              "2        -0.979027     -1.030152      -1.020437    1.405837  0.980939   \n",
              "3         0.291115     -1.371145       0.284828   -0.711320 -0.874818   \n",
              "4        -1.247926      0.774335      -1.225076   -0.711320  0.980939   \n",
              "\n",
              "   lat_change  lon_change  distance  airport_distance   tourist  \\\n",
              "0    0.000045    0.046598 -0.718302         -0.201502  0.103804   \n",
              "1   -0.953289    0.465754  0.125415         -1.562515  0.450671   \n",
              "2   -0.216243    1.045772  0.264592          0.701161  0.892253   \n",
              "3    0.120858    0.159741 -0.580587          0.887728 -0.930884   \n",
              "4   -0.107672   -0.581047 -0.191610         -0.413138  0.892253   \n",
              "\n",
              "   road_rating_0  road_rating_1  road_rating_2  road_type_0  road_type_1  \n",
              "0      -0.921754       1.974764      -0.712237    -1.968826     1.968826  \n",
              "1       1.084888      -0.506390      -0.712237     0.507917    -0.507917  \n",
              "2       1.084888      -0.506390      -0.712237     0.507917    -0.507917  \n",
              "3      -0.921754      -0.506390       1.404026     0.507917    -0.507917  \n",
              "4       1.084888      -0.506390      -0.712237     0.507917    -0.507917  "
            ]
          },
          "execution_count": 6,
          "metadata": {},
          "output_type": "execute_result"
        }
      ],
      "source": [
        "X_train.head()"
      ]
    },
    {
      "cell_type": "code",
      "execution_count": 24,
      "metadata": {
        "colab": {
          "base_uri": "https://localhost:8080/"
        },
        "id": "eRu0a82xlzOX",
        "outputId": "e6eb31c5-00de-43d8-c23e-6d2e6c00c171"
      },
      "outputs": [
        {
          "name": "stdout",
          "output_type": "stream",
          "text": [
            "(3760973, 15) (3760973,)\n",
            "(940244, 15) (940244,)\n"
          ]
        }
      ],
      "source": [
        "# train_test_split\n",
        "from sklearn.model_selection import train_test_split\n",
        "X_tr, X_val, y_tr, y_val = train_test_split(X_train, y_train, test_size=0.2,\n",
        "                                            stratify=train['base_hour'], random_state=42) #stratify는 base_hour 컬럼의 시간의 바율을 맞춰서 분리\n",
        "\n",
        "print(X_tr.shape, y_tr.shape)\n",
        "print(X_val.shape, y_val.shape)"
      ]
    },
    {
      "cell_type": "markdown",
      "metadata": {
        "id": "3vxR2Gpil-_n"
      },
      "source": [
        "## 2. Modeling"
      ]
    },
    {
      "cell_type": "code",
      "execution_count": null,
      "metadata": {
        "id": "dYbvgQux-Q9i"
      },
      "outputs": [],
      "source": [
        "# optuna 설치 \n",
        "!pip install optuna"
      ]
    },
    {
      "cell_type": "code",
      "execution_count": 29,
      "metadata": {
        "id": "5_6-ZhYP-qDm"
      },
      "outputs": [],
      "source": [
        "# Optuna Libraries\n",
        "import optuna\n",
        "from optuna import Trial\n",
        "from optuna.samplers import TPESampler\n",
        "\n",
        "# LGBM Regressor\n",
        "from lightgbm import LGBMRegressor\n",
        "\n",
        "# train_test_split\n",
        "from sklearn.model_selection import train_test_split\n",
        "\n",
        "# Evaluation Score\n",
        "from sklearn.metrics import mean_squared_error"
      ]
    },
    {
      "cell_type": "markdown",
      "metadata": {
        "id": "9ZyU-_EimSv_"
      },
      "source": [
        "### a. LigthGBM"
      ]
    },
    {
      "cell_type": "code",
      "execution_count": 25,
      "metadata": {
        "colab": {
          "base_uri": "https://localhost:8080/"
        },
        "id": "blVPDt05XrS-",
        "outputId": "b2a52246-abf0-4e12-9f44-fbbdcc24e1cd"
      },
      "outputs": [
        {
          "data": {
            "text/plain": [
              "LGBMRegressor(random_state=42)"
            ]
          },
          "execution_count": 25,
          "metadata": {},
          "output_type": "execute_result"
        }
      ],
      "source": [
        "import lightgbm as lgb\n",
        "lgb_model = lgb.LGBMRegressor(random_state=42)\n",
        "lgb_model.fit(X_tr,y_tr)"
      ]
    },
    {
      "cell_type": "code",
      "execution_count": 27,
      "metadata": {
        "colab": {
          "base_uri": "https://localhost:8080/"
        },
        "id": "m_4JA2FjSBCE",
        "outputId": "72dd14bb-047b-4d87-cd8b-0bb31a996fd1"
      },
      "outputs": [
        {
          "name": "stdout",
          "output_type": "stream",
          "text": [
            "MSE : 4.494868\n"
          ]
        }
      ],
      "source": [
        "from sklearn.metrics import mean_absolute_error\n",
        "val_pred = lgb_model.predict(X_tr)\n",
        "print('MSE : {:.6f}'.format(mean_absolute_error(y_tr,val_pred))) #훈련 "
      ]
    },
    {
      "cell_type": "code",
      "execution_count": null,
      "metadata": {
        "colab": {
          "base_uri": "https://localhost:8080/"
        },
        "id": "Oxi5RJsbCQ_K",
        "outputId": "bf4851e5-cabc-4544-9272-8aba51a7e17b"
      },
      "outputs": [
        {
          "name": "stdout",
          "output_type": "stream",
          "text": [
            "MSE : 3.560010\n"
          ]
        }
      ],
      "source": [
        "from sklearn.metrics import mean_absolute_error\n",
        "val_pred = lgb_model.predict(X_val)\n",
        "print('MSE : {:.6f}'.format(mean_absolute_error(y_val,val_pred))) #검증 "
      ]
    },
    {
      "cell_type": "code",
      "execution_count": null,
      "metadata": {
        "id": "_xWONWUABhLV"
      },
      "outputs": [],
      "source": [
        "# optuna로 최적의 파라미터 검색  \n",
        "# random sampler\n",
        "sampler = TPESampler(seed=10)\n",
        "\n",
        "# define function\n",
        "def objective(trial):\n",
        "\n",
        "    lgbm_param = {\n",
        "        'objective': 'regression',\n",
        "        'verbose': -1,\n",
        "        'metric': 'mae', \n",
        "        'num_leaves': trial.suggest_int('num_leaves', 2, 200, step=1, log=True), \n",
        "        'colsample_bytree': trial.suggest_uniform('colsample_bytree', 0.7, 1.0),\n",
        "        'subsample': trial.suggest_uniform('subsample', 0.1, 1.0),\n",
        "        'reg_lambda': trial.suggest_uniform('reg_lambda', 10.0, 20.0),\n",
        "    }\n",
        "\n",
        "    # Generate model\n",
        "    model_lgbm = LGBMRegressor(**lgbm_param)\n",
        "    model_lgbm = model_lgbm.fit(X_train, y_train, eval_set=[(X_val, y_val)], \n",
        "                           verbose=0, early_stopping_rounds=25)\n",
        "                           \n",
        "    # * 평기 지표이다.\n",
        "    # 원하는 평가 지표에 따라 사용하면 된다.                         \n",
        "    MAE = mean_absolute_error(y_val, model_lgbm.predict(X_val))\n",
        "    return MAE\n",
        "\n",
        "optuna_lgbm = optuna.create_study(direction='minimize', sampler=sampler)\n",
        "\n",
        "# * n_trials의 경우 optuna를 몇번 실행하여 hyper parameter를 찾을 것인지를 정한다.\n",
        "# 50으로 설정해도 유의미한 값이 나온다.\n",
        "optuna_lgbm.optimize(objective, n_trials=100)"
      ]
    },
    {
      "cell_type": "code",
      "execution_count": null,
      "metadata": {
        "id": "8O5zpQJTGRVS"
      },
      "outputs": [],
      "source": [
        "lgbm_trial = optuna_lgbm.best_trial\n",
        "lgbm_trial_params = lgbm_trial.params\n",
        "print('Best Trial: score {},\\nparams {}'.format(lgbm_trial.value, lgbm_trial_params))"
      ]
    },
    {
      "cell_type": "code",
      "execution_count": null,
      "metadata": {
        "id": "-31XRjv8-Jme"
      },
      "outputs": [],
      "source": [
        "lgb_model = lgb.LGBMRegressor(n_estimators=18000, \n",
        "                              num_leaves = 128,\n",
        "                              colsample_bytree=0.6,\n",
        "                              reg_lambda=16,\n",
        "                              random_state=42)\n",
        "\n",
        "\n",
        "lgb_model.fit(X_tr, y_tr,\n",
        "                eval_set=[(X_val, y_val)],\n",
        "                eval_metric='l1',\n",
        "                verbose=500,\n",
        "                early_stopping_rounds=30) #조기종류의 조건을 걸어서 과적합 방지  "
      ]
    },
    {
      "cell_type": "markdown",
      "metadata": {
        "id": "0RgenwlNmVXF"
      },
      "source": [
        "### b. XGBoost"
      ]
    },
    {
      "cell_type": "code",
      "execution_count": null,
      "metadata": {
        "colab": {
          "base_uri": "https://localhost:8080/"
        },
        "id": "9pOCZt_bomoQ",
        "outputId": "b713e2c0-4f6b-4355-813c-41a95c4d1085"
      },
      "outputs": [
        {
          "name": "stdout",
          "output_type": "stream",
          "text": [
            "[07:43:24] WARNING: /workspace/src/objective/regression_obj.cu:152: reg:linear is now deprecated in favor of reg:squarederror.\n"
          ]
        }
      ],
      "source": [
        "import xgboost as xgb\n",
        "xgb_model = xgb.XGBRegressor(n_estimators=500, random_state=42)\n",
        "xgb_model.fit(X_tr, y_tr)    "
      ]
    },
    {
      "cell_type": "code",
      "execution_count": null,
      "metadata": {
        "id": "ruYtLSckSg3J"
      },
      "outputs": [],
      "source": [
        "from sklearn.metrics import mean_absolute_error\n",
        "val_pred = xgb_model.predict(X_tr)\n",
        "print('MSE : {:.6f}'.format(mean_absolute_error(y_tr,val_pred))) #훈련 "
      ]
    },
    {
      "cell_type": "code",
      "execution_count": null,
      "metadata": {
        "id": "4Ym-FuKeSdO9"
      },
      "outputs": [],
      "source": [
        "from sklearn.metrics import mean_absolute_error\n",
        "val_pred = xgb_model.predict(X_val)\n",
        "print('MSE : {:.6f}'.format(mean_absolute_error(y_val,val_pred))) #검증 "
      ]
    },
    {
      "cell_type": "markdown",
      "metadata": {
        "id": "CvAar3QHmXjs"
      },
      "source": [
        "### c. CatBoost"
      ]
    },
    {
      "cell_type": "code",
      "execution_count": null,
      "metadata": {
        "id": "DePpm_7Do_Zy"
      },
      "outputs": [],
      "source": [
        "!pip install catboost "
      ]
    },
    {
      "cell_type": "code",
      "execution_count": null,
      "metadata": {
        "id": "F89NnxZ2o8wp"
      },
      "outputs": [],
      "source": [
        "from catboost import CatBoostRegressor\n",
        "cb_model = CatBoostRegressor()\n",
        "cb_model.fit(X_tr,y_tr)"
      ]
    },
    {
      "cell_type": "code",
      "execution_count": null,
      "metadata": {
        "id": "WxEZaGEJFyF8"
      },
      "outputs": [],
      "source": [
        "# random sampler\n",
        "sampler = TPESampler(seed=10)\n",
        "\n",
        "# define function\n",
        "def objective(trial):\n",
        "\n",
        "    cbrm_param = {\n",
        "        'iterations':trial.suggest_int(\"iterations\", 4000, 25000),\n",
        "        'learning_rate' : trial.suggest_uniform('learning_rate',0.01, 1),\n",
        "        'max_depth': trial.suggest_int('max_depth',1, 15),\n",
        "    }\n",
        "\n",
        "    # Generate model\n",
        "    model_cbrm = CatBoostRegressor(**cbrm_param)\n",
        "    model_cbrm = model_cbrm.fit(X_train, y_train, eval_set=[(X_val, y_val)], \n",
        "                           verbose=0, early_stopping_rounds=25)\n",
        "                           \n",
        "\t# 평가지표 원하는 평가 지표가 있을 시 바꾸어 준다.\n",
        "    MAE = mean_absolute_error(y_val, model_cbrm.predict(X_val))\n",
        "    return MAE \n",
        "\n",
        "optuna_cbrm = optuna.create_study(direction='minimize', sampler=sampler)\n",
        "optuna_cbrm.optimize(objective, n_trials=50)"
      ]
    },
    {
      "cell_type": "code",
      "execution_count": null,
      "metadata": {
        "id": "L_c4yliZGMfF"
      },
      "outputs": [],
      "source": [
        "cbrm_trial = optuna_cbrm.best_trial\n",
        "cbrm_trial_params = cbrm_trial.params\n",
        "print('Best Trial: score {},\\nparams {}'.format(cbrm_trial.value, cbrm_trial_params))"
      ]
    },
    {
      "cell_type": "code",
      "execution_count": null,
      "metadata": {
        "id": "1JtSiv5QCePQ"
      },
      "outputs": [],
      "source": [
        "from catboost import CatBoostRegressor\n",
        "cb_model = CatBoostRegressor(iterations=10000,\n",
        "                             max_depth=8,\n",
        "                             learning_rate=0.4,\n",
        "                             eval_metric='MAE',\n",
        "                             random_state=42)\n",
        "cb_model.fit(X_tr, y_tr,\n",
        "                eval_set=[(X_val, y_val)],\n",
        "                verbose=500,\n",
        "                early_stopping_rounds=30)  "
      ]
    },
    {
      "cell_type": "code",
      "execution_count": null,
      "metadata": {
        "id": "YalLL1-8pMbb"
      },
      "outputs": [],
      "source": [
        "from sklearn.metrics import mean_absolute_error\n",
        "val_pred = cb_model.predict(X_val)\n",
        "print('MSE : {:.6f}'.format(mean_absolute_error(y_val,val_pred))) #검증 "
      ]
    },
    {
      "cell_type": "code",
      "execution_count": null,
      "metadata": {
        "id": "TU7NXGXaClp8"
      },
      "outputs": [],
      "source": [
        "from sklearn.metrics import mean_absolute_error\n",
        "val_pred = cb_model.predict(X_tr)\n",
        "print('MSE : {:.6f}'.format(mean_absolute_error(y_tr,val_pred))) #훈련 "
      ]
    },
    {
      "cell_type": "markdown",
      "metadata": {
        "id": "e648rX_kmDDs"
      },
      "source": [
        "## 3. Predict and Submit"
      ]
    },
    {
      "cell_type": "markdown",
      "metadata": {
        "id": "ADhx5wGbnFR9"
      },
      "source": [
        "### a. Pred"
      ]
    },
    {
      "cell_type": "code",
      "execution_count": null,
      "metadata": {
        "id": "VXxVgEjoqOsg"
      },
      "outputs": [],
      "source": [
        "sample_submission = pd.read_csv('/content/drive/MyDrive/2022_02_machine_learning/sample_submission.csv')"
      ]
    },
    {
      "cell_type": "code",
      "execution_count": null,
      "metadata": {
        "id": "bsrYtgghmrbr"
      },
      "outputs": [],
      "source": [
        "pred_lgb = lgb_model.predict(X_test)\n",
        "sample_submission_lgb = sample_submission.copy()\n",
        "sample_submission_lgb['target'] = pred_lgb  "
      ]
    },
    {
      "cell_type": "code",
      "execution_count": null,
      "metadata": {
        "id": "svRKa9jHpUzi"
      },
      "outputs": [],
      "source": [
        "pred_xgb = xgb_model.predict(X_test)\n",
        "sample_submission_xgb = sample_submission.copy()\n",
        "sample_submission_xgb['target'] = pred_xgb"
      ]
    },
    {
      "cell_type": "code",
      "execution_count": null,
      "metadata": {
        "id": "baJLdcuJpUns"
      },
      "outputs": [],
      "source": [
        "pred_cb = cb_model.predict(X_test)\n",
        "sample_submission_cb = sample_submission.copy()\n",
        "sample_submission_cb['target'] = pred_cb  "
      ]
    },
    {
      "cell_type": "markdown",
      "metadata": {
        "id": "-HwIOmQ0nHWN"
      },
      "source": [
        "### b. Submit"
      ]
    },
    {
      "cell_type": "code",
      "execution_count": null,
      "metadata": {
        "id": "8VKPzabHFcg0"
      },
      "outputs": [],
      "source": [
        "#sample_submission['target'] = ((sample_submission_lgb['target'] + sample_submission_xgb['target']) / 2)"
      ]
    },
    {
      "cell_type": "code",
      "execution_count": null,
      "metadata": {
        "id": "3v7GybiAGcnP"
      },
      "outputs": [],
      "source": [
        "sample_submission['target'] = ((sample_submission_lgb['target']*0.8 + sample_submission_cb['target']*0.2))"
      ]
    },
    {
      "cell_type": "code",
      "execution_count": null,
      "metadata": {
        "id": "9y7EYSSRpwyL"
      },
      "outputs": [],
      "source": [
        "#sample_submission['target'] = ((sample_submission_lgb['target'] + sample_submission_xgb['target'] + sample_submission_cb['target']) / 3)"
      ]
    },
    {
      "cell_type": "code",
      "execution_count": null,
      "metadata": {
        "id": "Dzs1GJ3JmqdB"
      },
      "outputs": [],
      "source": [
        "sample_submission.to_csv(\"/content/drive/MyDrive/dacon/data/submit.csv\", index = False)"
      ]
    },
    {
      "cell_type": "code",
      "execution_count": null,
      "metadata": {
        "id": "XkXg8wi1mr2Q"
      },
      "outputs": [],
      "source": [
        "sample_submission"
      ]
    }
  ],
  "metadata": {
    "accelerator": "GPU",
    "colab": {
      "provenance": [],
      "toc_visible": true
    },
    "gpuClass": "standard",
    "kernelspec": {
      "display_name": "Python 3",
      "name": "python3"
    },
    "language_info": {
      "name": "python"
    }
  },
  "nbformat": 4,
  "nbformat_minor": 0
}
