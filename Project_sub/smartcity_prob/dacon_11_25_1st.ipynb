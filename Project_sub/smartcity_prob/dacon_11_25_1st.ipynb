{
 "cells": [
  {
   "cell_type": "markdown",
   "metadata": {},
   "source": [
    "# Data Preprocessing "
   ]
  },
  {
   "cell_type": "code",
   "execution_count": 1,
   "metadata": {},
   "outputs": [],
   "source": [
    "# import\n",
    "import pandas as pd\n",
    "import numpy as np\n",
    "from sklearn.metrics import f1_score\n",
    "from sklearn.preprocessing import StandardScaler\n",
    "from sklearn.preprocessing import LabelEncoder"
   ]
  },
  {
   "cell_type": "code",
   "execution_count": 2,
   "metadata": {},
   "outputs": [],
   "source": [
    "# load dataset\n",
    "train = pd.read_csv('C:\\\\Users\\\\Hyunsoo Kim\\\\Desktop\\\\3rd_grade\\\\smartcity_problem\\\\data\\\\oil\\\\train.csv')\n",
    "test = pd.read_csv('C:\\\\Users\\\\Hyunsoo Kim\\\\Desktop\\\\3rd_grade\\\\smartcity_problem\\\\data\\\\oil\\\\test.csv')"
   ]
  },
  {
   "cell_type": "code",
   "execution_count": 3,
   "metadata": {},
   "outputs": [],
   "source": [
    "# label encoder\n",
    "categorical_features = ['YEAR']\n",
    "for i in categorical_features:\n",
    "    le = LabelEncoder()\n",
    "    le=le.fit(train[i])\n",
    "    train[i]=le.transform(train[i])\n",
    "    \n",
    "    for label in np.unique(test[i]):\n",
    "        if label not in le.classes_: \n",
    "            le.classes_ = np.append(le.classes_, label)\n",
    "    test[i]=le.transform(test[i])"
   ]
  },
  {
   "cell_type": "code",
   "execution_count": 4,
   "metadata": {},
   "outputs": [
    {
     "name": "stderr",
     "output_type": "stream",
     "text": [
      "C:\\Users\\Hyunsoo Kim\\AppData\\Local\\Temp\\ipykernel_18140\\3394360556.py:2: FutureWarning: Dropping of nuisance columns in DataFrame reductions (with 'numeric_only=None') is deprecated; in a future version this will raise TypeError.  Select only valid columns before calling the reduction.\n",
      "  train = train.fillna(train.mean())\n",
      "C:\\Users\\Hyunsoo Kim\\AppData\\Local\\Temp\\ipykernel_18140\\3394360556.py:3: FutureWarning: Dropping of nuisance columns in DataFrame reductions (with 'numeric_only=None') is deprecated; in a future version this will raise TypeError.  Select only valid columns before calling the reduction.\n",
      "  test = test.fillna(test.mean()) #test data set에는 missing value 존재하지 않음\n"
     ]
    }
   ],
   "source": [
    "# missing value \n",
    "train = train.fillna(train.mean()) \n",
    "test = test.fillna(test.mean()) #test data set에는 missing value 존재하지 않음"
   ]
  },
  {
   "cell_type": "code",
   "execution_count": 5,
   "metadata": {},
   "outputs": [],
   "source": [
    "train['YEAR'] = train['YEAR'].astype('object')\n",
    "test['YEAR'] = test['YEAR'].astype('object') "
   ]
  },
  {
   "cell_type": "code",
   "execution_count": 6,
   "metadata": {},
   "outputs": [
    {
     "name": "stderr",
     "output_type": "stream",
     "text": [
      "c:\\Users\\Hyunsoo Kim\\anaconda3\\lib\\site-packages\\pandas\\core\\algorithms.py:798: FutureWarning: In a future version, the Index constructor will not infer numeric dtypes when passed object-dtype sequences (matching Series behavior)\n",
      "  uniques = Index(uniques)\n",
      "c:\\Users\\Hyunsoo Kim\\anaconda3\\lib\\site-packages\\pandas\\core\\algorithms.py:798: FutureWarning: In a future version, the Index constructor will not infer numeric dtypes when passed object-dtype sequences (matching Series behavior)\n",
      "  uniques = Index(uniques)\n"
     ]
    }
   ],
   "source": [
    "com_train = train[['YEAR','COMPONENT_ARBITRARY']]\n",
    "com_one_hot_df = pd.get_dummies(com_train) \n",
    "train = pd.concat([train,com_one_hot_df], axis = 1)\n",
    "train = train.drop(['ID','YEAR','COMPONENT_ARBITRARY'],axis =1)\n",
    "com_test = test[['YEAR','COMPONENT_ARBITRARY']]\n",
    "com_one_hot_df = pd.get_dummies(com_test) \n",
    "test = pd.concat([test,com_one_hot_df], axis = 1)\n",
    "test = test.drop(['ID','YEAR','COMPONENT_ARBITRARY'],axis =1)"
   ]
  },
  {
   "cell_type": "code",
   "execution_count": 7,
   "metadata": {},
   "outputs": [
    {
     "data": {
      "text/plain": [
       "Index(['ANONYMOUS_1', 'SAMPLE_TRANSFER_DAY', 'ANONYMOUS_2', 'AG', 'AL', 'B',\n",
       "       'BA', 'BE', 'CA', 'CD', 'CO', 'CR', 'CU', 'FH2O', 'FNOX',\n",
       "       'FOPTIMETHGLY', 'FOXID', 'FSO4', 'FTBN', 'FE', 'FUEL', 'H2O', 'K', 'LI',\n",
       "       'MG', 'MN', 'MO', 'NA', 'NI', 'P', 'PB', 'PQINDEX', 'S', 'SB', 'SI',\n",
       "       'SN', 'SOOTPERCENTAGE', 'TI', 'U100', 'U75', 'U50', 'U25', 'U20', 'U14',\n",
       "       'U6', 'U4', 'V', 'V100', 'V40', 'ZN', 'Y_LABEL', 'YEAR_0', 'YEAR_1',\n",
       "       'YEAR_2', 'YEAR_3', 'YEAR_4', 'YEAR_5', 'YEAR_6', 'YEAR_7', 'YEAR_8',\n",
       "       'YEAR_9', 'YEAR_10', 'YEAR_11', 'YEAR_12', 'YEAR_13', 'YEAR_14',\n",
       "       'YEAR_15', 'COMPONENT_ARBITRARY_COMPONENT1',\n",
       "       'COMPONENT_ARBITRARY_COMPONENT2', 'COMPONENT_ARBITRARY_COMPONENT3',\n",
       "       'COMPONENT_ARBITRARY_COMPONENT4'],\n",
       "      dtype='object')"
      ]
     },
     "execution_count": 7,
     "metadata": {},
     "output_type": "execute_result"
    }
   ],
   "source": [
    "train.columns"
   ]
  },
  {
   "cell_type": "code",
   "execution_count": 8,
   "metadata": {},
   "outputs": [],
   "source": [
    "# target 변수 분리\n",
    "y_train = train[\"Y_LABEL\"].copy()\n",
    "X_train = train.drop(\"Y_LABEL\", axis=1) "
   ]
  },
  {
   "cell_type": "code",
   "execution_count": 9,
   "metadata": {},
   "outputs": [
    {
     "data": {
      "text/plain": [
       "Index(['ANONYMOUS_1', 'SAMPLE_TRANSFER_DAY', 'ANONYMOUS_2', 'AG', 'AL', 'B',\n",
       "       'BA', 'BE', 'CA', 'CD', 'CO', 'CR', 'CU', 'FH2O', 'FNOX',\n",
       "       'FOPTIMETHGLY', 'FOXID', 'FSO4', 'FTBN', 'FE', 'FUEL', 'H2O', 'K', 'LI',\n",
       "       'MG', 'MN', 'MO', 'NA', 'NI', 'P', 'PB', 'PQINDEX', 'S', 'SB', 'SI',\n",
       "       'SN', 'SOOTPERCENTAGE', 'TI', 'U100', 'U75', 'U50', 'U25', 'U20', 'U14',\n",
       "       'U6', 'U4', 'V', 'V100', 'V40', 'ZN', 'YEAR_0', 'YEAR_1', 'YEAR_2',\n",
       "       'YEAR_3', 'YEAR_4', 'YEAR_5', 'YEAR_6', 'YEAR_7', 'YEAR_8', 'YEAR_9',\n",
       "       'YEAR_10', 'YEAR_11', 'YEAR_12', 'YEAR_13', 'YEAR_14', 'YEAR_15',\n",
       "       'COMPONENT_ARBITRARY_COMPONENT1', 'COMPONENT_ARBITRARY_COMPONENT2',\n",
       "       'COMPONENT_ARBITRARY_COMPONENT3', 'COMPONENT_ARBITRARY_COMPONENT4'],\n",
       "      dtype='object')"
      ]
     },
     "execution_count": 9,
     "metadata": {},
     "output_type": "execute_result"
    }
   ],
   "source": [
    "X_train.columns"
   ]
  },
  {
   "cell_type": "markdown",
   "metadata": {},
   "source": [
    "# Modeling"
   ]
  },
  {
   "cell_type": "code",
   "execution_count": 10,
   "metadata": {},
   "outputs": [
    {
     "data": {
      "text/plain": [
       "RandomForestClassifier(n_estimators=500, random_state=41)"
      ]
     },
     "execution_count": 10,
     "metadata": {},
     "output_type": "execute_result"
    }
   ],
   "source": [
    "from sklearn.ensemble import RandomForestClassifier\n",
    "\n",
    "model = RandomForestClassifier(n_estimators=500,random_state=41) \n",
    "model.fit(X_train, y_train) "
   ]
  },
  {
   "cell_type": "code",
   "execution_count": 11,
   "metadata": {},
   "outputs": [
    {
     "data": {
      "text/plain": [
       "RandomForestClassifier(max_depth=39, max_leaf_nodes=855, n_estimators=445,\n",
       "                       random_state=41)"
      ]
     },
     "execution_count": 11,
     "metadata": {},
     "output_type": "execute_result"
    }
   ],
   "source": [
    "from sklearn.ensemble import RandomForestClassifier\n",
    "\n",
    "model = RandomForestClassifier(n_estimators=445,max_leaf_nodes=855,max_depth=39,random_state=41) \n",
    "model.fit(X_train, y_train) "
   ]
  },
  {
   "cell_type": "code",
   "execution_count": 12,
   "metadata": {},
   "outputs": [
    {
     "data": {
      "text/plain": [
       "0.6456140342781274"
      ]
     },
     "execution_count": 12,
     "metadata": {},
     "output_type": "execute_result"
    }
   ],
   "source": [
    "from sklearn.model_selection import cross_val_score\n",
    "score = cross_val_score(model, X_train, y_train, cv=5, scoring=\"f1\")\n",
    "f1_mean = score.mean()\n",
    "f1_mean #0.6458986605589347 "
   ]
  },
  {
   "cell_type": "code",
   "execution_count": 13,
   "metadata": {},
   "outputs": [],
   "source": [
    "a=model.predict_proba(X_train)[:,1]"
   ]
  },
  {
   "cell_type": "code",
   "execution_count": 14,
   "metadata": {},
   "outputs": [],
   "source": [
    "X_train_1=X_train[['ANONYMOUS_1','ANONYMOUS_2', 'AG', 'CO', 'CR', 'CU', 'FE',\n",
    "       'H2O', 'MN', 'MO', 'NI', 'PQINDEX', 'TI', 'V', 'V40', 'ZN',\n",
    "       'YEAR_0', 'YEAR_1','YEAR_2', 'YEAR_3', 'YEAR_4', 'YEAR_5', 'YEAR_6', 'YEAR_7', 'YEAR_8',\n",
    "       'YEAR_9', 'YEAR_10', 'YEAR_11', 'YEAR_12', 'YEAR_13', 'YEAR_14','YEAR_15',\n",
    "       'COMPONENT_ARBITRARY_COMPONENT1', 'COMPONENT_ARBITRARY_COMPONENT2',\n",
    "       'COMPONENT_ARBITRARY_COMPONENT3', 'COMPONENT_ARBITRARY_COMPONENT4']] #'YEAR' 뺴고 원핫인코딩으로 진행 "
   ]
  },
  {
   "cell_type": "markdown",
   "metadata": {},
   "source": [
    "https://lsjsj92.tistory.com/558  이거 기반으로 스태킹 진행 // smote하고 train_test_split도 하고 진행 "
   ]
  },
  {
   "cell_type": "code",
   "execution_count": 15,
   "metadata": {},
   "outputs": [
    {
     "name": "stdout",
     "output_type": "stream",
     "text": [
      "Learning rate set to 0.109262\n",
      "0:\tlearn: 0.2233940\ttotal: 163ms\tremaining: 1m 21s\n",
      "1:\tlearn: 0.2225460\ttotal: 188ms\tremaining: 46.8s\n",
      "2:\tlearn: 0.2218076\ttotal: 209ms\tremaining: 34.5s\n",
      "3:\tlearn: 0.2209564\ttotal: 221ms\tremaining: 27.5s\n",
      "4:\tlearn: 0.2204696\ttotal: 231ms\tremaining: 22.9s\n",
      "5:\tlearn: 0.2199960\ttotal: 244ms\tremaining: 20.1s\n",
      "6:\tlearn: 0.2194682\ttotal: 258ms\tremaining: 18.2s\n",
      "7:\tlearn: 0.2191027\ttotal: 265ms\tremaining: 16.3s\n",
      "8:\tlearn: 0.2188225\ttotal: 278ms\tremaining: 15.2s\n",
      "9:\tlearn: 0.2184943\ttotal: 292ms\tremaining: 14.3s\n",
      "10:\tlearn: 0.2181867\ttotal: 303ms\tremaining: 13.5s\n",
      "11:\tlearn: 0.2178676\ttotal: 311ms\tremaining: 12.7s\n",
      "12:\tlearn: 0.2176826\ttotal: 322ms\tremaining: 12.1s\n",
      "13:\tlearn: 0.2174811\ttotal: 328ms\tremaining: 11.4s\n",
      "14:\tlearn: 0.2172405\ttotal: 338ms\tremaining: 10.9s\n",
      "15:\tlearn: 0.2169975\ttotal: 348ms\tremaining: 10.5s\n",
      "16:\tlearn: 0.2167965\ttotal: 354ms\tremaining: 10.1s\n",
      "17:\tlearn: 0.2165504\ttotal: 362ms\tremaining: 9.7s\n",
      "18:\tlearn: 0.2164288\ttotal: 371ms\tremaining: 9.4s\n",
      "19:\tlearn: 0.2162201\ttotal: 388ms\tremaining: 9.3s\n",
      "20:\tlearn: 0.2161566\ttotal: 433ms\tremaining: 9.87s\n",
      "21:\tlearn: 0.2159537\ttotal: 452ms\tremaining: 9.81s\n",
      "22:\tlearn: 0.2157492\ttotal: 461ms\tremaining: 9.56s\n",
      "23:\tlearn: 0.2155822\ttotal: 469ms\tremaining: 9.3s\n",
      "24:\tlearn: 0.2154098\ttotal: 488ms\tremaining: 9.28s\n",
      "25:\tlearn: 0.2153194\ttotal: 511ms\tremaining: 9.31s\n",
      "26:\tlearn: 0.2151801\ttotal: 519ms\tremaining: 9.1s\n",
      "27:\tlearn: 0.2150529\ttotal: 528ms\tremaining: 8.9s\n",
      "28:\tlearn: 0.2149165\ttotal: 535ms\tremaining: 8.69s\n",
      "29:\tlearn: 0.2148077\ttotal: 544ms\tremaining: 8.52s\n",
      "30:\tlearn: 0.2146820\ttotal: 550ms\tremaining: 8.32s\n",
      "31:\tlearn: 0.2145570\ttotal: 559ms\tremaining: 8.18s\n",
      "32:\tlearn: 0.2144508\ttotal: 567ms\tremaining: 8.03s\n",
      "33:\tlearn: 0.2143203\ttotal: 577ms\tremaining: 7.91s\n",
      "34:\tlearn: 0.2142170\ttotal: 584ms\tremaining: 7.75s\n",
      "35:\tlearn: 0.2141551\ttotal: 593ms\tremaining: 7.64s\n",
      "36:\tlearn: 0.2140367\ttotal: 600ms\tremaining: 7.5s\n",
      "37:\tlearn: 0.2140124\ttotal: 611ms\tremaining: 7.43s\n",
      "38:\tlearn: 0.2139140\ttotal: 619ms\tremaining: 7.32s\n",
      "39:\tlearn: 0.2137907\ttotal: 628ms\tremaining: 7.22s\n",
      "40:\tlearn: 0.2137244\ttotal: 636ms\tremaining: 7.12s\n",
      "41:\tlearn: 0.2137203\ttotal: 639ms\tremaining: 6.97s\n",
      "42:\tlearn: 0.2136334\ttotal: 646ms\tremaining: 6.86s\n",
      "43:\tlearn: 0.2135612\ttotal: 656ms\tremaining: 6.79s\n",
      "44:\tlearn: 0.2134633\ttotal: 664ms\tremaining: 6.71s\n",
      "45:\tlearn: 0.2133261\ttotal: 675ms\tremaining: 6.66s\n",
      "46:\tlearn: 0.2131895\ttotal: 683ms\tremaining: 6.59s\n",
      "47:\tlearn: 0.2130781\ttotal: 691ms\tremaining: 6.5s\n",
      "48:\tlearn: 0.2129882\ttotal: 697ms\tremaining: 6.41s\n",
      "49:\tlearn: 0.2128734\ttotal: 705ms\tremaining: 6.35s\n",
      "50:\tlearn: 0.2128609\ttotal: 712ms\tremaining: 6.27s\n",
      "51:\tlearn: 0.2127556\ttotal: 720ms\tremaining: 6.2s\n",
      "52:\tlearn: 0.2126476\ttotal: 726ms\tremaining: 6.12s\n",
      "53:\tlearn: 0.2125798\ttotal: 735ms\tremaining: 6.07s\n",
      "54:\tlearn: 0.2125173\ttotal: 741ms\tremaining: 6s\n",
      "55:\tlearn: 0.2124234\ttotal: 751ms\tremaining: 5.95s\n",
      "56:\tlearn: 0.2123334\ttotal: 757ms\tremaining: 5.88s\n",
      "57:\tlearn: 0.2122661\ttotal: 766ms\tremaining: 5.84s\n",
      "58:\tlearn: 0.2121869\ttotal: 773ms\tremaining: 5.78s\n",
      "59:\tlearn: 0.2121225\ttotal: 781ms\tremaining: 5.73s\n",
      "60:\tlearn: 0.2120937\ttotal: 787ms\tremaining: 5.67s\n",
      "61:\tlearn: 0.2120057\ttotal: 796ms\tremaining: 5.62s\n",
      "62:\tlearn: 0.2119788\ttotal: 805ms\tremaining: 5.58s\n",
      "63:\tlearn: 0.2119038\ttotal: 812ms\tremaining: 5.53s\n",
      "64:\tlearn: 0.2118384\ttotal: 818ms\tremaining: 5.48s\n",
      "65:\tlearn: 0.2117427\ttotal: 824ms\tremaining: 5.42s\n",
      "66:\tlearn: 0.2117009\ttotal: 832ms\tremaining: 5.38s\n",
      "67:\tlearn: 0.2116619\ttotal: 838ms\tremaining: 5.32s\n",
      "68:\tlearn: 0.2115858\ttotal: 848ms\tremaining: 5.29s\n",
      "69:\tlearn: 0.2114959\ttotal: 855ms\tremaining: 5.25s\n",
      "70:\tlearn: 0.2113358\ttotal: 863ms\tremaining: 5.21s\n",
      "71:\tlearn: 0.2112919\ttotal: 871ms\tremaining: 5.17s\n",
      "72:\tlearn: 0.2111606\ttotal: 878ms\tremaining: 5.14s\n",
      "73:\tlearn: 0.2110754\ttotal: 885ms\tremaining: 5.1s\n",
      "74:\tlearn: 0.2109965\ttotal: 895ms\tremaining: 5.07s\n",
      "75:\tlearn: 0.2108984\ttotal: 902ms\tremaining: 5.03s\n",
      "76:\tlearn: 0.2108161\ttotal: 911ms\tremaining: 5s\n",
      "77:\tlearn: 0.2106981\ttotal: 917ms\tremaining: 4.96s\n",
      "78:\tlearn: 0.2105683\ttotal: 925ms\tremaining: 4.93s\n",
      "79:\tlearn: 0.2105079\ttotal: 931ms\tremaining: 4.89s\n",
      "80:\tlearn: 0.2104622\ttotal: 940ms\tremaining: 4.86s\n",
      "81:\tlearn: 0.2104061\ttotal: 948ms\tremaining: 4.83s\n",
      "82:\tlearn: 0.2103571\ttotal: 957ms\tremaining: 4.81s\n",
      "83:\tlearn: 0.2102969\ttotal: 966ms\tremaining: 4.78s\n",
      "84:\tlearn: 0.2102352\ttotal: 981ms\tremaining: 4.79s\n",
      "85:\tlearn: 0.2101464\ttotal: 998ms\tremaining: 4.8s\n",
      "86:\tlearn: 0.2100548\ttotal: 1.02s\tremaining: 4.84s\n",
      "87:\tlearn: 0.2098900\ttotal: 1.03s\tremaining: 4.83s\n",
      "88:\tlearn: 0.2098065\ttotal: 1.05s\tremaining: 4.87s\n",
      "89:\tlearn: 0.2097379\ttotal: 1.08s\tremaining: 4.9s\n",
      "90:\tlearn: 0.2096417\ttotal: 1.09s\tremaining: 4.92s\n",
      "91:\tlearn: 0.2095737\ttotal: 1.11s\tremaining: 4.91s\n",
      "92:\tlearn: 0.2094536\ttotal: 1.13s\tremaining: 4.94s\n",
      "93:\tlearn: 0.2093539\ttotal: 1.14s\tremaining: 4.94s\n",
      "94:\tlearn: 0.2092519\ttotal: 1.16s\tremaining: 4.95s\n",
      "95:\tlearn: 0.2091208\ttotal: 1.18s\tremaining: 4.96s\n",
      "96:\tlearn: 0.2090097\ttotal: 1.2s\tremaining: 4.97s\n",
      "97:\tlearn: 0.2089611\ttotal: 1.22s\tremaining: 4.99s\n",
      "98:\tlearn: 0.2088830\ttotal: 1.24s\tremaining: 5.02s\n",
      "99:\tlearn: 0.2087857\ttotal: 1.25s\tremaining: 5.02s\n",
      "100:\tlearn: 0.2087475\ttotal: 1.27s\tremaining: 5.02s\n",
      "101:\tlearn: 0.2086775\ttotal: 1.28s\tremaining: 5.01s\n",
      "102:\tlearn: 0.2085522\ttotal: 1.29s\tremaining: 4.99s\n",
      "103:\tlearn: 0.2084738\ttotal: 1.3s\tremaining: 4.97s\n",
      "104:\tlearn: 0.2083543\ttotal: 1.32s\tremaining: 4.95s\n",
      "105:\tlearn: 0.2082657\ttotal: 1.32s\tremaining: 4.92s\n",
      "106:\tlearn: 0.2082462\ttotal: 1.33s\tremaining: 4.89s\n",
      "107:\tlearn: 0.2081705\ttotal: 1.34s\tremaining: 4.87s\n",
      "108:\tlearn: 0.2081008\ttotal: 1.35s\tremaining: 4.84s\n",
      "109:\tlearn: 0.2079462\ttotal: 1.36s\tremaining: 4.83s\n",
      "110:\tlearn: 0.2078207\ttotal: 1.37s\tremaining: 4.8s\n",
      "111:\tlearn: 0.2077439\ttotal: 1.38s\tremaining: 4.79s\n",
      "112:\tlearn: 0.2076482\ttotal: 1.4s\tremaining: 4.78s\n",
      "113:\tlearn: 0.2075579\ttotal: 1.41s\tremaining: 4.77s\n",
      "114:\tlearn: 0.2075412\ttotal: 1.42s\tremaining: 4.75s\n",
      "115:\tlearn: 0.2073985\ttotal: 1.43s\tremaining: 4.73s\n",
      "116:\tlearn: 0.2072782\ttotal: 1.44s\tremaining: 4.71s\n",
      "117:\tlearn: 0.2071978\ttotal: 1.45s\tremaining: 4.68s\n",
      "118:\tlearn: 0.2070835\ttotal: 1.46s\tremaining: 4.67s\n",
      "119:\tlearn: 0.2069515\ttotal: 1.47s\tremaining: 4.65s\n",
      "120:\tlearn: 0.2069111\ttotal: 1.48s\tremaining: 4.62s\n",
      "121:\tlearn: 0.2068305\ttotal: 1.49s\tremaining: 4.6s\n",
      "122:\tlearn: 0.2067954\ttotal: 1.49s\tremaining: 4.58s\n",
      "123:\tlearn: 0.2066659\ttotal: 1.5s\tremaining: 4.56s\n",
      "124:\tlearn: 0.2066629\ttotal: 1.51s\tremaining: 4.54s\n",
      "125:\tlearn: 0.2065666\ttotal: 1.52s\tremaining: 4.52s\n",
      "126:\tlearn: 0.2065468\ttotal: 1.53s\tremaining: 4.51s\n",
      "127:\tlearn: 0.2064902\ttotal: 1.54s\tremaining: 4.48s\n",
      "128:\tlearn: 0.2063555\ttotal: 1.55s\tremaining: 4.46s\n",
      "129:\tlearn: 0.2062030\ttotal: 1.56s\tremaining: 4.44s\n",
      "130:\tlearn: 0.2061787\ttotal: 1.57s\tremaining: 4.43s\n",
      "131:\tlearn: 0.2060620\ttotal: 1.59s\tremaining: 4.42s\n",
      "132:\tlearn: 0.2060073\ttotal: 1.6s\tremaining: 4.43s\n",
      "133:\tlearn: 0.2058747\ttotal: 1.61s\tremaining: 4.41s\n",
      "134:\tlearn: 0.2057679\ttotal: 1.63s\tremaining: 4.42s\n",
      "135:\tlearn: 0.2057439\ttotal: 1.65s\tremaining: 4.43s\n",
      "136:\tlearn: 0.2056879\ttotal: 1.67s\tremaining: 4.43s\n",
      "137:\tlearn: 0.2055930\ttotal: 1.7s\tremaining: 4.45s\n",
      "138:\tlearn: 0.2055154\ttotal: 1.71s\tremaining: 4.45s\n",
      "139:\tlearn: 0.2054847\ttotal: 1.73s\tremaining: 4.44s\n",
      "140:\tlearn: 0.2054712\ttotal: 1.74s\tremaining: 4.42s\n",
      "141:\tlearn: 0.2053317\ttotal: 1.76s\tremaining: 4.43s\n",
      "142:\tlearn: 0.2052345\ttotal: 1.78s\tremaining: 4.45s\n",
      "143:\tlearn: 0.2051393\ttotal: 1.8s\tremaining: 4.44s\n",
      "144:\tlearn: 0.2050569\ttotal: 1.81s\tremaining: 4.44s\n",
      "145:\tlearn: 0.2049336\ttotal: 1.83s\tremaining: 4.44s\n",
      "146:\tlearn: 0.2049059\ttotal: 1.85s\tremaining: 4.44s\n",
      "147:\tlearn: 0.2048115\ttotal: 1.87s\tremaining: 4.46s\n",
      "148:\tlearn: 0.2047576\ttotal: 1.89s\tremaining: 4.46s\n",
      "149:\tlearn: 0.2046953\ttotal: 1.91s\tremaining: 4.45s\n",
      "150:\tlearn: 0.2046118\ttotal: 1.92s\tremaining: 4.44s\n",
      "151:\tlearn: 0.2045870\ttotal: 1.94s\tremaining: 4.43s\n",
      "152:\tlearn: 0.2045699\ttotal: 1.96s\tremaining: 4.45s\n",
      "153:\tlearn: 0.2044180\ttotal: 1.99s\tremaining: 4.47s\n",
      "154:\tlearn: 0.2043076\ttotal: 2.01s\tremaining: 4.47s\n",
      "155:\tlearn: 0.2042189\ttotal: 2.03s\tremaining: 4.47s\n",
      "156:\tlearn: 0.2042027\ttotal: 2.04s\tremaining: 4.46s\n",
      "157:\tlearn: 0.2041388\ttotal: 2.06s\tremaining: 4.46s\n",
      "158:\tlearn: 0.2040650\ttotal: 2.08s\tremaining: 4.45s\n",
      "159:\tlearn: 0.2040323\ttotal: 2.09s\tremaining: 4.44s\n",
      "160:\tlearn: 0.2039266\ttotal: 2.1s\tremaining: 4.42s\n",
      "161:\tlearn: 0.2038104\ttotal: 2.11s\tremaining: 4.4s\n",
      "162:\tlearn: 0.2037391\ttotal: 2.12s\tremaining: 4.38s\n",
      "163:\tlearn: 0.2036947\ttotal: 2.13s\tremaining: 4.36s\n",
      "164:\tlearn: 0.2036705\ttotal: 2.14s\tremaining: 4.34s\n",
      "165:\tlearn: 0.2036027\ttotal: 2.15s\tremaining: 4.32s\n",
      "166:\tlearn: 0.2035377\ttotal: 2.15s\tremaining: 4.29s\n",
      "167:\tlearn: 0.2034737\ttotal: 2.16s\tremaining: 4.28s\n",
      "168:\tlearn: 0.2034115\ttotal: 2.17s\tremaining: 4.25s\n",
      "169:\tlearn: 0.2033059\ttotal: 2.18s\tremaining: 4.24s\n",
      "170:\tlearn: 0.2031851\ttotal: 2.19s\tremaining: 4.21s\n",
      "171:\tlearn: 0.2031140\ttotal: 2.2s\tremaining: 4.2s\n",
      "172:\tlearn: 0.2030389\ttotal: 2.21s\tremaining: 4.18s\n",
      "173:\tlearn: 0.2030150\ttotal: 2.22s\tremaining: 4.16s\n",
      "174:\tlearn: 0.2028993\ttotal: 2.23s\tremaining: 4.14s\n",
      "175:\tlearn: 0.2028079\ttotal: 2.24s\tremaining: 4.12s\n",
      "176:\tlearn: 0.2027385\ttotal: 2.25s\tremaining: 4.11s\n",
      "177:\tlearn: 0.2026791\ttotal: 2.26s\tremaining: 4.09s\n",
      "178:\tlearn: 0.2025837\ttotal: 2.27s\tremaining: 4.08s\n",
      "179:\tlearn: 0.2025326\ttotal: 2.28s\tremaining: 4.06s\n",
      "180:\tlearn: 0.2025033\ttotal: 2.3s\tremaining: 4.05s\n",
      "181:\tlearn: 0.2024768\ttotal: 2.31s\tremaining: 4.03s\n",
      "182:\tlearn: 0.2024273\ttotal: 2.31s\tremaining: 4.01s\n",
      "183:\tlearn: 0.2022775\ttotal: 2.32s\tremaining: 3.99s\n",
      "184:\tlearn: 0.2021763\ttotal: 2.33s\tremaining: 3.97s\n",
      "185:\tlearn: 0.2020576\ttotal: 2.34s\tremaining: 3.95s\n",
      "186:\tlearn: 0.2020280\ttotal: 2.35s\tremaining: 3.93s\n",
      "187:\tlearn: 0.2019340\ttotal: 2.36s\tremaining: 3.91s\n",
      "188:\tlearn: 0.2018843\ttotal: 2.37s\tremaining: 3.89s\n",
      "189:\tlearn: 0.2017827\ttotal: 2.38s\tremaining: 3.88s\n",
      "190:\tlearn: 0.2016927\ttotal: 2.38s\tremaining: 3.85s\n",
      "191:\tlearn: 0.2016718\ttotal: 2.39s\tremaining: 3.84s\n",
      "192:\tlearn: 0.2016081\ttotal: 2.4s\tremaining: 3.81s\n",
      "193:\tlearn: 0.2015216\ttotal: 2.41s\tremaining: 3.8s\n",
      "194:\tlearn: 0.2014796\ttotal: 2.41s\tremaining: 3.77s\n",
      "195:\tlearn: 0.2014144\ttotal: 2.42s\tremaining: 3.76s\n",
      "196:\tlearn: 0.2014023\ttotal: 2.43s\tremaining: 3.74s\n",
      "197:\tlearn: 0.2012956\ttotal: 2.44s\tremaining: 3.72s\n",
      "198:\tlearn: 0.2012536\ttotal: 2.45s\tremaining: 3.7s\n",
      "199:\tlearn: 0.2011483\ttotal: 2.46s\tremaining: 3.68s\n",
      "200:\tlearn: 0.2010973\ttotal: 2.46s\tremaining: 3.66s\n",
      "201:\tlearn: 0.2010545\ttotal: 2.47s\tremaining: 3.65s\n",
      "202:\tlearn: 0.2009623\ttotal: 2.48s\tremaining: 3.63s\n",
      "203:\tlearn: 0.2008730\ttotal: 2.49s\tremaining: 3.61s\n",
      "204:\tlearn: 0.2008284\ttotal: 2.5s\tremaining: 3.6s\n",
      "205:\tlearn: 0.2007745\ttotal: 2.51s\tremaining: 3.59s\n",
      "206:\tlearn: 0.2007054\ttotal: 2.52s\tremaining: 3.57s\n",
      "207:\tlearn: 0.2006351\ttotal: 2.53s\tremaining: 3.55s\n",
      "208:\tlearn: 0.2005485\ttotal: 2.54s\tremaining: 3.53s\n",
      "209:\tlearn: 0.2004625\ttotal: 2.55s\tremaining: 3.52s\n",
      "210:\tlearn: 0.2003795\ttotal: 2.55s\tremaining: 3.5s\n",
      "211:\tlearn: 0.2003350\ttotal: 2.56s\tremaining: 3.48s\n",
      "212:\tlearn: 0.2002214\ttotal: 2.57s\tremaining: 3.46s\n",
      "213:\tlearn: 0.2001400\ttotal: 2.58s\tremaining: 3.45s\n",
      "214:\tlearn: 0.2000851\ttotal: 2.59s\tremaining: 3.43s\n",
      "215:\tlearn: 0.2000305\ttotal: 2.6s\tremaining: 3.41s\n",
      "216:\tlearn: 0.1999813\ttotal: 2.6s\tremaining: 3.39s\n",
      "217:\tlearn: 0.1999192\ttotal: 2.61s\tremaining: 3.38s\n",
      "218:\tlearn: 0.1998239\ttotal: 2.62s\tremaining: 3.36s\n",
      "219:\tlearn: 0.1997399\ttotal: 2.63s\tremaining: 3.35s\n",
      "220:\tlearn: 0.1997134\ttotal: 2.64s\tremaining: 3.33s\n",
      "221:\tlearn: 0.1996877\ttotal: 2.65s\tremaining: 3.31s\n",
      "222:\tlearn: 0.1995842\ttotal: 2.66s\tremaining: 3.3s\n",
      "223:\tlearn: 0.1994633\ttotal: 2.67s\tremaining: 3.29s\n",
      "224:\tlearn: 0.1994129\ttotal: 2.68s\tremaining: 3.27s\n",
      "225:\tlearn: 0.1993464\ttotal: 2.68s\tremaining: 3.25s\n",
      "226:\tlearn: 0.1993332\ttotal: 2.69s\tremaining: 3.24s\n",
      "227:\tlearn: 0.1992142\ttotal: 2.7s\tremaining: 3.22s\n",
      "228:\tlearn: 0.1991736\ttotal: 2.71s\tremaining: 3.2s\n",
      "229:\tlearn: 0.1990627\ttotal: 2.71s\tremaining: 3.19s\n",
      "230:\tlearn: 0.1989787\ttotal: 2.73s\tremaining: 3.17s\n",
      "231:\tlearn: 0.1989244\ttotal: 2.73s\tremaining: 3.16s\n",
      "232:\tlearn: 0.1988560\ttotal: 2.74s\tremaining: 3.14s\n",
      "233:\tlearn: 0.1987660\ttotal: 2.75s\tremaining: 3.12s\n",
      "234:\tlearn: 0.1986923\ttotal: 2.76s\tremaining: 3.11s\n",
      "235:\tlearn: 0.1986336\ttotal: 2.76s\tremaining: 3.09s\n",
      "236:\tlearn: 0.1985928\ttotal: 2.77s\tremaining: 3.08s\n",
      "237:\tlearn: 0.1985429\ttotal: 2.78s\tremaining: 3.06s\n",
      "238:\tlearn: 0.1985017\ttotal: 2.79s\tremaining: 3.04s\n",
      "239:\tlearn: 0.1984641\ttotal: 2.79s\tremaining: 3.03s\n",
      "240:\tlearn: 0.1984380\ttotal: 2.8s\tremaining: 3.01s\n",
      "241:\tlearn: 0.1983378\ttotal: 2.81s\tremaining: 2.99s\n",
      "242:\tlearn: 0.1982789\ttotal: 2.82s\tremaining: 2.98s\n",
      "243:\tlearn: 0.1982122\ttotal: 2.83s\tremaining: 2.96s\n",
      "244:\tlearn: 0.1980953\ttotal: 2.84s\tremaining: 2.95s\n",
      "245:\tlearn: 0.1979861\ttotal: 2.85s\tremaining: 2.94s\n",
      "246:\tlearn: 0.1979429\ttotal: 2.85s\tremaining: 2.92s\n",
      "247:\tlearn: 0.1978604\ttotal: 2.86s\tremaining: 2.91s\n",
      "248:\tlearn: 0.1978418\ttotal: 2.87s\tremaining: 2.9s\n",
      "249:\tlearn: 0.1978120\ttotal: 2.88s\tremaining: 2.88s\n",
      "250:\tlearn: 0.1977177\ttotal: 2.89s\tremaining: 2.87s\n",
      "251:\tlearn: 0.1977125\ttotal: 2.9s\tremaining: 2.85s\n",
      "252:\tlearn: 0.1976655\ttotal: 2.9s\tremaining: 2.84s\n",
      "253:\tlearn: 0.1976496\ttotal: 2.92s\tremaining: 2.82s\n",
      "254:\tlearn: 0.1976363\ttotal: 2.92s\tremaining: 2.81s\n",
      "255:\tlearn: 0.1975869\ttotal: 2.93s\tremaining: 2.8s\n",
      "256:\tlearn: 0.1975160\ttotal: 2.94s\tremaining: 2.78s\n",
      "257:\tlearn: 0.1974864\ttotal: 2.96s\tremaining: 2.77s\n",
      "258:\tlearn: 0.1974103\ttotal: 2.96s\tremaining: 2.76s\n",
      "259:\tlearn: 0.1973497\ttotal: 2.98s\tremaining: 2.75s\n",
      "260:\tlearn: 0.1973078\ttotal: 2.99s\tremaining: 2.73s\n",
      "261:\tlearn: 0.1972526\ttotal: 2.99s\tremaining: 2.72s\n",
      "262:\tlearn: 0.1971496\ttotal: 3s\tremaining: 2.71s\n",
      "263:\tlearn: 0.1970871\ttotal: 3.01s\tremaining: 2.69s\n",
      "264:\tlearn: 0.1970193\ttotal: 3.02s\tremaining: 2.68s\n",
      "265:\tlearn: 0.1969821\ttotal: 3.03s\tremaining: 2.67s\n",
      "266:\tlearn: 0.1969572\ttotal: 3.04s\tremaining: 2.65s\n",
      "267:\tlearn: 0.1968798\ttotal: 3.05s\tremaining: 2.64s\n",
      "268:\tlearn: 0.1968628\ttotal: 3.06s\tremaining: 2.63s\n",
      "269:\tlearn: 0.1967818\ttotal: 3.07s\tremaining: 2.62s\n",
      "270:\tlearn: 0.1967232\ttotal: 3.08s\tremaining: 2.61s\n",
      "271:\tlearn: 0.1966372\ttotal: 3.09s\tremaining: 2.59s\n",
      "272:\tlearn: 0.1965889\ttotal: 3.1s\tremaining: 2.58s\n",
      "273:\tlearn: 0.1965145\ttotal: 3.11s\tremaining: 2.57s\n",
      "274:\tlearn: 0.1964744\ttotal: 3.12s\tremaining: 2.55s\n",
      "275:\tlearn: 0.1964551\ttotal: 3.13s\tremaining: 2.54s\n",
      "276:\tlearn: 0.1964007\ttotal: 3.14s\tremaining: 2.53s\n",
      "277:\tlearn: 0.1963764\ttotal: 3.15s\tremaining: 2.52s\n",
      "278:\tlearn: 0.1963460\ttotal: 3.16s\tremaining: 2.5s\n",
      "279:\tlearn: 0.1962894\ttotal: 3.17s\tremaining: 2.49s\n",
      "280:\tlearn: 0.1962219\ttotal: 3.17s\tremaining: 2.47s\n",
      "281:\tlearn: 0.1961265\ttotal: 3.18s\tremaining: 2.46s\n",
      "282:\tlearn: 0.1960840\ttotal: 3.19s\tremaining: 2.45s\n",
      "283:\tlearn: 0.1960427\ttotal: 3.2s\tremaining: 2.44s\n",
      "284:\tlearn: 0.1960310\ttotal: 3.21s\tremaining: 2.42s\n",
      "285:\tlearn: 0.1959437\ttotal: 3.22s\tremaining: 2.41s\n",
      "286:\tlearn: 0.1958892\ttotal: 3.23s\tremaining: 2.4s\n",
      "287:\tlearn: 0.1957516\ttotal: 3.24s\tremaining: 2.39s\n",
      "288:\tlearn: 0.1956907\ttotal: 3.25s\tremaining: 2.37s\n",
      "289:\tlearn: 0.1956344\ttotal: 3.26s\tremaining: 2.36s\n",
      "290:\tlearn: 0.1955306\ttotal: 3.27s\tremaining: 2.35s\n",
      "291:\tlearn: 0.1954282\ttotal: 3.28s\tremaining: 2.34s\n",
      "292:\tlearn: 0.1954165\ttotal: 3.29s\tremaining: 2.32s\n",
      "293:\tlearn: 0.1953567\ttotal: 3.3s\tremaining: 2.31s\n",
      "294:\tlearn: 0.1952716\ttotal: 3.3s\tremaining: 2.3s\n",
      "295:\tlearn: 0.1951828\ttotal: 3.31s\tremaining: 2.28s\n",
      "296:\tlearn: 0.1951738\ttotal: 3.32s\tremaining: 2.27s\n",
      "297:\tlearn: 0.1950760\ttotal: 3.33s\tremaining: 2.26s\n",
      "298:\tlearn: 0.1949947\ttotal: 3.34s\tremaining: 2.25s\n",
      "299:\tlearn: 0.1949289\ttotal: 3.35s\tremaining: 2.23s\n",
      "300:\tlearn: 0.1948514\ttotal: 3.36s\tremaining: 2.22s\n",
      "301:\tlearn: 0.1947743\ttotal: 3.37s\tremaining: 2.21s\n",
      "302:\tlearn: 0.1947448\ttotal: 3.38s\tremaining: 2.19s\n",
      "303:\tlearn: 0.1947031\ttotal: 3.39s\tremaining: 2.18s\n",
      "304:\tlearn: 0.1946020\ttotal: 3.4s\tremaining: 2.17s\n",
      "305:\tlearn: 0.1944897\ttotal: 3.4s\tremaining: 2.16s\n",
      "306:\tlearn: 0.1944781\ttotal: 3.41s\tremaining: 2.14s\n",
      "307:\tlearn: 0.1943972\ttotal: 3.42s\tremaining: 2.13s\n",
      "308:\tlearn: 0.1943234\ttotal: 3.44s\tremaining: 2.13s\n",
      "309:\tlearn: 0.1942500\ttotal: 3.45s\tremaining: 2.11s\n",
      "310:\tlearn: 0.1942272\ttotal: 3.46s\tremaining: 2.1s\n",
      "311:\tlearn: 0.1941593\ttotal: 3.47s\tremaining: 2.09s\n",
      "312:\tlearn: 0.1940852\ttotal: 3.48s\tremaining: 2.08s\n",
      "313:\tlearn: 0.1939954\ttotal: 3.49s\tremaining: 2.07s\n",
      "314:\tlearn: 0.1939211\ttotal: 3.5s\tremaining: 2.06s\n",
      "315:\tlearn: 0.1938988\ttotal: 3.51s\tremaining: 2.04s\n",
      "316:\tlearn: 0.1938310\ttotal: 3.52s\tremaining: 2.03s\n",
      "317:\tlearn: 0.1937588\ttotal: 3.52s\tremaining: 2.02s\n",
      "318:\tlearn: 0.1936868\ttotal: 3.54s\tremaining: 2.01s\n",
      "319:\tlearn: 0.1936501\ttotal: 3.54s\tremaining: 1.99s\n",
      "320:\tlearn: 0.1935690\ttotal: 3.55s\tremaining: 1.98s\n",
      "321:\tlearn: 0.1935551\ttotal: 3.56s\tremaining: 1.97s\n",
      "322:\tlearn: 0.1935144\ttotal: 3.57s\tremaining: 1.96s\n",
      "323:\tlearn: 0.1934358\ttotal: 3.58s\tremaining: 1.95s\n",
      "324:\tlearn: 0.1933473\ttotal: 3.59s\tremaining: 1.93s\n",
      "325:\tlearn: 0.1932715\ttotal: 3.6s\tremaining: 1.92s\n",
      "326:\tlearn: 0.1931969\ttotal: 3.61s\tremaining: 1.91s\n",
      "327:\tlearn: 0.1931398\ttotal: 3.62s\tremaining: 1.9s\n",
      "328:\tlearn: 0.1931130\ttotal: 3.63s\tremaining: 1.88s\n",
      "329:\tlearn: 0.1931122\ttotal: 3.63s\tremaining: 1.87s\n",
      "330:\tlearn: 0.1930413\ttotal: 3.65s\tremaining: 1.86s\n",
      "331:\tlearn: 0.1929727\ttotal: 3.66s\tremaining: 1.85s\n",
      "332:\tlearn: 0.1929250\ttotal: 3.67s\tremaining: 1.84s\n",
      "333:\tlearn: 0.1928331\ttotal: 3.68s\tremaining: 1.83s\n",
      "334:\tlearn: 0.1927694\ttotal: 3.69s\tremaining: 1.82s\n",
      "335:\tlearn: 0.1927468\ttotal: 3.7s\tremaining: 1.8s\n",
      "336:\tlearn: 0.1926911\ttotal: 3.71s\tremaining: 1.79s\n",
      "337:\tlearn: 0.1926692\ttotal: 3.71s\tremaining: 1.78s\n",
      "338:\tlearn: 0.1926271\ttotal: 3.72s\tremaining: 1.77s\n",
      "339:\tlearn: 0.1925576\ttotal: 3.73s\tremaining: 1.76s\n",
      "340:\tlearn: 0.1925070\ttotal: 3.74s\tremaining: 1.74s\n",
      "341:\tlearn: 0.1924568\ttotal: 3.75s\tremaining: 1.73s\n",
      "342:\tlearn: 0.1924161\ttotal: 3.75s\tremaining: 1.72s\n",
      "343:\tlearn: 0.1923489\ttotal: 3.76s\tremaining: 1.71s\n",
      "344:\tlearn: 0.1922726\ttotal: 3.77s\tremaining: 1.69s\n",
      "345:\tlearn: 0.1921799\ttotal: 3.78s\tremaining: 1.68s\n",
      "346:\tlearn: 0.1921550\ttotal: 3.79s\tremaining: 1.67s\n",
      "347:\tlearn: 0.1920894\ttotal: 3.79s\tremaining: 1.66s\n",
      "348:\tlearn: 0.1919924\ttotal: 3.8s\tremaining: 1.64s\n",
      "349:\tlearn: 0.1919312\ttotal: 3.81s\tremaining: 1.63s\n",
      "350:\tlearn: 0.1918575\ttotal: 3.82s\tremaining: 1.62s\n",
      "351:\tlearn: 0.1918261\ttotal: 3.83s\tremaining: 1.61s\n",
      "352:\tlearn: 0.1917106\ttotal: 3.83s\tremaining: 1.6s\n",
      "353:\tlearn: 0.1916586\ttotal: 3.84s\tremaining: 1.58s\n",
      "354:\tlearn: 0.1916120\ttotal: 3.85s\tremaining: 1.57s\n",
      "355:\tlearn: 0.1915846\ttotal: 3.86s\tremaining: 1.56s\n",
      "356:\tlearn: 0.1914779\ttotal: 3.87s\tremaining: 1.55s\n",
      "357:\tlearn: 0.1913651\ttotal: 3.87s\tremaining: 1.54s\n",
      "358:\tlearn: 0.1912996\ttotal: 3.88s\tremaining: 1.52s\n",
      "359:\tlearn: 0.1912425\ttotal: 3.89s\tremaining: 1.51s\n",
      "360:\tlearn: 0.1911954\ttotal: 3.9s\tremaining: 1.5s\n",
      "361:\tlearn: 0.1910924\ttotal: 3.91s\tremaining: 1.49s\n",
      "362:\tlearn: 0.1910225\ttotal: 3.92s\tremaining: 1.48s\n",
      "363:\tlearn: 0.1909679\ttotal: 3.93s\tremaining: 1.47s\n",
      "364:\tlearn: 0.1909044\ttotal: 3.94s\tremaining: 1.46s\n",
      "365:\tlearn: 0.1908409\ttotal: 3.95s\tremaining: 1.44s\n",
      "366:\tlearn: 0.1907690\ttotal: 3.95s\tremaining: 1.43s\n",
      "367:\tlearn: 0.1907079\ttotal: 3.96s\tremaining: 1.42s\n",
      "368:\tlearn: 0.1906369\ttotal: 3.97s\tremaining: 1.41s\n",
      "369:\tlearn: 0.1905789\ttotal: 3.98s\tremaining: 1.4s\n",
      "370:\tlearn: 0.1905263\ttotal: 3.99s\tremaining: 1.39s\n",
      "371:\tlearn: 0.1904229\ttotal: 4s\tremaining: 1.37s\n",
      "372:\tlearn: 0.1903626\ttotal: 4s\tremaining: 1.36s\n",
      "373:\tlearn: 0.1902663\ttotal: 4.01s\tremaining: 1.35s\n",
      "374:\tlearn: 0.1901884\ttotal: 4.02s\tremaining: 1.34s\n",
      "375:\tlearn: 0.1901407\ttotal: 4.03s\tremaining: 1.33s\n",
      "376:\tlearn: 0.1901036\ttotal: 4.04s\tremaining: 1.32s\n",
      "377:\tlearn: 0.1900708\ttotal: 4.05s\tremaining: 1.31s\n",
      "378:\tlearn: 0.1900030\ttotal: 4.06s\tremaining: 1.29s\n",
      "379:\tlearn: 0.1899617\ttotal: 4.07s\tremaining: 1.28s\n",
      "380:\tlearn: 0.1898895\ttotal: 4.08s\tremaining: 1.27s\n",
      "381:\tlearn: 0.1898786\ttotal: 4.09s\tremaining: 1.26s\n",
      "382:\tlearn: 0.1898131\ttotal: 4.1s\tremaining: 1.25s\n",
      "383:\tlearn: 0.1897551\ttotal: 4.11s\tremaining: 1.24s\n",
      "384:\tlearn: 0.1896415\ttotal: 4.12s\tremaining: 1.23s\n",
      "385:\tlearn: 0.1895873\ttotal: 4.13s\tremaining: 1.22s\n",
      "386:\tlearn: 0.1895242\ttotal: 4.14s\tremaining: 1.21s\n",
      "387:\tlearn: 0.1894382\ttotal: 4.14s\tremaining: 1.2s\n",
      "388:\tlearn: 0.1894351\ttotal: 4.15s\tremaining: 1.19s\n",
      "389:\tlearn: 0.1893580\ttotal: 4.16s\tremaining: 1.17s\n",
      "390:\tlearn: 0.1893216\ttotal: 4.17s\tremaining: 1.16s\n",
      "391:\tlearn: 0.1892735\ttotal: 4.18s\tremaining: 1.15s\n",
      "392:\tlearn: 0.1892555\ttotal: 4.19s\tremaining: 1.14s\n",
      "393:\tlearn: 0.1892228\ttotal: 4.19s\tremaining: 1.13s\n",
      "394:\tlearn: 0.1891746\ttotal: 4.21s\tremaining: 1.12s\n",
      "395:\tlearn: 0.1890558\ttotal: 4.21s\tremaining: 1.11s\n",
      "396:\tlearn: 0.1889981\ttotal: 4.22s\tremaining: 1.1s\n",
      "397:\tlearn: 0.1888990\ttotal: 4.24s\tremaining: 1.08s\n",
      "398:\tlearn: 0.1888273\ttotal: 4.25s\tremaining: 1.07s\n",
      "399:\tlearn: 0.1887409\ttotal: 4.26s\tremaining: 1.06s\n",
      "400:\tlearn: 0.1887185\ttotal: 4.27s\tremaining: 1.05s\n",
      "401:\tlearn: 0.1886642\ttotal: 4.28s\tremaining: 1.04s\n",
      "402:\tlearn: 0.1886194\ttotal: 4.3s\tremaining: 1.03s\n",
      "403:\tlearn: 0.1885763\ttotal: 4.32s\tremaining: 1.02s\n",
      "404:\tlearn: 0.1885017\ttotal: 4.34s\tremaining: 1.02s\n",
      "405:\tlearn: 0.1884490\ttotal: 4.35s\tremaining: 1.01s\n",
      "406:\tlearn: 0.1884405\ttotal: 4.37s\tremaining: 997ms\n",
      "407:\tlearn: 0.1883810\ttotal: 4.38s\tremaining: 987ms\n",
      "408:\tlearn: 0.1883114\ttotal: 4.39s\tremaining: 978ms\n",
      "409:\tlearn: 0.1883017\ttotal: 4.41s\tremaining: 968ms\n",
      "410:\tlearn: 0.1882684\ttotal: 4.42s\tremaining: 957ms\n",
      "411:\tlearn: 0.1882018\ttotal: 4.44s\tremaining: 949ms\n",
      "412:\tlearn: 0.1881855\ttotal: 4.46s\tremaining: 940ms\n",
      "413:\tlearn: 0.1881186\ttotal: 4.49s\tremaining: 933ms\n",
      "414:\tlearn: 0.1880563\ttotal: 4.51s\tremaining: 924ms\n",
      "415:\tlearn: 0.1879927\ttotal: 4.53s\tremaining: 914ms\n",
      "416:\tlearn: 0.1879226\ttotal: 4.54s\tremaining: 905ms\n",
      "417:\tlearn: 0.1878187\ttotal: 4.56s\tremaining: 895ms\n",
      "418:\tlearn: 0.1877599\ttotal: 4.58s\tremaining: 885ms\n",
      "419:\tlearn: 0.1876579\ttotal: 4.59s\tremaining: 875ms\n",
      "420:\tlearn: 0.1876391\ttotal: 4.61s\tremaining: 865ms\n",
      "421:\tlearn: 0.1876198\ttotal: 4.62s\tremaining: 855ms\n",
      "422:\tlearn: 0.1875350\ttotal: 4.64s\tremaining: 845ms\n",
      "423:\tlearn: 0.1874779\ttotal: 4.66s\tremaining: 835ms\n",
      "424:\tlearn: 0.1873570\ttotal: 4.67s\tremaining: 825ms\n",
      "425:\tlearn: 0.1873415\ttotal: 4.69s\tremaining: 815ms\n",
      "426:\tlearn: 0.1872668\ttotal: 4.71s\tremaining: 805ms\n",
      "427:\tlearn: 0.1872063\ttotal: 4.72s\tremaining: 794ms\n",
      "428:\tlearn: 0.1871629\ttotal: 4.74s\tremaining: 784ms\n",
      "429:\tlearn: 0.1871066\ttotal: 4.75s\tremaining: 773ms\n",
      "430:\tlearn: 0.1870395\ttotal: 4.76s\tremaining: 762ms\n",
      "431:\tlearn: 0.1869775\ttotal: 4.77s\tremaining: 751ms\n",
      "432:\tlearn: 0.1869696\ttotal: 4.79s\tremaining: 740ms\n",
      "433:\tlearn: 0.1868956\ttotal: 4.8s\tremaining: 730ms\n",
      "434:\tlearn: 0.1868331\ttotal: 4.81s\tremaining: 719ms\n",
      "435:\tlearn: 0.1867817\ttotal: 4.82s\tremaining: 707ms\n",
      "436:\tlearn: 0.1867218\ttotal: 4.83s\tremaining: 697ms\n",
      "437:\tlearn: 0.1866630\ttotal: 4.84s\tremaining: 685ms\n",
      "438:\tlearn: 0.1866126\ttotal: 4.85s\tremaining: 673ms\n",
      "439:\tlearn: 0.1864883\ttotal: 4.86s\tremaining: 662ms\n",
      "440:\tlearn: 0.1864027\ttotal: 4.86s\tremaining: 651ms\n",
      "441:\tlearn: 0.1863590\ttotal: 4.87s\tremaining: 639ms\n",
      "442:\tlearn: 0.1862819\ttotal: 4.88s\tremaining: 628ms\n",
      "443:\tlearn: 0.1862328\ttotal: 4.89s\tremaining: 616ms\n",
      "444:\tlearn: 0.1861607\ttotal: 4.89s\tremaining: 605ms\n",
      "445:\tlearn: 0.1861143\ttotal: 4.9s\tremaining: 594ms\n",
      "446:\tlearn: 0.1860633\ttotal: 4.91s\tremaining: 583ms\n",
      "447:\tlearn: 0.1860062\ttotal: 4.92s\tremaining: 572ms\n",
      "448:\tlearn: 0.1859578\ttotal: 4.93s\tremaining: 560ms\n",
      "449:\tlearn: 0.1858891\ttotal: 4.94s\tremaining: 549ms\n",
      "450:\tlearn: 0.1858178\ttotal: 4.95s\tremaining: 538ms\n",
      "451:\tlearn: 0.1857878\ttotal: 4.96s\tremaining: 527ms\n",
      "452:\tlearn: 0.1857365\ttotal: 4.97s\tremaining: 515ms\n",
      "453:\tlearn: 0.1857103\ttotal: 4.97s\tremaining: 504ms\n",
      "454:\tlearn: 0.1856593\ttotal: 4.98s\tremaining: 493ms\n",
      "455:\tlearn: 0.1855823\ttotal: 4.99s\tremaining: 482ms\n",
      "456:\tlearn: 0.1855139\ttotal: 5s\tremaining: 471ms\n",
      "457:\tlearn: 0.1855022\ttotal: 5.01s\tremaining: 459ms\n",
      "458:\tlearn: 0.1854726\ttotal: 5.02s\tremaining: 448ms\n",
      "459:\tlearn: 0.1854555\ttotal: 5.03s\tremaining: 437ms\n",
      "460:\tlearn: 0.1854170\ttotal: 5.04s\tremaining: 426ms\n",
      "461:\tlearn: 0.1853303\ttotal: 5.05s\tremaining: 415ms\n",
      "462:\tlearn: 0.1853191\ttotal: 5.06s\tremaining: 404ms\n",
      "463:\tlearn: 0.1852501\ttotal: 5.07s\tremaining: 393ms\n",
      "464:\tlearn: 0.1851578\ttotal: 5.08s\tremaining: 382ms\n",
      "465:\tlearn: 0.1851058\ttotal: 5.09s\tremaining: 372ms\n",
      "466:\tlearn: 0.1850892\ttotal: 5.1s\tremaining: 360ms\n",
      "467:\tlearn: 0.1850363\ttotal: 5.11s\tremaining: 350ms\n",
      "468:\tlearn: 0.1850302\ttotal: 5.12s\tremaining: 338ms\n",
      "469:\tlearn: 0.1849668\ttotal: 5.13s\tremaining: 328ms\n",
      "470:\tlearn: 0.1849492\ttotal: 5.15s\tremaining: 317ms\n",
      "471:\tlearn: 0.1848802\ttotal: 5.16s\tremaining: 306ms\n",
      "472:\tlearn: 0.1848467\ttotal: 5.18s\tremaining: 296ms\n",
      "473:\tlearn: 0.1847517\ttotal: 5.2s\tremaining: 285ms\n",
      "474:\tlearn: 0.1846991\ttotal: 5.22s\tremaining: 275ms\n",
      "475:\tlearn: 0.1846625\ttotal: 5.23s\tremaining: 264ms\n",
      "476:\tlearn: 0.1846007\ttotal: 5.25s\tremaining: 253ms\n",
      "477:\tlearn: 0.1845613\ttotal: 5.27s\tremaining: 243ms\n",
      "478:\tlearn: 0.1845027\ttotal: 5.31s\tremaining: 233ms\n",
      "479:\tlearn: 0.1844389\ttotal: 5.34s\tremaining: 222ms\n",
      "480:\tlearn: 0.1843801\ttotal: 5.37s\tremaining: 212ms\n",
      "481:\tlearn: 0.1843174\ttotal: 5.39s\tremaining: 201ms\n",
      "482:\tlearn: 0.1842565\ttotal: 5.42s\tremaining: 191ms\n",
      "483:\tlearn: 0.1841951\ttotal: 5.45s\tremaining: 180ms\n",
      "484:\tlearn: 0.1841517\ttotal: 5.47s\tremaining: 169ms\n",
      "485:\tlearn: 0.1841146\ttotal: 5.5s\tremaining: 158ms\n",
      "486:\tlearn: 0.1840680\ttotal: 5.52s\tremaining: 147ms\n",
      "487:\tlearn: 0.1840007\ttotal: 5.54s\tremaining: 136ms\n",
      "488:\tlearn: 0.1839585\ttotal: 5.56s\tremaining: 125ms\n",
      "489:\tlearn: 0.1839070\ttotal: 5.58s\tremaining: 114ms\n",
      "490:\tlearn: 0.1838585\ttotal: 5.61s\tremaining: 103ms\n",
      "491:\tlearn: 0.1838544\ttotal: 5.62s\tremaining: 91.3ms\n",
      "492:\tlearn: 0.1838467\ttotal: 5.63s\tremaining: 80ms\n",
      "493:\tlearn: 0.1838359\ttotal: 5.64s\tremaining: 68.5ms\n",
      "494:\tlearn: 0.1837255\ttotal: 5.65s\tremaining: 57.1ms\n",
      "495:\tlearn: 0.1836566\ttotal: 5.66s\tremaining: 45.7ms\n",
      "496:\tlearn: 0.1836218\ttotal: 5.67s\tremaining: 34.3ms\n",
      "497:\tlearn: 0.1835932\ttotal: 5.69s\tremaining: 22.9ms\n",
      "498:\tlearn: 0.1835471\ttotal: 5.71s\tremaining: 11.4ms\n",
      "499:\tlearn: 0.1834989\ttotal: 5.71s\tremaining: 0us\n"
     ]
    },
    {
     "data": {
      "text/plain": [
       "<catboost.core.CatBoostRegressor at 0x209bd49d0d0>"
      ]
     },
     "execution_count": 15,
     "metadata": {},
     "output_type": "execute_result"
    }
   ],
   "source": [
    "from catboost import CatBoostRegressor\n",
    "model = CatBoostRegressor(n_estimators=500,random_state=41)\n",
    "model.fit(X_train_1,a) "
   ]
  },
  {
   "cell_type": "code",
   "execution_count": 16,
   "metadata": {},
   "outputs": [
    {
     "data": {
      "text/plain": [
       "RandomForestRegressor(n_estimators=500, random_state=41)"
      ]
     },
     "execution_count": 16,
     "metadata": {},
     "output_type": "execute_result"
    }
   ],
   "source": [
    "from sklearn.ensemble import RandomForestRegressor\n",
    "model = RandomForestRegressor(n_estimators=500,random_state=41)\n",
    "model.fit(X_train_1,a)"
   ]
  },
  {
   "cell_type": "code",
   "execution_count": 17,
   "metadata": {},
   "outputs": [
    {
     "data": {
      "text/plain": [
       "0.020242639564592897"
      ]
     },
     "execution_count": 17,
     "metadata": {},
     "output_type": "execute_result"
    }
   ],
   "source": [
    "from sklearn.metrics import mean_squared_error\n",
    "y_pred_train = model.predict(X_train_1)\n",
    "mean_squared_error(y_train, y_pred_train) #0.057561210361352685"
   ]
  },
  {
   "cell_type": "code",
   "execution_count": 18,
   "metadata": {},
   "outputs": [
    {
     "data": {
      "text/plain": [
       "0.07961054277075157"
      ]
     },
     "execution_count": 18,
     "metadata": {},
     "output_type": "execute_result"
    }
   ],
   "source": [
    "from sklearn.metrics import mean_absolute_error\n",
    "mean_absolute_error(y_train,y_pred_train) #0.13047523438351494"
   ]
  },
  {
   "cell_type": "markdown",
   "metadata": {},
   "source": [
    "# ETC(regression modeling)"
   ]
  },
  {
   "cell_type": "code",
   "execution_count": 20,
   "metadata": {},
   "outputs": [
    {
     "data": {
      "text/plain": [
       "{'max_depth': 10, 'max_features': 8, 'n_estimators': 400}"
      ]
     },
     "execution_count": 20,
     "metadata": {},
     "output_type": "execute_result"
    }
   ],
   "source": [
    "from sklearn.model_selection import cross_val_score\n",
    "from sklearn.model_selection import GridSearchCV\n",
    "\n",
    "rfr=RandomForestRegressor(random_state=41)\n",
    "param_grid = {\n",
    "    \"n_estimators\":[100,200,300,400,500],\n",
    "    \"max_depth\":[10, 50, 100],\n",
    "    \"max_features\":[6,8,10,12,14,16]\n",
    "}\n",
    "CV_rfc = GridSearchCV(estimator=rfr, param_grid=param_grid, cv= 5)\n",
    "CV_rfc.fit(X_train_1, a)\n",
    "CV_rfc.best_params_ #{'max_depth': 10, 'max_features': 8, 'n_estimators': 400}"
   ]
  },
  {
   "cell_type": "code",
   "execution_count": 22,
   "metadata": {},
   "outputs": [
    {
     "data": {
      "text/html": [
       "<style>#sk-container-id-3 {color: black;background-color: white;}#sk-container-id-3 pre{padding: 0;}#sk-container-id-3 div.sk-toggleable {background-color: white;}#sk-container-id-3 label.sk-toggleable__label {cursor: pointer;display: block;width: 100%;margin-bottom: 0;padding: 0.3em;box-sizing: border-box;text-align: center;}#sk-container-id-3 label.sk-toggleable__label-arrow:before {content: \"▸\";float: left;margin-right: 0.25em;color: #696969;}#sk-container-id-3 label.sk-toggleable__label-arrow:hover:before {color: black;}#sk-container-id-3 div.sk-estimator:hover label.sk-toggleable__label-arrow:before {color: black;}#sk-container-id-3 div.sk-toggleable__content {max-height: 0;max-width: 0;overflow: hidden;text-align: left;background-color: #f0f8ff;}#sk-container-id-3 div.sk-toggleable__content pre {margin: 0.2em;color: black;border-radius: 0.25em;background-color: #f0f8ff;}#sk-container-id-3 input.sk-toggleable__control:checked~div.sk-toggleable__content {max-height: 200px;max-width: 100%;overflow: auto;}#sk-container-id-3 input.sk-toggleable__control:checked~label.sk-toggleable__label-arrow:before {content: \"▾\";}#sk-container-id-3 div.sk-estimator input.sk-toggleable__control:checked~label.sk-toggleable__label {background-color: #d4ebff;}#sk-container-id-3 div.sk-label input.sk-toggleable__control:checked~label.sk-toggleable__label {background-color: #d4ebff;}#sk-container-id-3 input.sk-hidden--visually {border: 0;clip: rect(1px 1px 1px 1px);clip: rect(1px, 1px, 1px, 1px);height: 1px;margin: -1px;overflow: hidden;padding: 0;position: absolute;width: 1px;}#sk-container-id-3 div.sk-estimator {font-family: monospace;background-color: #f0f8ff;border: 1px dotted black;border-radius: 0.25em;box-sizing: border-box;margin-bottom: 0.5em;}#sk-container-id-3 div.sk-estimator:hover {background-color: #d4ebff;}#sk-container-id-3 div.sk-parallel-item::after {content: \"\";width: 100%;border-bottom: 1px solid gray;flex-grow: 1;}#sk-container-id-3 div.sk-label:hover label.sk-toggleable__label {background-color: #d4ebff;}#sk-container-id-3 div.sk-serial::before {content: \"\";position: absolute;border-left: 1px solid gray;box-sizing: border-box;top: 0;bottom: 0;left: 50%;z-index: 0;}#sk-container-id-3 div.sk-serial {display: flex;flex-direction: column;align-items: center;background-color: white;padding-right: 0.2em;padding-left: 0.2em;position: relative;}#sk-container-id-3 div.sk-item {position: relative;z-index: 1;}#sk-container-id-3 div.sk-parallel {display: flex;align-items: stretch;justify-content: center;background-color: white;position: relative;}#sk-container-id-3 div.sk-item::before, #sk-container-id-3 div.sk-parallel-item::before {content: \"\";position: absolute;border-left: 1px solid gray;box-sizing: border-box;top: 0;bottom: 0;left: 50%;z-index: -1;}#sk-container-id-3 div.sk-parallel-item {display: flex;flex-direction: column;z-index: 1;position: relative;background-color: white;}#sk-container-id-3 div.sk-parallel-item:first-child::after {align-self: flex-end;width: 50%;}#sk-container-id-3 div.sk-parallel-item:last-child::after {align-self: flex-start;width: 50%;}#sk-container-id-3 div.sk-parallel-item:only-child::after {width: 0;}#sk-container-id-3 div.sk-dashed-wrapped {border: 1px dashed gray;margin: 0 0.4em 0.5em 0.4em;box-sizing: border-box;padding-bottom: 0.4em;background-color: white;}#sk-container-id-3 div.sk-label label {font-family: monospace;font-weight: bold;display: inline-block;line-height: 1.2em;}#sk-container-id-3 div.sk-label-container {text-align: center;}#sk-container-id-3 div.sk-container {/* jupyter's `normalize.less` sets `[hidden] { display: none; }` but bootstrap.min.css set `[hidden] { display: none !important; }` so we also need the `!important` here to be able to override the default hidden behavior on the sphinx rendered scikit-learn.org. See: https://github.com/scikit-learn/scikit-learn/issues/21755 */display: inline-block !important;position: relative;}#sk-container-id-3 div.sk-text-repr-fallback {display: none;}</style><div id=\"sk-container-id-3\" class=\"sk-top-container\"><div class=\"sk-text-repr-fallback\"><pre>RandomForestRegressor(max_depth=10, max_features=8, n_estimators=400,\n",
       "                      random_state=41)</pre><b>In a Jupyter environment, please rerun this cell to show the HTML representation or trust the notebook. <br />On GitHub, the HTML representation is unable to render, please try loading this page with nbviewer.org.</b></div><div class=\"sk-container\" hidden><div class=\"sk-item\"><div class=\"sk-estimator sk-toggleable\"><input class=\"sk-toggleable__control sk-hidden--visually\" id=\"sk-estimator-id-3\" type=\"checkbox\" checked><label for=\"sk-estimator-id-3\" class=\"sk-toggleable__label sk-toggleable__label-arrow\">RandomForestRegressor</label><div class=\"sk-toggleable__content\"><pre>RandomForestRegressor(max_depth=10, max_features=8, n_estimators=400,\n",
       "                      random_state=41)</pre></div></div></div></div></div>"
      ],
      "text/plain": [
       "RandomForestRegressor(max_depth=10, max_features=8, n_estimators=400,\n",
       "                      random_state=41)"
      ]
     },
     "execution_count": 22,
     "metadata": {},
     "output_type": "execute_result"
    }
   ],
   "source": [
    "from sklearn.ensemble import RandomForestRegressor\n",
    "model = RandomForestRegressor(n_estimators=400,max_depth=10,max_features=8,random_state=41)\n",
    "model.fit(X_train_1,a)"
   ]
  },
  {
   "cell_type": "markdown",
   "metadata": {},
   "source": [
    "# Predict & Submit"
   ]
  },
  {
   "cell_type": "code",
   "execution_count": 23,
   "metadata": {},
   "outputs": [
    {
     "data": {
      "text/plain": [
       "array([0.01979386, 0.05034326, 0.1310325 , ..., 0.25774627, 0.04408541,\n",
       "       0.11709681])"
      ]
     },
     "execution_count": 23,
     "metadata": {},
     "output_type": "execute_result"
    }
   ],
   "source": [
    "pred=model.predict(test)\n",
    "pred"
   ]
  },
  {
   "cell_type": "code",
   "execution_count": 24,
   "metadata": {},
   "outputs": [],
   "source": [
    "threshold = 0.2085  #0.25로 해보기\n",
    "pred=np.where(pred < threshold,0,1)"
   ]
  },
  {
   "cell_type": "code",
   "execution_count": 25,
   "metadata": {},
   "outputs": [
    {
     "data": {
      "text/plain": [
       "0.09832809137560007"
      ]
     },
     "execution_count": 25,
     "metadata": {},
     "output_type": "execute_result"
    }
   ],
   "source": [
    "pred.mean()"
   ]
  },
  {
   "cell_type": "code",
   "execution_count": 26,
   "metadata": {},
   "outputs": [
    {
     "data": {
      "text/plain": [
       "0.8688787508610047"
      ]
     },
     "execution_count": 26,
     "metadata": {},
     "output_type": "execute_result"
    }
   ],
   "source": [
    "model.score(X_train_1,a)"
   ]
  },
  {
   "cell_type": "markdown",
   "metadata": {},
   "source": [
    "- 2.085 : dacon(0.6072947621) // best\n",
    "- 2.08  : dacon(0.6061250365)\n",
    "- 2.083 : dacon(0.6072947621) / mean(0.10296308558185731)"
   ]
  },
  {
   "cell_type": "code",
   "execution_count": 27,
   "metadata": {},
   "outputs": [],
   "source": [
    "sample_submission = pd.read_csv('C:\\\\Users\\\\Hyunsoo Kim\\\\Desktop\\\\3rd_grade\\\\smartcity_problem\\\\data\\\\oil\\\\sample_submission.csv')\n",
    "sample_submission['Y_LABEL'] = pred\n",
    "sample_submission.to_csv(\"C:\\\\Users\\\\Hyunsoo Kim\\\\Desktop\\\\3rd_grade\\\\smartcity_problem\\\\data\\\\oil\\\\submit.csv\", index = False)"
   ]
  }
 ],
 "metadata": {
  "kernelspec": {
   "display_name": "Python 3.10.8 64-bit",
   "language": "python",
   "name": "python3"
  },
  "language_info": {
   "codemirror_mode": {
    "name": "ipython",
    "version": 3
   },
   "file_extension": ".py",
   "mimetype": "text/x-python",
   "name": "python",
   "nbconvert_exporter": "python",
   "pygments_lexer": "ipython3",
   "version": "3.9.13"
  },
  "orig_nbformat": 4,
  "vscode": {
   "interpreter": {
    "hash": "3764a6b4d024379a92bddc659eecd2e6624078f5d24f14f3fc5d440401708809"
   }
  }
 },
 "nbformat": 4,
 "nbformat_minor": 2
}
